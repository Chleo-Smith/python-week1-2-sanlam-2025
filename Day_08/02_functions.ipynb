{
 "cells": [
  {
   "cell_type": "markdown",
   "metadata": {},
   "source": [
    "# Why functions\n",
    "- keep code DRY\n",
    "- Dont Repeat Yourself \n",
    "- principle, code smell\n",
    "- adding feat easy\n",
    "- fix bug in one place\n",
    "- logic updated in one place\n",
    "- `()` indicates function\n",
    "- control transfer on return or end of function\n",
    "-  no return then none assigned\n",
    "-  functions need to do one thing very well\n",
    "\n",
    "## function terms\n",
    "\n",
    "1. definition/declaration\n",
    "2. name (actual name of func)\n",
    "3. body (the code inside functions)\n",
    "4. parameters (var in function declaration)\n",
    "5. arguments (the numbers paased to func)\n",
    "6. call (actually calling func)"
   ]
  },
  {
   "cell_type": "code",
   "execution_count": null,
   "metadata": {},
   "outputs": [],
   "source": [
    "a = 1\n",
    "b = 3\n",
    "\n",
    "a + b"
   ]
  },
  {
   "cell_type": "code",
   "execution_count": null,
   "metadata": {},
   "outputs": [],
   "source": [
    "b = 4\n",
    "a = 10\n",
    "\n",
    "a+b #logic repeasted"
   ]
  },
  {
   "cell_type": "code",
   "execution_count": null,
   "metadata": {},
   "outputs": [],
   "source": [
    "# function declaration/ definition - 1 time\n",
    "def add(a, b):\n",
    "    return round(a + b, 2)\n",
    "\n",
    "c1 = add(1, 3) #function call #execution\n",
    "\n",
    "print(c1)"
   ]
  },
  {
   "cell_type": "code",
   "execution_count": null,
   "metadata": {},
   "outputs": [],
   "source": [
    "def greet(name):\n",
    "    return f\"Hi {name}!👋\"\n",
    "\n",
    "print(greet(\"Chleo\"))"
   ]
  },
  {
   "cell_type": "code",
   "execution_count": null,
   "metadata": {},
   "outputs": [],
   "source": [
    "def driving_test(name, age):\n",
    "    return (\n",
    "        f\"{name} is eligible for driving.\"\n",
    "        if age >= 18\n",
    "        else \"Try again after few years 👶\"\n",
    "    )\n",
    "\n",
    "print(driving_test(\"Chleo\", 25))\n",
    "print(driving_test(\"Skye\", 14))"
   ]
  },
  {
   "cell_type": "code",
   "execution_count": null,
   "metadata": {},
   "outputs": [],
   "source": [
    "def pattern(icon, times):\n",
    "    output = \"\"\n",
    "    for i in range(1, times + 1):\n",
    "        output += icon * i + \"\\n\"\n",
    "    return output\n",
    "\n",
    "print(pattern(\"🥕\", 5))\n",
    "print(pattern(\"🥔\", 3))"
   ]
  },
  {
   "cell_type": "code",
   "execution_count": null,
   "metadata": {},
   "outputs": [],
   "source": [
    "def pattern(icon, times):\n",
    "\n",
    "    return \"\\n\".join([icon * i for i in range(1, times + 1)])\n",
    "\n",
    "\n",
    "print(pattern(\"🥕\", 5))\n",
    "print(pattern(\"🥔\", 3))"
   ]
  },
  {
   "cell_type": "code",
   "execution_count": null,
   "metadata": {},
   "outputs": [],
   "source": [
    "def greet(name):\n",
    "    greetings = \"\"\n",
    "    for name in names:\n",
    "        greetings += f\"Hi {name}! 👋 \\n\"\n",
    "    return greetings #f\"Hi {name}! 👋\"\n",
    "\n",
    "\n",
    "names = [\"Anita\", \"Jamie\", \"Divyali\", \"Siyanda\"]\n",
    "\n",
    "print(greet(names))\n"
   ]
  },
  {
   "cell_type": "code",
   "execution_count": null,
   "metadata": {},
   "outputs": [],
   "source": [
    "def greet(name):\n",
    "    return \"\\n\".join([f\"Hi {name}! 👋\" for name in names])\n",
    "\n",
    "\n",
    "names = [\"Anita\", \"Jamie\", \"Divyali\", \"Siyanda\"]\n",
    "\n",
    "print(greet(names))\n"
   ]
  },
  {
   "cell_type": "code",
   "execution_count": null,
   "metadata": {},
   "outputs": [
    {
     "name": "stdout",
     "output_type": "stream",
     "text": [
      "[{'title': 'Python Programming', 'author': 'Eric Matthes', 'year': 2019, 'available': True}, {'title': 'Automate the Boring Stuff with Python', 'author': 'Al Sweigart', 'year': 2020, 'available': True}, {'title': 'Learning Python I', 'author': 'Mark Lutz', 'year': 2013, 'available': False}, {'title': 'Fluent Python', 'author': 'Luciano Ramalho', 'year': 2015, 'available': True}, {'title': 'Adavance Python', 'author': 'Mark Lutz', 'year': 2015, 'available': False}, {'title': 'Chleo', 'author': 'Smith', 'year': 1999, 'available': True}]\n",
      "Bye 😄👋\n"
     ]
    }
   ],
   "source": [
    "library_list = [\n",
    "    {\n",
    "        \"title\": \"Python Programming\",\n",
    "        \"author\": \"Eric Matthes\",\n",
    "        \"year\": 2019,\n",
    "        \"available\": True,\n",
    "    },\n",
    "    {\n",
    "        \"title\": \"Automate the Boring Stuff with Python\",\n",
    "        \"author\": \"Al Sweigart\",\n",
    "        \"year\": 2020,\n",
    "        \"available\": True,\n",
    "    },\n",
    "    {\n",
    "        \"title\": \"Learning Python I\",\n",
    "        \"author\": \"Mark Lutz\",\n",
    "        \"year\": 2013,\n",
    "        \"available\": False,\n",
    "    },\n",
    "    {\n",
    "        \"title\": \"Fluent Python\",\n",
    "        \"author\": \"Luciano Ramalho\",\n",
    "        \"year\": 2015,\n",
    "        \"available\": True,\n",
    "    },\n",
    "    {\n",
    "        \"title\": \"Adavance Python\",\n",
    "        \"author\": \"Mark Lutz\",\n",
    "        \"year\": 2015,\n",
    "        \"available\": False,\n",
    "    },\n",
    "]\n",
    "\n",
    "exit = True\n",
    "\n",
    "# Please choose an option: 1\n",
    "# Please tell me the title?\n",
    "# Please tell me the author?\n",
    "# Please tell me the year?\n",
    "# Please tell me the available?\n",
    "def add():\n",
    "    title = input(\"Please tell me the title? \")\n",
    "    author = input(\"Please tell me the author? \")\n",
    "    year = int(input(\"Please tell me the year? \"))\n",
    "    available = bool(input(\"Please tell me the available? \"))\n",
    "\n",
    "    entry = {\"title\" : title, \"author\": author, \"year\" : year, \"available\": available}\n",
    "    library_list.append(entry)\n",
    "\n",
    "    return\n",
    "\n",
    "def  print_library():\n",
    "    return library_list\n",
    "\n",
    "def exit_library():\n",
    "    print(\"Bye 😄👋\")\n",
    "    return\n",
    "\n",
    "# Output\n",
    "# Welcome to our Library app\n",
    "# Main menu:\n",
    "# 1. Add book to the library\n",
    "# 2. Print all the books\n",
    "# 3. Exit\n",
    "\n",
    "while exit:\n",
    "    inp = int(input(\"\"\"Welcome to our Library app\n",
    "                Main menu:\n",
    "                1. Add book to the library\n",
    "                2. Print all the books\n",
    "                3. Exit\n",
    "\n",
    "                Please choose an option:\n",
    "                \"\"\"))\n",
    "\n",
    "    if inp == 1:\n",
    "        add()\n",
    "\n",
    "    elif inp == 2:\n",
    "        print(print_library())\n",
    "\n",
    "    elif inp == 3:\n",
    "        exit_library()\n",
    "        exit = False\n",
    "    else:\n",
    "        print(f\"Option {inp} not available in menu. Program will exit\")\n",
    "        exit_library()\n",
    "        exit = False\n"
   ]
  }
 ],
 "metadata": {
  "kernelspec": {
   "display_name": ".venv",
   "language": "python",
   "name": "python3"
  },
  "language_info": {
   "codemirror_mode": {
    "name": "ipython",
    "version": 3
   },
   "file_extension": ".py",
   "mimetype": "text/x-python",
   "name": "python",
   "nbconvert_exporter": "python",
   "pygments_lexer": "ipython3",
   "version": "3.13.2"
  }
 },
 "nbformat": 4,
 "nbformat_minor": 2
}
