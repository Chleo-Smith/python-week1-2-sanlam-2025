{
 "cells": [
  {
   "cell_type": "markdown",
   "metadata": {},
   "source": [
    "# Sets\n",
    "\n",
    "- no duplicates\n",
    "- order is not guaranteed \n",
    "- sets are mutable\n",
    "- set() is the empty set\n",
    "- no index in set\n",
    "- `add` adds one item\n",
    "- `update` adds multiple items"
   ]
  },
  {
   "cell_type": "code",
   "execution_count": null,
   "metadata": {},
   "outputs": [
    {
     "data": {
      "text/plain": [
       "{1, 2, 3, 4, 5, 100}"
      ]
     },
     "execution_count": 1,
     "metadata": {},
     "output_type": "execute_result"
    }
   ],
   "source": [
    "nums = {100, 1,2 ,3, 3, 4, 5, 5}\n",
    "\n",
    "nums.add"
   ]
  },
  {
   "cell_type": "code",
   "execution_count": 2,
   "metadata": {},
   "outputs": [
    {
     "data": {
      "text/plain": [
       "{'e-reader', 'laptop', 'smartphone', 'tablet'}"
      ]
     },
     "execution_count": 2,
     "metadata": {},
     "output_type": "execute_result"
    }
   ],
   "source": [
    "tech_gadgest = {\"smartphone\", \"laptop\", \"tablet\"}\n",
    "tech_gadgest.add(\"e-reader\")\n",
    "tech_gadgest.add(\"e-reader\")\n",
    "\n",
    "tech_gadgest"
   ]
  },
  {
   "cell_type": "markdown",
   "metadata": {},
   "source": [
    "## CRUD methods\n",
    "- Create\n",
    "    1. `name = {items}`\n",
    "- Read\n",
    "    1. `for loop`\n",
    "- update\n",
    "    1. `add()`\n",
    "    2.  `update(set)` add multiple values to set\n",
    "- Delete\n",
    "    1. `discard()` will not error if value is not there\n",
    "    2. `remove()` is not recommended\n",
    "    - the reason remove is even there is because it was added first. legacy code\n",
    "\n",
    "`set(list)` to convert `list(set)` to converts back"
   ]
  },
  {
   "cell_type": "code",
   "execution_count": null,
   "metadata": {},
   "outputs": [
    {
     "data": {
      "text/plain": [
       "{'⌚ Smartwatch', '💻 Laptop', '📚 E-reader', '📱 Smartphone', '📱 Tablet'}"
      ]
     },
     "execution_count": 3,
     "metadata": {},
     "output_type": "execute_result"
    }
   ],
   "source": [
    "tech_gadgets = {\"📱 Smartphone\", \"💻 Laptop\", \"⌚ Smartwatch\", \"📱 Tablet\", \"📱 Tablet\"}\n",
    "\n",
    "for item in tech_gadgets:\n",
    "    print(item)\n",
    "tech_gadgets.add(\"📚 E-reader\")\n",
    "tech_gadgets.add(\"📚 E-reader\")\n",
    "tech_gadgets.add(\"📚 E-reader\")\n",
    "tech_gadgets.add(\"📚 E-reader\")\n",
    "tech_gadgets\n"
   ]
  },
  {
   "cell_type": "code",
   "execution_count": 4,
   "metadata": {},
   "outputs": [
    {
     "data": {
      "text/plain": [
       "{'⌚ Smartwatch',\n",
       " '💻 Laptop',\n",
       " '📚 E-reader',\n",
       " '📱 Smartphone',\n",
       " '📱 Tablet',\n",
       " '🛸 Drone',\n",
       " '🤳 Selfie stick'}"
      ]
     },
     "execution_count": 4,
     "metadata": {},
     "output_type": "execute_result"
    }
   ],
   "source": [
    "more_gadgets = [\"🛸 Drone\", \"🤳 Selfie stick\"]\n",
    "\n",
    "for gadget in more_gadgets:\n",
    "    tech_gadgets.add(gadget)\n",
    "\n",
    "\n",
    "tech_gadgets\n"
   ]
  },
  {
   "cell_type": "code",
   "execution_count": 5,
   "metadata": {},
   "outputs": [],
   "source": [
    "tech_gadgets = {\"📱 Smartphone\", \"💻 Laptop\", \"⌚ Smartwatch\", \"📱 Tablet\", \"📱 Tablet\"}\n",
    "tech_gadgets.add(\"📚 E-reader\")  # One item\n",
    "more_gadgets = [\"🛸 Drone\", \"🤳 Selfie stick\"]\n",
    "\n",
    "\n",
    "tech_gadgets.update(more_gadgets)  # Multiple items\n",
    "nice_gadgets = tech_gadgets\n"
   ]
  },
  {
   "cell_type": "code",
   "execution_count": null,
   "metadata": {},
   "outputs": [],
   "source": [
    "for gadget in nice_gadgets:\n",
    "    print(gadget)\n",
    "#nice_gadgets[0]  # no index in set"
   ]
  },
  {
   "cell_type": "code",
   "execution_count": null,
   "metadata": {},
   "outputs": [],
   "source": [
    "# nice_gadgets.remove('🛸 Drone') # avoid remove (Error if not exist)\n",
    "\n",
    "nice_gadgets.discard(\"🛸 Drone\")\n",
    "nice_gadgets.discard(\"abc\")  # Silently fails\n",
    "nice_gadgets\n"
   ]
  },
  {
   "cell_type": "code",
   "execution_count": null,
   "metadata": {},
   "outputs": [
    {
     "name": "stdout",
     "output_type": "stream",
     "text": [
      "['🔴 red', '🔵 blue', '🟢 green', '💗 pink']\n"
     ]
    }
   ],
   "source": [
    "\n",
    "# Task\n",
    "# Remove the duplicates\n",
    "colors = [\"🔴 red\", \"🔵 blue\", \"🔴 red\", \"🟢 green\", \"💗 pink\", \"🔵 blue\"]\n",
    "\n",
    "\n",
    "# \"🔴 red\", \"🔵 blue\", \"🟢 green\", \"💗 pink\"\n",
    "set(colors)\n",
    "\n",
    "out =  []\n",
    "for index in range(len(colors)):\n",
    "    if colors[index] not in out:\n",
    "        out.append(colors[index])\n",
    "\n",
    "print(out)\n",
    "\n",
    "#output = [colors[index]  for index in range(len(colors)) if not (colors[index] not in )]\n",
    "\n",
    "# Easy\n",
    "print(set(colors))\n",
    "\n",
    "# Hard\n",
    "c = set()\n",
    "for color in colors:\n",
    "    c.add(color)\n",
    "print(c)\n"
   ]
  },
  {
   "cell_type": "code",
   "execution_count": null,
   "metadata": {},
   "outputs": [],
   "source": []
  }
 ],
 "metadata": {
  "kernelspec": {
   "display_name": ".venv",
   "language": "python",
   "name": "python3"
  },
  "language_info": {
   "codemirror_mode": {
    "name": "ipython",
    "version": 3
   },
   "file_extension": ".py",
   "mimetype": "text/x-python",
   "name": "python",
   "nbconvert_exporter": "python",
   "pygments_lexer": "ipython3",
   "version": "3.13.2"
  }
 },
 "nbformat": 4,
 "nbformat_minor": 2
}
