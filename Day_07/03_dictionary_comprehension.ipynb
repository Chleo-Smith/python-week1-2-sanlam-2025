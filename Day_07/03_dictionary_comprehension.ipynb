{
 "cells": [
  {
   "cell_type": "code",
   "execution_count": null,
   "metadata": {},
   "outputs": [],
   "source": [
    "# Task\n",
    "# Creating the below dictionary with for loop\n",
    "\n",
    "#{\"1\": 1, \"2\": 4, \"3\": 9, \"4\": 16, \"5\": 25}\n",
    "\n",
    "numbers = {str(num): (num) ** 2 for num in range(1, 6)}\n",
    "\n",
    "# for num in range(5):\n",
    "#    number[str(num + 1)] = (num+1) ** 2\n",
    "\n",
    "numbers\n"
   ]
  }
 ],
 "metadata": {
  "kernelspec": {
   "display_name": ".venv",
   "language": "python",
   "name": "python3"
  },
  "language_info": {
   "codemirror_mode": {
    "name": "ipython",
    "version": 3
   },
   "file_extension": ".py",
   "mimetype": "text/x-python",
   "name": "python",
   "nbconvert_exporter": "python",
   "pygments_lexer": "ipython3",
   "version": "3.13.2"
  }
 },
 "nbformat": 4,
 "nbformat_minor": 2
}
