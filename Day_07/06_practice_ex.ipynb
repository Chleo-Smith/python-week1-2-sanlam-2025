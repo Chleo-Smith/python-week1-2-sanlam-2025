{
 "cells": [
  {
   "cell_type": "code",
   "execution_count": null,
   "metadata": {},
   "outputs": [],
   "source": [
    "\n",
    "guests = [{\n",
    "    \"name\": \"Alice\",\n",
    "    \"age\": 25,\n",
    "    \"code\": \"VIP123\"\n",
    "}, {\n",
    "    \"name\": \"Bob\",\n",
    "    \"age\": 17,\n",
    "    \"code\": \"VIP123\"\n",
    "}, {\n",
    "    \"name\": \"Charlie\",\n",
    "    \"age\": 30,\n",
    "    \"code\": \"VIP123\"\n",
    "}, {\n",
    "    \"name\": \"Dave\",\n",
    "    \"age\": 22,\n",
    "    \"code\": \"GUEST\"\n",
    "}, {\n",
    "    \"name\": \"Eve\",\n",
    "    \"age\": 29,\n",
    "    \"code\": \"VIP123\"\n",
    "}]\n",
    "\n",
    "blacklist = [\"Dave\", \"Eve\"]\n",
    "PASS_CODE = \"VIP123\"\n",
    "guestlist = []\n",
    "\n",
    "for guest in guests:\n",
    "    if (guest[\"name\"] not in blacklist) and (guest[\"code\"] == PASS_CODE) and (guest[\"age\"] > 21):\n",
    "                guestlist.append(guest[\"name\"])\n",
    "\n",
    "print(guestlist)\n",
    "\n",
    "guestlist_simple = [guest[\"name\"] for guest in guests if (guest[\"name\"] not in blacklist) and (guest[\"code\"] == PASS_CODE) and (guest[\"age\"] > 21)]\n",
    "\n",
    "print(guestlist_simple)"
   ]
  },
  {
   "cell_type": "code",
   "execution_count": null,
   "metadata": {},
   "outputs": [
    {
     "name": "stdout",
     "output_type": "stream",
     "text": [
      "{'Italian Place': {'🥖': 3.99, '🥗': 7.99}, 'Burger Joint': {'🍔': 8.99, '🍟': 3.99, '🥤': 1.99, '🍦': 4.99}, 'Sushi Bar': {'🍙': 6.99, '🍶': 9.99}, 'Health Spot': {'🥗': 9.99, '🥙': 8.99, '🥑': 4.99, '🥝': 3.99}}\n"
     ]
    }
   ],
   "source": [
    "# Task 2 (Challenging)\n",
    "\n",
    "# Restaurant menus with emoji food items and prices\n",
    "restaurant_menus = [\n",
    "    {\n",
    "        \"restaurant\": \"Italian Place\",\n",
    "        \"menu\": {\"🍕\": 12.99, \"🍝\": 10.99, \"🥖\": 3.99, \"🥗\": 7.99},\n",
    "    },\n",
    "    {\n",
    "        \"restaurant\": \"Burger Joint\",\n",
    "        \"menu\": {\"🍔\": 8.99, \"🍟\": 3.99, \"🥤\": 1.99, \"🍦\": 4.99},\n",
    "    },\n",
    "    {\n",
    "        \"restaurant\": \"Sushi Bar\",\n",
    "        \"menu\": {\"🍣\": 15.99, \"🍜\": 12.99, \"🍙\": 6.99, \"🍶\": 9.99},\n",
    "    },\n",
    "    {\n",
    "        \"restaurant\": \"Health Spot\",\n",
    "        \"menu\": {\"🥗\": 9.99, \"🥙\": 8.99, \"🥑\": 4.99, \"🥝\": 3.99},\n",
    "    },\n",
    "]\n",
    "\n",
    "# Expected output\n",
    "# Output\n",
    "{\n",
    "    \"Italian Place\": {\"🥖\": 3.99, \"🥗\": 7.99},\n",
    "    \"Burger Joint\": {\"🍔\": 8.99, \"🍟\": 3.99, \"🥤\": 1.99, \"🍦\": 4.99},\n",
    "    \"Sushi Bar\": {\"🍙\": 6.99},\n",
    "    \"Health Spot\": {\"🥙\": 8.99, \"🥑\": 4.99, \"🥝\": 3.99},\n",
    "}\n",
    "\n",
    "output = {}\n",
    "for item in restaurant_menus:\n",
    "    key = item[\"restaurant\"]\n",
    "    value = {}\n",
    "\n",
    "    for i in item[\"menu\"]:\n",
    "        if(item[\"menu\"][i] < 10):\n",
    "            value[i] = item[\"menu\"][i]\n",
    "    output[key] =  value\n",
    "\n",
    "print(output)\n",
    "\n",
    "out = {key:value for item, list in restaurant_menus}\n"
   ]
  }
 ],
 "metadata": {
  "kernelspec": {
   "display_name": ".venv",
   "language": "python",
   "name": "python3"
  },
  "language_info": {
   "codemirror_mode": {
    "name": "ipython",
    "version": 3
   },
   "file_extension": ".py",
   "mimetype": "text/x-python",
   "name": "python",
   "nbconvert_exporter": "python",
   "pygments_lexer": "ipython3",
   "version": "3.13.2"
  }
 },
 "nbformat": 4,
 "nbformat_minor": 2
}
