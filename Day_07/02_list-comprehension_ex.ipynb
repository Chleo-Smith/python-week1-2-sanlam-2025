{
 "cells": [
  {
   "cell_type": "code",
   "execution_count": null,
   "metadata": {},
   "outputs": [
    {
     "data": {
      "text/plain": [
       "[4.6, 4.6, 3.8, 5.0, 4.4]"
      ]
     },
     "execution_count": 13,
     "metadata": {},
     "output_type": "execute_result"
    }
   ],
   "source": [
    "movies = [\n",
    "    {\"title\": \"Inception\", \"ratings\": [5, 4, 5, 4, 5]},\n",
    "    {\"title\": \"Interstellar\", \"ratings\": [5, 5, 4, 5, 4]},\n",
    "    {\"title\": \"Dunkirk\", \"ratings\": [4, 4, 4, 3, 4]},\n",
    "    {\"title\": \"The Dark Knight\", \"ratings\": [5, 5, 5, 5, 5]},\n",
    "    {\"title\": \"Memento\", \"ratings\": [4, 5, 4, 5, 4]},\n",
    "]\n",
    "\n",
    "# Task 1 - With List Comp\n",
    "# Output\n",
    "# [\"Inception\", \"Interstellar\", \"Dunkirk\", \"The Dark Knight\", \"Memento\"]\n",
    "movie_titles = [movie.get(\"title\") for movie in movies]\n",
    "movie_titles\n",
    "\n",
    "#Task 1.2\n",
    "#Average rating of each movie\n",
    "\n",
    "#Output\n",
    "#[ 4.6, 4.2, 4.1, 5, 4.2]\n",
    "average_rating = [sum(rating[\"ratings\"])/len(rating[\"ratings\"]) for rating in movies]\n",
    "average_rating\n",
    "\n",
    "#for rating in movies:\n",
    "#    print(sum(rating.get(\"ratings\"))) # type: ignore\n"
   ]
  },
  {
   "cell_type": "code",
   "execution_count": 33,
   "metadata": {},
   "outputs": [
    {
     "data": {
      "text/plain": [
       "[{'title': 'Inception', 'ratings': [5, 4, 5, 4, 5], 'average_rating': 4.6},\n",
       " {'title': 'Interstellar', 'ratings': [5, 5, 4, 5, 4], 'average_rating': 4.6},\n",
       " {'title': 'Dunkirk', 'ratings': [4, 4, 4, 3, 4], 'average_rating': 3.8},\n",
       " {'title': 'The Dark Knight',\n",
       "  'ratings': [5, 5, 5, 5, 5],\n",
       "  'average_rating': 5.0},\n",
       " {'title': 'Memento', 'ratings': [4, 5, 4, 5, 4], 'average_rating': 4.4}]"
      ]
     },
     "execution_count": 33,
     "metadata": {},
     "output_type": "execute_result"
    }
   ],
   "source": [
    "# Task 1.3\n",
    "# Don't modify original movies list\n",
    "\n",
    "# Output\n",
    "# [\n",
    "#    {\"title\": \"Inception\", \"ratings\": [5, 4, 5, 4, 5], \"average_rating\": 4.6},\n",
    "#    {\"title\": \"Interstellar\", \"ratings\": [5, 5, 4, 5, 4], \"average_rating\": 4.2},\n",
    "#    {\"title\": \"Dunkirk\", \"ratings\": [4, 4, 4, 3, 4], \"average_rating\": 4.1},\n",
    "#    {\"title\": \"The Dark Knight\", \"ratings\": [5, 5, 5, 5, 5], \"average_rating\": 5},\n",
    "#    {\"title\": \"Memento\", \"ratings\": [4, 5, 4, 5, 4], \"average_rating\": 4.2},\n",
    "# ]\n",
    "\n",
    "average_rating = [sum(rating[\"ratings\"]) / len(rating[\"ratings\"]) for rating in movies]\n",
    "\n",
    "#output = [\n",
    "#    {**movies[index], \"average_rating\": average_rating[index]}\n",
    "#    for index in range(len(average_rating))\n",
    "#]\n",
    "\n",
    "output =     [\n",
    "        {**movie, \"average_rating\": sum(movie[\"ratings\"]) / len(movie[\"ratings\"])}\n",
    "        for movie in movies\n",
    "    ]\n",
    "\n",
    "\n",
    "output"
   ]
  },
  {
   "cell_type": "code",
   "execution_count": null,
   "metadata": {},
   "outputs": [
    {
     "data": {
      "text/plain": [
       "['Inception', 'Interstellar', 'The Dark Knight']"
      ]
     },
     "execution_count": 34,
     "metadata": {},
     "output_type": "execute_result"
    }
   ],
   "source": [
    "#Task 1.4\n",
    "#Need top rated movies: average_rating >= 4.6\n",
    "\n",
    "#Output\n",
    "#[\"Inception\", \"The Dark Knight\"]\n",
    "\n",
    "output = [\n",
    "    movie[\"title\"]\n",
    "    for movie in movies\n",
    "    if sum(movie[\"ratings\"]) / len(movie[\"ratings\"]) >= 4.6\n",
    "    ]\n",
    "\n",
    "output\n"
   ]
  },
  {
   "cell_type": "code",
   "execution_count": 36,
   "metadata": {},
   "outputs": [
    {
     "data": {
      "text/plain": [
       "{'1': 1, '2': 4, '3': 9, '4': 16, '5': 25}"
      ]
     },
     "execution_count": 36,
     "metadata": {},
     "output_type": "execute_result"
    }
   ],
   "source": [
    "# Task\n",
    "# Creating the below dictionary with for loop\n",
    "\n",
    "{\"1\": 1, \"2\": 4, \"3\": 9, \"4\": 16, \"5\": 25}\n",
    "\n",
    "number = { str(num + 1) : (num+1) ** 2 for num in range(5)}\n",
    "\n",
    "#for num in range(5):\n",
    "#    number[str(num + 1)] = (num+1) ** 2\n",
    "\n",
    "number"
   ]
  }
 ],
 "metadata": {
  "kernelspec": {
   "display_name": ".venv",
   "language": "python",
   "name": "python3"
  },
  "language_info": {
   "codemirror_mode": {
    "name": "ipython",
    "version": 3
   },
   "file_extension": ".py",
   "mimetype": "text/x-python",
   "name": "python",
   "nbconvert_exporter": "python",
   "pygments_lexer": "ipython3",
   "version": "3.13.2"
  }
 },
 "nbformat": 4,
 "nbformat_minor": 2
}
