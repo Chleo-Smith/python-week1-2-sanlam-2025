{
 "cells": [
  {
   "cell_type": "code",
   "execution_count": null,
   "metadata": {},
   "outputs": [],
   "source": [
    "movies = [\n",
    "    {\"title\": \"Inception\", \"ratings\": [5, 4, 5, 4, 5]},\n",
    "    {\"title\": \"Interstellar\", \"ratings\": [5, 5, 4, 5, 4]},\n",
    "    {\"title\": \"Dunkirk\", \"ratings\": [4, 4, 4, 3, 4]},\n",
    "    {\"title\": \"The Dark Knight\", \"ratings\": [5, 5, 5, 5, 5]},\n",
    "    {\"title\": \"Memento\", \"ratings\": [4, 5, 4, 5, 4]},\n",
    "]\n",
    "\n",
    "# Task 1 - With List Comp\n",
    "# Output\n",
    "# [\"Inception\", \"Interstellar\", \"Dunkirk\", \"The Dark Knight\", \"Memento\"]\n",
    "movie_titles = [movie.get(\"title\") for movie in movies]\n",
    "movie_titles\n",
    "\n",
    "#Task 1.2\n",
    "#Average rating of each movie\n",
    "\n",
    "#Output\n",
    "#[ 4.6, 4.2, 4.1, 5, 4.2]\n",
    "average_rating = [sum(rating[\"ratings\"])/len(rating[\"ratings\"]) for rating in movies]\n",
    "average_rating\n",
    "\n",
    "#for rating in movies:\n",
    "#    print(sum(rating.get(\"ratings\"))) # type: ignore\n"
   ]
  },
  {
   "cell_type": "code",
   "execution_count": null,
   "metadata": {},
   "outputs": [],
   "source": [
    "# Task 1.3\n",
    "# Don't modify original movies list\n",
    "\n",
    "# Output\n",
    "# [\n",
    "#    {\"title\": \"Inception\", \"ratings\": [5, 4, 5, 4, 5], \"average_rating\": 4.6},\n",
    "#    {\"title\": \"Interstellar\", \"ratings\": [5, 5, 4, 5, 4], \"average_rating\": 4.2},\n",
    "#    {\"title\": \"Dunkirk\", \"ratings\": [4, 4, 4, 3, 4], \"average_rating\": 4.1},\n",
    "#    {\"title\": \"The Dark Knight\", \"ratings\": [5, 5, 5, 5, 5], \"average_rating\": 5},\n",
    "#    {\"title\": \"Memento\", \"ratings\": [4, 5, 4, 5, 4], \"average_rating\": 4.2},\n",
    "# ]\n",
    "\n",
    "average_rating = [sum(rating[\"ratings\"]) / len(rating[\"ratings\"]) for rating in movies]\n",
    "\n",
    "#output = [\n",
    "#    {**movies[index], \"average_rating\": average_rating[index]}\n",
    "#    for index in range(len(average_rating))\n",
    "#]\n",
    "\n",
    "output =     [\n",
    "        {**movie, \"average_rating\": sum(movie[\"ratings\"]) / len(movie[\"ratings\"])}\n",
    "        for movie in movies\n",
    "    ]\n",
    "\n",
    "\n",
    "output"
   ]
  },
  {
   "cell_type": "code",
   "execution_count": null,
   "metadata": {},
   "outputs": [],
   "source": [
    "#Task 1.4\n",
    "#Need top rated movies: average_rating >= 4.6\n",
    "\n",
    "#Output\n",
    "#[\"Inception\", \"The Dark Knight\"]\n",
    "\n",
    "output = [\n",
    "    movie[\"title\"]\n",
    "    for movie in movies\n",
    "    if sum(movie[\"ratings\"]) / len(movie[\"ratings\"]) >= 4.6\n",
    "    ]\n",
    "\n",
    "output\n"
   ]
  },
  {
   "cell_type": "code",
   "execution_count": null,
   "metadata": {},
   "outputs": [],
   "source": [
    "# Task\n",
    "# Creating the below dictionary with for loop\n",
    "\n",
    "{\"1\": 1, \"2\": 4, \"3\": 9, \"4\": 16, \"5\": 25}\n",
    "\n",
    "number = { str(num + 1) : (num+1) ** 2 for num in range(5)}\n",
    "nums = {i:i**2 for i in range(1, 25) if i %2==0}\n",
    "#for num in range(5):\n",
    "#    number[str(num + 1)] = (num+1) ** 2\n",
    "\n",
    "number\n",
    "nums"
   ]
  },
  {
   "cell_type": "code",
   "execution_count": null,
   "metadata": {},
   "outputs": [],
   "source": [
    "# Task 1.1: Odd/Even Classification\n",
    "# Create a dictionary where keys are numbers from 1 to 10 and values are strings indicating whether the number is 'odd' or 'even'.\n",
    "# Expected Output:\n",
    "\n",
    "{\n",
    "    1: \"odd\",\n",
    "    2: \"even\",\n",
    "    3: \"odd\",\n",
    "    4: \"even\",\n",
    "    5: \"odd\",\n",
    "    6: \"even\",\n",
    "    7: \"odd\",\n",
    "    8: \"even\",\n",
    "    9: \"odd\",\n",
    "    10: \"even\",\n",
    "}\n",
    "\n",
    "output = {i: \"even\" if i % 2 == 0 else \"odd\" for i in range(1, 11)}\n",
    "output"
   ]
  },
  {
   "cell_type": "code",
   "execution_count": 48,
   "metadata": {},
   "outputs": [
    {
     "data": {
      "text/plain": [
       "{'banana': 2.5, 'orange': 3.0, 'kiwi': 4.0}"
      ]
     },
     "execution_count": 48,
     "metadata": {},
     "output_type": "execute_result"
    }
   ],
   "source": [
    "#Task 1.2: Filtering Fruits by Price\n",
    "#Given a dictionary of fruits with their prices, filter it to include only fruits priced above 2.\n",
    "\n",
    "fruits = {'apple': 1.2, 'banana': 2.5, 'orange': 3.0, 'kiwi': 4.0}\n",
    "#Expected Output:\n",
    "\n",
    "#{'banana': 2.5, 'orange': 3.0, 'kiwi': 4.0}\n",
    "filtered_fruit = {fruit: price for fruit, price in fruits.items() if price > 2}\n",
    "\n",
    "filtered_fruit"
   ]
  },
  {
   "cell_type": "code",
   "execution_count": null,
   "metadata": {},
   "outputs": [
    {
     "data": {
      "text/plain": [
       "{101: 'Alice', 102: 'Bob', 103: 'Charlie'}"
      ]
     },
     "execution_count": 49,
     "metadata": {},
     "output_type": "execute_result"
    }
   ],
   "source": [
    "#Task 1.3: Employee ID to Name Mapping\n",
    "#Given a list of employee dictionaries, create a dictionary mapping each employee's ID to their name.\n",
    "\n",
    "# Expected Output:\n",
    "\n",
    "#{101: \"Alice\", 102: \"Bob\", 103: \"Charlie\"}\n",
    "\n",
    "employees = [\n",
    "    {\"id\": 101, \"name\": \"Alice\", \"age\": 30},\n",
    "    {\"id\": 102, \"name\": \"Bob\", \"age\": 25},\n",
    "    {\"id\": 103, \"name\": \"Charlie\", \"age\": 35},\n",
    "]\n",
    "\n",
    "id_mapping = {\n",
    "    employee[\"id\"]: employee[\"name\"] for employee in employees\n",
    "}\n",
    "\n",
    "id_mapping"
   ]
  },
  {
   "cell_type": "code",
   "execution_count": null,
   "metadata": {},
   "outputs": [],
   "source": [
    "#Task 1.4: Filtered Employee ID to Age Mapping\n",
    "#From the same list of employee dictionaries, create a dictionary mapping employee IDs to ages, but only include those over 28.\n",
    "#Expected Output:\n",
    "#\n",
    "#{101: 30, 103: 35}\n",
    "\n",
    "employees = [\n",
    "    {\"id\": 101, \"name\": \"Alice\", \"age\": 30},\n",
    "    {\"id\": 102, \"name\": \"Bob\", \"age\": 25},\n",
    "    {\"id\": 103, \"name\": \"Charlie\", \"age\": 35},\n",
    "]\n",
    "\n",
    "id_age_mapping = {employee[\"id\"]: employee[\"age\"] for employee in employees if employee[\"age\"] > 28}\n",
    "id_age_mapping\n"
   ]
  }
 ],
 "metadata": {
  "kernelspec": {
   "display_name": ".venv",
   "language": "python",
   "name": "python3"
  },
  "language_info": {
   "codemirror_mode": {
    "name": "ipython",
    "version": 3
   },
   "file_extension": ".py",
   "mimetype": "text/x-python",
   "name": "python",
   "nbconvert_exporter": "python",
   "pygments_lexer": "ipython3",
   "version": "3.13.2"
  }
 },
 "nbformat": 4,
 "nbformat_minor": 2
}
