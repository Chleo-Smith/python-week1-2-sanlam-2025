{
 "cells": [
  {
   "cell_type": "code",
   "execution_count": 3,
   "metadata": {},
   "outputs": [
    {
     "name": "stdout",
     "output_type": "stream",
     "text": [
      "[90, 70, 45] <class 'list'>\n"
     ]
    }
   ],
   "source": [
    "m1, *t1, m2 = [80, 90, 70, 45, 95]\n",
    "\n",
    "print(t1, type(t1))"
   ]
  },
  {
   "cell_type": "code",
   "execution_count": 1,
   "metadata": {},
   "outputs": [
    {
     "name": "stdout",
     "output_type": "stream",
     "text": [
      "[100, 200, 300, 400] [100, 200, 300, 400]\n"
     ]
    }
   ],
   "source": [
    "t1 = [100, 200]\n",
    "t2 = [300,400]\n",
    "\n",
    "t3 = t1 +t2.copy()\n",
    "t1.extend(t2)\n",
    "print(f\"{t3} {t1}\")"
   ]
  },
  {
   "cell_type": "code",
   "execution_count": 2,
   "metadata": {},
   "outputs": [
    {
     "data": {
      "text/plain": [
       "[50, 100, 200, 80]"
      ]
     },
     "execution_count": 2,
     "metadata": {},
     "output_type": "execute_result"
    }
   ],
   "source": [
    "t1 = [100, 200]\n",
    "t2 = [300, 400]\n",
    "t3 = [50, *t1, 80]\n",
    "\n",
    "#also called unpacking operator\n",
    "\n",
    "t3"
   ]
  },
  {
   "cell_type": "code",
   "execution_count": 3,
   "metadata": {},
   "outputs": [
    {
     "data": {
      "text/plain": [
       "[100, 200, 300, 400]"
      ]
     },
     "execution_count": 3,
     "metadata": {},
     "output_type": "execute_result"
    }
   ],
   "source": [
    "t1 = [100, 200]\n",
    "t2 = [300, 400]\n",
    "\n",
    "t3 = [*t1, *t2]\n",
    "t3"
   ]
  },
  {
   "cell_type": "code",
   "execution_count": null,
   "metadata": {},
   "outputs": [],
   "source": [
    "t1 = (100, 200)\n",
    "t2 = (300, 400)\n",
    "\n",
    "t = t1 + t2\n",
    "t3 = (10, *t1, 70, 90, *t2, 90)\n",
    "t3\n"
   ]
  },
  {
   "cell_type": "code",
   "execution_count": 4,
   "metadata": {},
   "outputs": [
    {
     "name": "stdout",
     "output_type": "stream",
     "text": [
      "([1, '🍎'], [10, '🍊'], [8, '🍐', '🍊'])\n"
     ]
    }
   ],
   "source": [
    "veggie = ([1, \"🍎\"], [2, \"🍊\"], [8, \"🍐\"])\n",
    "\n",
    "veggie[1][0] = 10\n",
    "\n",
    "veggie[2].append(\"🍊\")\n",
    "print(veggie)"
   ]
  },
  {
   "cell_type": "code",
   "execution_count": null,
   "metadata": {},
   "outputs": [],
   "source": [
    "student = {\"name\" : \"Jamie\", \"age\" : 20}\n",
    "detail ="
   ]
  },
  {
   "cell_type": "code",
   "execution_count": 5,
   "metadata": {},
   "outputs": [
    {
     "ename": "TypeError",
     "evalue": "'tuple' object does not support item assignment",
     "output_type": "error",
     "traceback": [
      "\u001b[1;31m---------------------------------------------------------------------------\u001b[0m",
      "\u001b[1;31mTypeError\u001b[0m                                 Traceback (most recent call last)",
      "Cell \u001b[1;32mIn[5], line 4\u001b[0m\n\u001b[0;32m      1\u001b[0m veggie \u001b[38;5;241m=\u001b[39m ([\u001b[38;5;241m1\u001b[39m, \u001b[38;5;124m\"\u001b[39m\u001b[38;5;124m🍅\u001b[39m\u001b[38;5;124m\"\u001b[39m], [\u001b[38;5;241m2\u001b[39m, \u001b[38;5;124m\"\u001b[39m\u001b[38;5;124m🥔\u001b[39m\u001b[38;5;124m\"\u001b[39m], [\u001b[38;5;241m8\u001b[39m, \u001b[38;5;124m\"\u001b[39m\u001b[38;5;124m🥕\u001b[39m\u001b[38;5;124m\"\u001b[39m])\n\u001b[1;32m----> 4\u001b[0m \u001b[43mveggie\u001b[49m\u001b[43m[\u001b[49m\u001b[38;5;241;43m1\u001b[39;49m\u001b[43m]\u001b[49m \u001b[38;5;241m=\u001b[39m [\u001b[38;5;241m10\u001b[39m, \u001b[38;5;124m\"\u001b[39m\u001b[38;5;124m🥕\u001b[39m\u001b[38;5;124m\"\u001b[39m]  \u001b[38;5;66;03m# Error\u001b[39;00m\n\u001b[0;32m      5\u001b[0m veggie[\u001b[38;5;241m1\u001b[39m] \u001b[38;5;241m=\u001b[39m \u001b[38;5;124m\"\u001b[39m\u001b[38;5;124m3\u001b[39m\u001b[38;5;124m\"\u001b[39m  \u001b[38;5;66;03m# Error\u001b[39;00m\n",
      "\u001b[1;31mTypeError\u001b[0m: 'tuple' object does not support item assignment"
     ]
    }
   ],
   "source": [
    "veggie = ([1, \"🍅\"], [2, \"🥔\"], [8, \"🥕\"])\n",
    "\n",
    "\n",
    "veggie[1] = [10, \"🥕\"]  # Error\n",
    "veggie[1] = \"3\"  # Error\n"
   ]
  },
  {
   "cell_type": "code",
   "execution_count": 2,
   "metadata": {},
   "outputs": [
    {
     "data": {
      "text/plain": [
       "{'name': 'Jamie', 'age': 20, 'job': 'Sanlam', 'country': 'SA'}"
      ]
     },
     "execution_count": 2,
     "metadata": {},
     "output_type": "execute_result"
    }
   ],
   "source": [
    "student = {\"name\": \"Jamie\", \"age\": 20}\n",
    "detail = {\"job\": \"Sanlam\", \"country\": \"SA\"}\n",
    "\n",
    "all_details = {**student, **detail}  # ** -> unpacking operator\n",
    "\n",
    "all_details\n"
   ]
  },
  {
   "cell_type": "code",
   "execution_count": 7,
   "metadata": {},
   "outputs": [
    {
     "data": {
      "text/plain": [
       "{'country_code': '+27',\n",
       " 'name': 'Jamie',\n",
       " 'age': 18,\n",
       " 'job': 'Sanlam',\n",
       " 'country': 'SA'}"
      ]
     },
     "execution_count": 7,
     "metadata": {},
     "output_type": "execute_result"
    }
   ],
   "source": [
    "student = {\"name\": \"Jamie\", \"age\": 20}\n",
    "detail = {\"job\": \"Sanlam\", \"country\": \"SA\", \"age\" : 19}\n",
    "\n",
    "all_details = {\"country_code\" : \"+27\", **student, **detail, \"age\" : 18}  # ** -> unpacking operator\n",
    "\n",
    "all_details\n",
    "#put least priority first"
   ]
  }
 ],
 "metadata": {
  "kernelspec": {
   "display_name": ".venv",
   "language": "python",
   "name": "python3"
  },
  "language_info": {
   "codemirror_mode": {
    "name": "ipython",
    "version": 3
   },
   "file_extension": ".py",
   "mimetype": "text/x-python",
   "name": "python",
   "nbconvert_exporter": "python",
   "pygments_lexer": "ipython3",
   "version": "3.13.2"
  }
 },
 "nbformat": 4,
 "nbformat_minor": 2
}
