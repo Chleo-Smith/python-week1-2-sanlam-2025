{
 "cells": [
  {
   "cell_type": "code",
   "execution_count": null,
   "metadata": {},
   "outputs": [],
   "source": [
    "m1, *t1, m2 = [80, 90, 70, 45, 95]\n",
    "\n",
    "print(t1, type(t1))"
   ]
  },
  {
   "cell_type": "code",
   "execution_count": 6,
   "metadata": {},
   "outputs": [
    {
     "name": "stdout",
     "output_type": "stream",
     "text": [
      "[100, 200, 300, 400] [100, 200, 300, 400]\n"
     ]
    }
   ],
   "source": [
    "t1 = [100, 200]\n",
    "t2 = [300,400]\n",
    "\n",
    "t3 = t1 +t2.copy()\n",
    "t1.extend(t2)\n",
    "print(f\"{t3} {t1}\")"
   ]
  },
  {
   "cell_type": "code",
   "execution_count": null,
   "metadata": {},
   "outputs": [
    {
     "data": {
      "text/plain": [
       "[50, 100, 200, 80]"
      ]
     },
     "execution_count": 7,
     "metadata": {},
     "output_type": "execute_result"
    }
   ],
   "source": [
    "t1 = [100, 200]\n",
    "t2 = [300, 400]\n",
    "t3 = [50, *t1, 80]\n",
    "\n",
    "#also called unpacking operator\n",
    "\n",
    "t3"
   ]
  },
  {
   "cell_type": "code",
   "execution_count": 8,
   "metadata": {},
   "outputs": [
    {
     "data": {
      "text/plain": [
       "[100, 200, 300, 400]"
      ]
     },
     "execution_count": 8,
     "metadata": {},
     "output_type": "execute_result"
    }
   ],
   "source": [
    "t1 = [100, 200]\n",
    "t2 = [300, 400]\n",
    "\n",
    "t3 = [*t1, *t2]\n",
    "t3"
   ]
  },
  {
   "cell_type": "code",
   "execution_count": null,
   "metadata": {},
   "outputs": [
    {
     "data": {
      "text/plain": [
       "(10, 100, 200, 70, 90, 300, 400, 90)"
      ]
     },
     "execution_count": 10,
     "metadata": {},
     "output_type": "execute_result"
    }
   ],
   "source": [
    "t1 = (100, 200)\n",
    "t2 = (300, 400)\n",
    "\n",
    "t = t1 + t2\n",
    "t3 = (10, *t1, 70, 90, *t2, 90)\n",
    "t3\n"
   ]
  },
  {
   "cell_type": "code",
   "execution_count": 12,
   "metadata": {},
   "outputs": [
    {
     "name": "stdout",
     "output_type": "stream",
     "text": [
      "([1, '🍎'], [10, '🍊'], [8, '🍐', '🍊'])\n"
     ]
    }
   ],
   "source": [
    "veggie = ([1, \"🍎\"], [2, \"🍊\"], [8, \"🍐\"])\n",
    "\n",
    "veggie[1][0] = 10\n",
    "\n",
    "veggie[2].append(\"🍊\")\n",
    "print(veggie)"
   ]
  },
  {
   "cell_type": "code",
   "execution_count": null,
   "metadata": {},
   "outputs": [],
   "source": [
    "student = {\"name\" : \"Jamie\", \"age\" : 20}\n",
    "detail ="
   ]
  },
  {
   "cell_type": "code",
   "execution_count": null,
   "metadata": {},
   "outputs": [],
   "source": [
    "veggie = ([1, \"🍅\"], [2, \"🥔\"], [8, \"🥕\"])\n",
    "\n",
    "\n",
    "veggie[1] = [10, \"🥕\"]  # Error\n",
    "veggie[1] = \"3\"  # Error\n"
   ]
  },
  {
   "cell_type": "code",
   "execution_count": 15,
   "metadata": {},
   "outputs": [
    {
     "data": {
      "text/plain": [
       "{'name': 'Jamie', 'age': 20, 'job': 'Sanlam', 'country': 'SA'}"
      ]
     },
     "execution_count": 15,
     "metadata": {},
     "output_type": "execute_result"
    }
   ],
   "source": [
    "student = {\"name\": \"Jamie\", \"age\": 20}\n",
    "detail = {\"job\": \"Sanlam\", \"country\": \"SA\"}\n",
    "\n",
    "all_details = {**student, **detail}  # ** -> unpacking operator\n",
    "\n",
    "all_details\n"
   ]
  },
  {
   "cell_type": "code",
   "execution_count": null,
   "metadata": {},
   "outputs": [
    {
     "data": {
      "text/plain": [
       "{'country_code': '+27',\n",
       " 'name': 'Jamie',\n",
       " 'age': 18,\n",
       " 'job': 'Sanlam',\n",
       " 'country': 'SA'}"
      ]
     },
     "execution_count": 17,
     "metadata": {},
     "output_type": "execute_result"
    }
   ],
   "source": [
    "student = {\"name\": \"Jamie\", \"age\": 20}\n",
    "detail = {\"job\": \"Sanlam\", \"country\": \"SA\", \"age\" : 19}\n",
    "\n",
    "all_details = {\"country_code\" : \"+27\", **student, **detail, \"age\" : 18}  # ** -> unpacking operator\n",
    "\n",
    "all_details\n",
    "#put least priority first"
   ]
  }
 ],
 "metadata": {
  "kernelspec": {
   "display_name": ".venv",
   "language": "python",
   "name": "python3"
  },
  "language_info": {
   "codemirror_mode": {
    "name": "ipython",
    "version": 3
   },
   "file_extension": ".py",
   "mimetype": "text/x-python",
   "name": "python",
   "nbconvert_exporter": "python",
   "pygments_lexer": "ipython3",
   "version": "3.13.2"
  }
 },
 "nbformat": 4,
 "nbformat_minor": 2
}
