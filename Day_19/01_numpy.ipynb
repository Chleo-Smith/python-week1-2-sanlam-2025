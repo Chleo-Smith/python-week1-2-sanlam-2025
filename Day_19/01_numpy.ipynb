{
 "cells": [
  {
   "cell_type": "markdown",
   "metadata": {},
   "source": [
    "## Data Analyst\n",
    "*they get the data: mine the oil, basic refining*\n",
    "\n",
    "- SQL\n",
    "- Power BI - charts\n",
    "- insights - charts\n",
    "\n",
    "## Data Scientists\n",
    "*they refine completely: mixing fuels, etc*\n",
    "\n",
    "- excel\n",
    "- Python - numpy, pandas\n",
    "- scale - can handle million data easily\n",
    "- scikit - data prediction\n",
    "- matplot, seaborn  charts\n",
    "- line by line (step) verification\n"
   ]
  }
 ],
 "metadata": {
  "language_info": {
   "name": "python"
  }
 },
 "nbformat": 4,
 "nbformat_minor": 2
}
