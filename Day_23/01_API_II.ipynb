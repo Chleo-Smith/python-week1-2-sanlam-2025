{
 "cells": [
  {
   "cell_type": "markdown",
   "metadata": {},
   "source": [
    "## task\n",
    "create a function `get_city_temp` given city, print temp\n",
    "\n",
    "http://api.weatherapi.com/v1/current.json?key=a547dcd76eed495f8e691816252403&q=Cape Town&aqi=no"
   ]
  },
  {
   "cell_type": "code",
   "execution_count": 32,
   "metadata": {},
   "outputs": [
    {
     "name": "stdout",
     "output_type": "stream",
     "text": [
      "The temperature in Cape Town is 22.3°C\n",
      "The temperature in London is 7.3°C\n"
     ]
    }
   ],
   "source": [
    "import json\n",
    "import requests\n",
    "\n",
    "def get_city_temp(city_name):\n",
    "    API = f\"http://api.weatherapi.com/v1/current.json?key=a547dcd76eed495f8e691816252403&q={city_name}&aqi=no\"\n",
    "    response = requests.get(API, verify=False)\n",
    "\n",
    "    #JSON -> list | dict\n",
    "    weather = response.json()\n",
    "    print(\n",
    "        f\"The temperature in {weather['location']['name']} is {weather['current']['temp_c']}°C\"\n",
    "    )\n",
    "\n",
    "\n",
    "\n",
    "get_city_temp(\"cape town\")\n",
    "get_city_temp(\"london\")"
   ]
  },
  {
   "cell_type": "markdown",
   "metadata": {},
   "source": [
    "# Task 2 (Challenging)\n",
    "Create a function which takes list of cities and provide the corresponding temperature in a dictionary\n",
    " \n",
    "```python\n",
    "cities = [\"Cape town\", \"Johannesburg\", \"Durban\"]\n",
    "```\n",
    " \n",
    "## Expected Output\n",
    "```python\n",
    "{\n",
    "\"Cape town\": 24,\n",
    "\"Johannesburg\": 25,\n",
    "\"Durban\": 18\n",
    "}\n",
    "```"
   ]
  },
  {
   "cell_type": "code",
   "execution_count": 27,
   "metadata": {},
   "outputs": [
    {
     "name": "stdout",
     "output_type": "stream",
     "text": [
      "{'Cape town': 22.3, 'Johannesburg': 24.4, 'Durban': 27.4}\n"
     ]
    }
   ],
   "source": [
    "API_KEY = \"a547dcd76eed495f8e691816252403\"\n",
    "\n",
    "def get_city_temp(city_name):\n",
    "    API = f\"http://api.weatherapi.com/v1/current.json?key={API_KEY}&q={city_name}&aqi=no\"\n",
    "    response = requests.get(API, verify=False)\n",
    "\n",
    "    # JSON -> list | dict\n",
    "    weather = response.json()\n",
    "    return weather['current']['temp_c']\n",
    "\n",
    "def city_temp_dict(cities):\n",
    "    output = {}\n",
    "    for city in cities:\n",
    "        output[city] = get_city_temp(city)\n",
    "    return output\n",
    "\n",
    "def main():\n",
    "    cities = [\"Cape town\", \"Johannesburg\", \"Durban\"]\n",
    "    print(city_temp_dict(cities))\n",
    "\n",
    "main()\n"
   ]
  },
  {
   "cell_type": "code",
   "execution_count": 31,
   "metadata": {},
   "outputs": [
    {
     "name": "stdout",
     "output_type": "stream",
     "text": [
      "{'Cape town': 22.3, 'Johannesburg': 24.4, 'Durban': 27.4}\n"
     ]
    }
   ],
   "source": [
    "API_KEY = \"a547dcd76eed495f8e691816252403\"\n",
    "\n",
    "\n",
    "def get_city_temp(city_name):\n",
    "    API = (\n",
    "        f\"http://api.weatherapi.com/v1/current.json?key={API_KEY}&q={city_name}&aqi=no\"\n",
    "    )\n",
    "    response = requests.get(API, verify=False)\n",
    "\n",
    "    weather = response.json()\n",
    "    return weather[\"current\"][\"temp_c\"]\n",
    "\n",
    "\n",
    "def city_temp_dict(cities):\n",
    "    return {city: get_city_temp(city) for city in cities}\n",
    "\n",
    "\n",
    "def main():\n",
    "    cities = [\"Cape town\", \"Johannesburg\", \"Durban\"]\n",
    "    print(city_temp_dict(cities))\n",
    "\n",
    "\n",
    "main()\n"
   ]
  }
 ],
 "metadata": {
  "kernelspec": {
   "display_name": ".venv",
   "language": "python",
   "name": "python3"
  },
  "language_info": {
   "codemirror_mode": {
    "name": "ipython",
    "version": 3
   },
   "file_extension": ".py",
   "mimetype": "text/x-python",
   "name": "python",
   "nbconvert_exporter": "python",
   "pygments_lexer": "ipython3",
   "version": "3.13.2"
  }
 },
 "nbformat": 4,
 "nbformat_minor": 2
}
