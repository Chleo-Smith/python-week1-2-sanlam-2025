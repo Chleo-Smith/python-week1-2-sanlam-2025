{
 "cells": [
  {
   "cell_type": "code",
   "execution_count": 2,
   "metadata": {},
   "outputs": [],
   "source": [
    "data = {\n",
    "    \"employees\": [\n",
    "        {\"name\": \"Alice\", \"age\": 30, \"department\": \"Sales\"},\n",
    "        {\"name\": \"Bob\", \"age\": 25, \"department\": \"Marketing\"},\n",
    "    ]\n",
    "}\n"
   ]
  },
  {
   "cell_type": "code",
   "execution_count": 3,
   "metadata": {},
   "outputs": [
    {
     "name": "stdout",
     "output_type": "stream",
     "text": [
      "<class 'dict'>\n",
      "30\n"
     ]
    }
   ],
   "source": [
    "print(type(data))\n",
    "print(data[\"employees\"][0][\"age\"])\n"
   ]
  },
  {
   "cell_type": "code",
   "execution_count": 4,
   "metadata": {},
   "outputs": [],
   "source": [
    "import json"
   ]
  },
  {
   "cell_type": "code",
   "execution_count": 5,
   "metadata": {},
   "outputs": [
    {
     "name": "stdout",
     "output_type": "stream",
     "text": [
      "{\n",
      "    \"employees\": [\n",
      "        {\n",
      "            \"name\": \"Alice\",\n",
      "            \"age\": 30,\n",
      "            \"department\": \"Sales\"\n",
      "        },\n",
      "        {\n",
      "            \"name\": \"Bob\",\n",
      "            \"age\": 25,\n",
      "            \"department\": \"Marketing\"\n",
      "        }\n",
      "    ]\n",
      "} <class 'str'>\n"
     ]
    }
   ],
   "source": [
    "data_json = json.dumps(data, indent = 4)\n",
    "print(data_json, type(data_json))"
   ]
  },
  {
   "cell_type": "markdown",
   "metadata": {},
   "source": [
    "# JSON summmary\n",
    "- no single quotes\n",
    "- no trailing commas\n",
    "- no functions allowed"
   ]
  },
  {
   "cell_type": "code",
   "execution_count": 6,
   "metadata": {},
   "outputs": [
    {
     "name": "stdout",
     "output_type": "stream",
     "text": [
      "{\n",
      "    \"employees\": [\n",
      "        {\n",
      "            \"name\": \"Alice\",\n",
      "            \"age\": 30,\n",
      "            \"department\": \"Sales\"\n",
      "        },\n",
      "        {\n",
      "            \"name\": \"Bob\",\n",
      "            \"age\": 25,\n",
      "            \"department\": \"Marketing\"\n",
      "        }\n",
      "    ],\n",
      "    \"hike\": 10.5,\n",
      "    \"cool\": true\n",
      "} <class 'str'>\n"
     ]
    }
   ],
   "source": [
    "data = {\n",
    "    \"employees\": [\n",
    "        {\"name\": \"Alice\", \"age\": 30, \"department\": \"Sales\"},\n",
    "        {\"name\": \"Bob\", \"age\": 25, \"department\": \"Marketing\"},\n",
    "    ],\n",
    "    \"hike\": 10.5,\n",
    "    \"cool\": True,\n",
    "}\n",
    "\n",
    "# Dict -> JSON: dumps\n",
    "data_json = json.dumps(data, indent=4)  ## error\n",
    "\n",
    "print(data_json, type(data_json))\n"
   ]
  },
  {
   "cell_type": "code",
   "execution_count": null,
   "metadata": {},
   "outputs": [],
   "source": [
    "student_json = \"\"\"\n",
    "{\n",
    "    \"name\": \"Jamie\",\n",
    "    \"gender\": \"Female\"\n",
    "}\n",
    "\"\"\"\n"
   ]
  },
  {
   "cell_type": "code",
   "execution_count": 8,
   "metadata": {},
   "outputs": [],
   "source": [
    "student = json.loads(student_json)"
   ]
  },
  {
   "cell_type": "code",
   "execution_count": 9,
   "metadata": {},
   "outputs": [],
   "source": [
    "bank_data = \"\"\"\n",
    "[\n",
    "    {\n",
    "        \"id\": 1,\n",
    "        \"name\": \"John Doe\",\n",
    "        \"email\": \"johndoe@example.com\",\n",
    "        \"isActive\": true,\n",
    "        \"balance\": 150.75\n",
    "    },\n",
    "    {\n",
    "        \"id\": 2,\n",
    "        \"name\": \"Jane Smith\",\n",
    "        \"email\": \"janesmith@example.com\",\n",
    "        \"isActive\": false,\n",
    "        \"balance\": 500.50\n",
    "    },\n",
    "    {\n",
    "        \"id\": 3,\n",
    "        \"name\": \"Emily Jones\",\n",
    "        \"email\": \"emilyjones@example.com\",\n",
    "        \"isActive\": true,\n",
    "        \"balance\": 0.00\n",
    "    }\n",
    "]\n",
    "\"\"\""
   ]
  },
  {
   "cell_type": "code",
   "execution_count": 12,
   "metadata": {},
   "outputs": [
    {
     "data": {
      "text/plain": [
       "'[\\n    {\\n        \"id\": 1,\\n        \"name\": \"John Doe\",\\n        \"email\": \"johndoe@example.com\",\\n        \"isActive\": true,\\n        \"balance\": 165.82500000000002\\n    },\\n    {\\n        \"id\": 2,\\n        \"name\": \"Jane Smith\",\\n        \"email\": \"janesmith@example.com\",\\n        \"isActive\": false,\\n        \"balance\": 500.5\\n    },\\n    {\\n        \"id\": 3,\\n        \"name\": \"Emily Jones\",\\n        \"email\": \"emilyjones@example.com\",\\n        \"isActive\": true,\\n        \"balance\": 0.0\\n    }\\n]'"
      ]
     },
     "execution_count": 12,
     "metadata": {},
     "output_type": "execute_result"
    }
   ],
   "source": [
    "bank = json.loads(bank_data)\n",
    "\n",
    "for entry in bank:\n",
    "    if entry['isActive']:\n",
    "        entry['balance'] *=1.1\n",
    "\n",
    "json.dumps(bank, indent = 4)"
   ]
  },
  {
   "cell_type": "code",
   "execution_count": 16,
   "metadata": {},
   "outputs": [
    {
     "data": {
      "text/plain": [
       "'[\\n    {\\n        \"id\": 1,\\n        \"name\": \"John Doe\",\\n        \"email\": \"johndoe@example.com\",\\n        \"isActive\": true,\\n        \"balance\": 165.82500000000002\\n    },\\n    {\\n        \"id\": 2,\\n        \"name\": \"Jane Smith\",\\n        \"email\": \"janesmith@example.com\",\\n        \"isActive\": false,\\n        \"balance\": 500.5\\n    },\\n    {\\n        \"id\": 3,\\n        \"name\": \"Emily Jones\",\\n        \"email\": \"emilyjones@example.com\",\\n        \"isActive\": true,\\n        \"balance\": 0.0\\n    }\\n]'"
      ]
     },
     "execution_count": 16,
     "metadata": {},
     "output_type": "execute_result"
    }
   ],
   "source": [
    "bank_accounts = json.loads(bank_data)\n",
    "\n",
    "for account in bank_accounts:\n",
    "    if account[\"isActive\"]:\n",
    "        account[\"balance\"] *= 1.1\n",
    "\n",
    "json.dumps(bank_accounts, indent=4)\n"
   ]
  },
  {
   "cell_type": "code",
   "execution_count": 17,
   "metadata": {},
   "outputs": [
    {
     "data": {
      "text/plain": [
       "'[\\n    {\\n        \"id\": 1,\\n        \"name\": \"John Doe\",\\n        \"email\": \"johndoe@example.com\",\\n        \"isActive\": true,\\n        \"balance\": 165.82500000000002\\n    },\\n    {\\n        \"id\": 2,\\n        \"name\": \"Jane Smith\",\\n        \"email\": \"janesmith@example.com\",\\n        \"isActive\": false,\\n        \"balance\": 500.5\\n    },\\n    {\\n        \"id\": 3,\\n        \"name\": \"Emily Jones\",\\n        \"email\": \"emilyjones@example.com\",\\n        \"isActive\": true,\\n        \"balance\": 0.0\\n    }\\n]'"
      ]
     },
     "execution_count": 17,
     "metadata": {},
     "output_type": "execute_result"
    }
   ],
   "source": [
    "def increase_active_balance(bank_data):\n",
    "    bank_account = json.loads(bank_data)\n",
    "\n",
    "    for account in bank_account:\n",
    "        if account['isActive']:\n",
    "            account['balance'] *= 1.1\n",
    "\n",
    "    return json.dumps(bank_account, indent = 4)\n",
    "\n",
    "increase_active_balance(bank_data)\n"
   ]
  },
  {
   "cell_type": "code",
   "execution_count": 18,
   "metadata": {},
   "outputs": [
    {
     "data": {
      "text/plain": [
       "'[\\n    165.82500000000002,\\n    500.5,\\n    0.0\\n]'"
      ]
     },
     "execution_count": 18,
     "metadata": {},
     "output_type": "execute_result"
    }
   ],
   "source": [
    "def increase_active_balance(bank_data):\n",
    "    bank_account = json.loads(bank_data)\n",
    "\n",
    "    updated_account = [\n",
    "        account[\"balance\"] * 1.1\n",
    "        if account[\"isActive\"]\n",
    "        else account['balance']\n",
    "        for account in bank_account\n",
    "    ]\n",
    "\n",
    "    return json.dumps(updated_account, indent=4)\n",
    "\n",
    "\n",
    "increase_active_balance(bank_data)\n"
   ]
  },
  {
   "cell_type": "markdown",
   "metadata": {},
   "source": [
    "# handling files"
   ]
  },
  {
   "cell_type": "code",
   "execution_count": null,
   "metadata": {},
   "outputs": [],
   "source": [
    "def increase_bal_10_percent(bank_data):\n",
    "    bank_accounts = json.loads(bank_data)\n",
    "    INTEREST_RATE = 1.1\n",
    "    update_accounts = [\n",
    "        {**account, \"balance\": account[\"balance\"] * INTEREST_RATE}\n",
    "        if account[\"isActive\"]\n",
    "        else account\n",
    "        for account in bank_accounts\n",
    "    ]\n",
    "\n",
    "    return update_accounts\n",
    "\n",
    "\n",
    "# Dictionary\n",
    "update_accounts = increase_bal_10_percent(bank_data)\n",
    "\n",
    "#write to a file\n",
    "with open('./chleo_account.json', 'w') as file:\n",
    "    #convert dictionary to json and write to file\n",
    "    json.dump(update_accounts, file, indent=4)"
   ]
  },
  {
   "cell_type": "code",
   "execution_count": null,
   "metadata": {},
   "outputs": [
    {
     "data": {
      "text/plain": [
       "[{'id': 1,\n",
       "  'name': 'John Doe',\n",
       "  'email': 'johndoe@example.com',\n",
       "  'isActive': True,\n",
       "  'balance': 165.82500000000002},\n",
       " {'id': 2,\n",
       "  'name': 'Jane Smith',\n",
       "  'email': 'janesmith@example.com',\n",
       "  'isActive': False,\n",
       "  'balance': 500.5},\n",
       " {'id': 3,\n",
       "  'name': 'Emily Jones',\n",
       "  'email': 'emilyjones@example.com',\n",
       "  'isActive': True,\n",
       "  'balance': 0.0}]"
      ]
     },
     "execution_count": 22,
     "metadata": {},
     "output_type": "execute_result"
    }
   ],
   "source": [
    "import pprint\n",
    "\n",
    "\n",
    "with open(\"./chleo_account.json\", \"r\") as file:\n",
    "    # convert dictionary to json and write to file\n",
    "    account = json.load(file)\n",
    "\n",
    "account\n"
   ]
  },
  {
   "cell_type": "code",
   "execution_count": 23,
   "metadata": {},
   "outputs": [],
   "source": [
    "# open -> opening file\n",
    "\n",
    "\n",
    "def get_posts_summary(file_path):\n",
    "    with open(file_path, \"r\") as file:\n",
    "        # Convert JSON -> Dict\n",
    "        blog = json.load(file)\n",
    "        posts = blog[\"posts\"]\n",
    "        output = [\n",
    "            {\n",
    "                \"title\": post[\"title\"],\n",
    "                \"author\": post[\"author\"],\n",
    "                \"number_of_comments\": len(post[\"comments\"]),\n",
    "            }\n",
    "            for post in posts\n",
    "        ]\n",
    "\n",
    "        return {\"posts_summary\": output}\n",
    "\n",
    "\n",
    "posts_summary = get_posts_summary(\"./blog_post.json\")\n",
    "\n",
    "with open(\"./posts_summary.json\", \"w\") as file:\n",
    "    # Convert Dict -> JSON & Write to file\n",
    "    json.dump(posts_summary, file, indent=4)\n"
   ]
  },
  {
   "cell_type": "code",
   "execution_count": null,
   "metadata": {},
   "outputs": [],
   "source": [
    "with open(\"./blog_post.json\", \"r\") as file:\n",
    "    # Convert JSON -> Dict\n",
    "    blog = json.load(file)\n",
    "    posts = blog[\"posts\"]\n",
    "\n",
    "    summary_posts = [{\"title\": post[\"title\"]} for post in posts]\n",
    "    pprint(summary_posts)\n"
   ]
  }
 ],
 "metadata": {
  "kernelspec": {
   "display_name": ".venv",
   "language": "python",
   "name": "python3"
  },
  "language_info": {
   "codemirror_mode": {
    "name": "ipython",
    "version": 3
   },
   "file_extension": ".py",
   "mimetype": "text/x-python",
   "name": "python",
   "nbconvert_exporter": "python",
   "pygments_lexer": "ipython3",
   "version": "3.13.2"
  }
 },
 "nbformat": 4,
 "nbformat_minor": 2
}
