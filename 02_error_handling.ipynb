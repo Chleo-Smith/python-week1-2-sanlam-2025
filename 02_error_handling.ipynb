{
 "cells": [
  {
   "cell_type": "code",
   "execution_count": null,
   "metadata": {},
   "outputs": [
    {
     "name": "stdout",
     "output_type": "stream",
     "text": [
      "divion wa ssuccesdd\n",
      "done\n",
      "None\n"
     ]
    }
   ],
   "source": [
    "# Exception/error handling: handling errors elegantly\n",
    "# use try and except\n",
    "def math_divide(n1, n2):\n",
    "    try:\n",
    "        result = n1/n2 # line likely to be and error\n",
    "    except ZeroDivisionError: #catch all(except) #more specific with error it catcs\n",
    "        print(\"You cannot divide by zero!\")\n",
    "    else:\n",
    "        #else no error\n",
    "        print(\"divion wa ssuccesdd\")\n",
    "    finally:\n",
    "        #no matter. akways executes\n",
    "        print(\"done\")\n",
    "\n",
    "\n",
    "print(math_divide(10, 1)) #---> ZeroDivisionError: division by 0\n"
   ]
  },
  {
   "cell_type": "code",
   "execution_count": 16,
   "metadata": {},
   "outputs": [],
   "source": [
    "# year = input(\"Please provide your birth year: \")\n",
    "# out = 2025 - int(year)\n",
    "# print(f\"Your age is {out}\")\n",
    "\n",
    "#calc age\n",
    "# datetime\n",
    "\n",
    "from datetime import datetime\n",
    "\n",
    "#Task 1.1\n",
    "def calculate_age(year):\n",
    "    current_year = int(datetime.now().year)\n",
    "    return current_year - year\n",
    "\n",
    "def main():\n",
    "    year = int(input(\"Please tell me your year of birth \"))\n",
    "    calculate_age(year)\n",
    "\n",
    "main()"
   ]
  },
  {
   "cell_type": "markdown",
   "metadata": {},
   "source": [
    "### Business lgical error\n",
    "`raise` --> intentionally throwin gerror - because goes against business logic"
   ]
  },
  {
   "cell_type": "code",
   "execution_count": 38,
   "metadata": {},
   "outputs": [
    {
     "ename": "ValueError",
     "evalue": "simpley",
     "output_type": "error",
     "traceback": [
      "\u001b[1;31m---------------------------------------------------------------------------\u001b[0m",
      "\u001b[1;31mValueError\u001b[0m                                Traceback (most recent call last)",
      "Cell \u001b[1;32mIn[38], line 1\u001b[0m\n\u001b[1;32m----> 1\u001b[0m \u001b[38;5;28;01mraise\u001b[39;00m \u001b[38;5;167;01mValueError\u001b[39;00m(\u001b[38;5;124m\"\u001b[39m\u001b[38;5;124msimpley\u001b[39m\u001b[38;5;124m\"\u001b[39m)\n",
      "\u001b[1;31mValueError\u001b[0m: simpley"
     ]
    }
   ],
   "source": [
    "raise ValueError(\"simpley\")"
   ]
  },
  {
   "cell_type": "code",
   "execution_count": null,
   "metadata": {},
   "outputs": [
    {
     "name": "stdout",
     "output_type": "stream",
     "text": [
      "invalid:  invalid literal for int() with base 10: ''\n"
     ]
    }
   ],
   "source": [
    "# Task 1.2\n",
    "def calculate_age():\n",
    "\n",
    "    try:\n",
    "        year = int(input(\"Please tell me your year of birth \")) #runtime error. technical error. cannot convert to int\n",
    "        current_year = int(datetime.now().year)\n",
    "\n",
    "        ##-ve senario first\n",
    "        #last +ve scenario\n",
    "\n",
    "\n",
    "        if(year < 0):\n",
    "            raise ValueError(\"year cannot be a negative number\")\n",
    "        elif year > current_year:\n",
    "            raise ValueError(\n",
    "                \"year entered is greater than the current year an number\"\n",
    "            )\n",
    "\n",
    "        #this\n",
    "        print(f\"Your age is {current_year - year}\")\n",
    "\n",
    "    except ValueError as err:\n",
    "        print(f\"invalid: \", err)\n",
    "    #catch everything\n",
    "    except Exception as err:\n",
    "        print(f\"Something went really wrong: {err}\")\n",
    "\n",
    "calculate_age()\n"
   ]
  },
  {
   "cell_type": "code",
   "execution_count": null,
   "metadata": {},
   "outputs": [],
   "source": [
    "#Error scenario\n",
    "#case 1: cannot be -ve\n",
    "#case 2: if birthyear > current year. \"you're not from the furture\""
   ]
  },
  {
   "cell_type": "markdown",
   "metadata": {},
   "source": [
    "## Type of error\n",
    "1. Syntax\n",
    "2. Runtime\n",
    "3. Logical(raising errors for business scenarios)"
   ]
  },
  {
   "cell_type": "code",
   "execution_count": null,
   "metadata": {},
   "outputs": [],
   "source": [
    "#create own error class\n",
    "#exception --> base class of all errors\n",
    "class NegativeNumberError(Exception):\n",
    "    def __init__(self, value):\n",
    "        self.value = value\n",
    "        self.msg = \"-ve numbers not allowed\"\n",
    "        super().__init__(self.msg)\n",
    "\n",
    "    #method overriding : base __str__ ---> better logging\n",
    "    def __str__(self):\n",
    "        return f\"{self.value} --> {self.msg}\""
   ]
  },
  {
   "cell_type": "code",
   "execution_count": 65,
   "metadata": {},
   "outputs": [
    {
     "name": "stdout",
     "output_type": "stream",
     "text": [
      "-10 --> -ve numbers not allowed\n"
     ]
    }
   ],
   "source": [
    "\n",
    "#business logic\n",
    "def only_positive():\n",
    "    try:\n",
    "        x = -10\n",
    "        if x < 0:\n",
    "            raise NegativeNumberError(x)\n",
    "    except NegativeNumberError as err:\n",
    "        print(err)\n",
    "\n",
    "only_positive()"
   ]
  }
 ],
 "metadata": {
  "kernelspec": {
   "display_name": ".venv",
   "language": "python",
   "name": "python3"
  },
  "language_info": {
   "codemirror_mode": {
    "name": "ipython",
    "version": 3
   },
   "file_extension": ".py",
   "mimetype": "text/x-python",
   "name": "python",
   "nbconvert_exporter": "python",
   "pygments_lexer": "ipython3",
   "version": "3.13.2"
  }
 },
 "nbformat": 4,
 "nbformat_minor": 2
}
