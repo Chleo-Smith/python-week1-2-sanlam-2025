{
 "cells": [
  {
   "cell_type": "markdown",
   "metadata": {},
   "source": [
    "Task 1.1\n",
    "create blueprint\n",
    "\n",
    "## Bank\n",
    "1. acc_no\n",
    "2. name\n",
    "3. balance\n",
    "\n",
    "Task 1.2\n",
    "create 3 accounts"
   ]
  },
  {
   "cell_type": "code",
   "execution_count": 3,
   "metadata": {},
   "outputs": [
    {
     "name": "stdout",
     "output_type": "stream",
     "text": [
      "You balance is: R100,000.00\n",
      "0.02\n",
      "Failed.Interest rate of -10% is invalid\n",
      "You balance is: R104,040.00\n",
      "0.02\n",
      "You balance is: R106,120.80\n",
      "3\n"
     ]
    }
   ],
   "source": [
    "#Task 1.1\n",
    "\n",
    "#Encapsulation : Data + logic --> instance variable + instance methods put together in one container (class)\n",
    "class Bank:\n",
    "    interest_rate = 0.02\n",
    "    no_of_accounts = 0\n",
    "\n",
    "    # method called when creating object\n",
    "    def __init__(self, acc_no, name, balance):\n",
    "        # instance variables\n",
    "        self.acc_no = acc_no\n",
    "        self.name = name\n",
    "        self.balance = balance\n",
    "        Bank.no_of_accounts+=1\n",
    "\n",
    "    #Task 1.3\n",
    "    def display_balance(self):\n",
    "        #no decimal points added when yoiu use round. only does it if decimal points present\n",
    "        return f\"You balance is: R{self.balance:,.2f}\"\n",
    "\n",
    "    #Abstraction : complexity hidden\n",
    "    #Task 1.4\n",
    "    def withdraw(self, amount):\n",
    "        if amount <= 0:\n",
    "            return \"Invalid amount\"\n",
    "\n",
    "        if amount > self.balance:\n",
    "            return f\"Insufficient funds. {self.display_balance()}\"\n",
    "\n",
    "        self.balance -= amount\n",
    "        return f\"Success. {self.display_balance()}\"\n",
    "\n",
    "    def deposit(self, amount):\n",
    "        self.balance += amount\n",
    "        return f\"Successfully deposited. {self.display_balance()}\"\n",
    "\n",
    "    # modify instance variable --> instance method\n",
    "    def apply_interest(self):\n",
    "        self.balance += self.balance * self.interest_rate\n",
    "        return\n",
    "\n",
    "    # modify class variable --> class method\n",
    "    @classmethod\n",
    "    def update_interest_rate(cls, rate):\n",
    "        if(0 < rate <=100):\n",
    "            cls.interest_rate = rate/100\n",
    "            return f\"Successfully Updated interest rate to {rate}%\"\n",
    "        else:\n",
    "            return f\"Failed.Interest rate of {rate}% is invalid\"\n",
    "\n",
    "    @classmethod\n",
    "    def get_total_no_acconut(cls):\n",
    "        return Bank.no_of_accounts\n",
    "\n",
    "#Task 1.2\n",
    "chleo = Bank(123456789, \"Chleo\", 100_000 )\n",
    "diyali = Bank(135791113, \"Diyali\", 60_000)\n",
    "jevan = Bank(510152025, \"Jevan\", 800_000)\n",
    "\n",
    "print(chleo.display_balance())\n",
    "#print(diyali.display_balance())\n",
    "#print(jevan.display_balance())\n",
    "chleo.apply_interest()\n",
    "#diyali.apply_interest()\n",
    "#jevan.apply_interest()\n",
    "print(Bank.interest_rate)\n",
    "chleo.apply_interest()\n",
    "#print(diyali.display_balance())\n",
    "#print(jevan.display_balance())\n",
    "print(Bank.update_interest_rate(-10))\n",
    "print(chleo.display_balance())\n",
    "#print(diyali.display_balance())\n",
    "#print(jevan.display_balance())\n",
    "\n",
    "print(Bank.interest_rate)\n",
    "chleo.apply_interest()\n",
    "print(chleo.display_balance())\n",
    "# allow access to data via methods\n",
    "#print(chleo.display_balance())\n",
    "#print(chleo.withdraw(2_000))\n",
    "#print(chleo.withdraw(100_000))\n",
    "#print(chleo.withdraw(-1_000_000))\n",
    "#print(chleo.display_balance())\n",
    "\n",
    "print(Bank.get_total_no_acconut())\n",
    "#print(diyali.deposit(5_000))  # Successfully deposited. Your balance is: R65,000.00\n",
    "#print(diyali.display_balance())  # Your balance is: R65,000.00\n",
    "#print(diyali.withdraw(1_000))  # Success. Your balance is: R64,000.00"
   ]
  },
  {
   "cell_type": "code",
   "execution_count": null,
   "metadata": {},
   "outputs": [],
   "source": [
    "# class variable: for all the instance value remains same\n",
    "\n",
    "#instance variable --> for each instance value value is different\n",
    "\n",
    "class Circle:\n",
    "    PI = 3.14\n",
    "\n",
    "    def __init__(self, radius):\n",
    "        self.radius = radius\n",
    "\n",
    "    #modify instance variable --> instance method\n",
    "    def calculate_area(self):\n",
    "\n",
    "        return (self.PI*self.radius) **2\n",
    "\n",
    "\n",
    "\n",
    "    @staticmethod\n",
    "    # for calculation and not modifying radius\n",
    "    def perimeter(radius):\n",
    "        return 2 * Circle.PI * radius #circle(radius)\n",
    "    #withdraw mnever static because modifying\n",
    "\n",
    "\n",
    "    #when you want to modify class variable --> class method\n",
    "    @classmethod\n",
    "    def from_diameter(cls, diameter):\n",
    "        radius = diameter / 2\n",
    "        return cls(radius)\n",
    "\n",
    "\n",
    "\n",
    "\n",
    "\n",
    "\n",
    "c1 = Circle(3)\n",
    "c2 = Circle.from_diameter(6)\n",
    "\n",
    "print(c1.PI, c2.PI, Circle.PI)\n",
    "print(c1.calculate_area(), c2.calculate_area())\n"
   ]
  },
  {
   "cell_type": "markdown",
   "metadata": {},
   "source": [
    "1. @staticmethod\n",
    "2. @classmethod\n",
    "@ --> Decorator\n",
    "\n",
    "# static method\n",
    "with static methods you \n",
    "1. lose access to self and cls\n",
    "2. only for calculation \n",
    "3. cant modify the instance variable\n",
    "   \n",
    "# normal methods (instance variables)\n",
    "1. access to self\n",
    "2. can modify and display"
   ]
  },
  {
   "cell_type": "code",
   "execution_count": null,
   "metadata": {},
   "outputs": [],
   "source": [
    "#for calculation and not modifying radius\n",
    "#def perimeter(radius):\n",
    "#    return 2 * Circle.PI * radius\n",
    "\n",
    "#print(perimeter(2)) #--> with static methods you pass variable"
   ]
  },
  {
   "cell_type": "code",
   "execution_count": null,
   "metadata": {},
   "outputs": [],
   "source": [
    "#Task 1.5\n",
    "print(chleo.display_balance())"
   ]
  },
  {
   "cell_type": "markdown",
   "metadata": {},
   "source": [
    "# Task 1.5\n",
    "- interest_rate 2%\n",
    "- One year is done\n",
    "chelo.apply_interest()\n",
    "diyali.apply_interest()\n",
    "jevan.apply_interest()\n",
    "\n",
    "# Task 1.6\n",
    "Bank.update_interest_rate(4) # 4%"
   ]
  },
  {
   "cell_type": "code",
   "execution_count": null,
   "metadata": {},
   "outputs": [],
   "source": [
    "# 1. Encapsulation\n",
    "# 2. Abstarction\n",
    "# 3. Inheritance\n",
    "# 4. Polymorphism: acting differently based on context (object of class)"
   ]
  },
  {
   "cell_type": "code",
   "execution_count": 4,
   "metadata": {},
   "outputs": [
    {
     "name": "stdout",
     "output_type": "stream",
     "text": [
      "Some sound\n",
      "Woof Woof\n",
      "dog is 30 fast\n"
     ]
    }
   ],
   "source": [
    "#base/parent class\n",
    "class Animal:\n",
    "\n",
    "    def __init__(self, name):\n",
    "        self.name = name\n",
    "\n",
    "    def speak(self):\n",
    "        return \"Some sound\"\n",
    "\n",
    "#dog inherits from animals\n",
    "#child class\n",
    "class Dog(Animal):\n",
    "    def __init__(self, name, speed):\n",
    "        super().__init__(name) #super points to parent\n",
    "        self.speed =  speed\n",
    "\n",
    "    def run(self):\n",
    "        return \"wag tail🐶\"\n",
    "    #method overriding: fnuctionality of base class overridden\n",
    "    def speak(self):\n",
    "        return \"Woof Woof\"\n",
    "    def speed_bonus(self):\n",
    "        return f\"dog is {self.speed * 2} fast\"\n",
    "\n",
    "toby = Animal(\"toby\")\n",
    "maxy = Dog(\"maxy\", 15)\n",
    "\n",
    "print(toby.speak())\n",
    "print(maxy.speak())\n",
    "print(maxy.speed_bonus())\n",
    "#print(toby.run()) ----> doesnt work"
   ]
  },
  {
   "cell_type": "code",
   "execution_count": null,
   "metadata": {},
   "outputs": [],
   "source": [
    "#polymorphism  example\n",
    "\n",
    "4 + 5\n",
    "\"a\" + \"a\""
   ]
  },
  {
   "cell_type": "code",
   "execution_count": null,
   "metadata": {},
   "outputs": [
    {
     "name": "stdout",
     "output_type": "stream",
     "text": [
      "100000\n",
      "Success. You balance is: R0.00\n"
     ]
    }
   ],
   "source": [
    "#1. SavingsAccount - 5%\n",
    "#2. CheckingAccount trnsaction fee 1 when withdraw, interest rate doesnt change\n",
    "\n",
    "#Task 1.8\n",
    "class SavingsAccount(Bank):\n",
    "    saving_interest = 0.05\n",
    "\n",
    "    def apply_interest(self):\n",
    "        super().balance += super().balance * self.saving_interest\n",
    "        return\n",
    "\n",
    "#Task 1.9\n",
    "class CheckingAccount(Bank):\n",
    "    transaction_fee = 1\n",
    "    def withdraw(self, amount):\n",
    "\n",
    "        return super().withdraw(amount + self.transaction_fee)\n",
    "\n",
    "\n",
    "chleo = Bank(123, \"Chleo\", 100_000)\n",
    "print(chleo.balance)\n",
    "save = SavingsAccount(123, \"Chleo\", 10)\n",
    "chleo.apply_interest()\n",
    "#print(chleo.display_balance())\n",
    "\n",
    "#print(save.balance)\n",
    "#save.apply_interest()\n",
    "save.withdraw(5)\n",
    "print(save.withdraw(5))"
   ]
  }
 ],
 "metadata": {
  "kernelspec": {
   "display_name": ".venv",
   "language": "python",
   "name": "python3"
  },
  "language_info": {
   "codemirror_mode": {
    "name": "ipython",
    "version": 3
   },
   "file_extension": ".py",
   "mimetype": "text/x-python",
   "name": "python",
   "nbconvert_exporter": "python",
   "pygments_lexer": "ipython3",
   "version": "3.13.2"
  }
 },
 "nbformat": 4,
 "nbformat_minor": 2
}
