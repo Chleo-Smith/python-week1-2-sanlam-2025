{
 "cells": [
  {
   "cell_type": "markdown",
   "metadata": {},
   "source": [
    "Task 1.1\n",
    "create blueprint\n",
    "\n",
    "## Bank\n",
    "1. acc_no\n",
    "2. name\n",
    "3. balance\n",
    "\n",
    "Task 1.2\n",
    "create 3 accounts"
   ]
  },
  {
   "cell_type": "code",
   "execution_count": null,
   "metadata": {},
   "outputs": [
    {
     "name": "stdout",
     "output_type": "stream",
     "text": [
      "You balance is: R100,000.00\n",
      "Success. Your balance is: 98,000.00\n",
      "Failure. Withdrawal amount R100,000.00 greater than bank balance R98,000.00\n",
      "Success. Your balance is: 1,098,000.00\n",
      "You balance is: R1,098,000.00\n"
     ]
    }
   ],
   "source": [
    "#Task 1.1\n",
    "\n",
    "#Encapsulation : Data + logic --> instance variable + instance methods put together in one container (class)\n",
    "class Bank:\n",
    "    # method called when creating object\n",
    "    def __init__(self, acc_no, name, balance):\n",
    "        # instance variables\n",
    "        self.acc_no = acc_no\n",
    "        self.name = name\n",
    "        self.balance = balance\n",
    "\n",
    "    #Task 1.3\n",
    "    def display_balance(self):\n",
    "        #no decimal points added when yoiu use round. only does it if decimal points present\n",
    "        return f\"You balance is: R{self.balance:,.2f}\"\n",
    "\n",
    "    #Abstraction : complexity hidden\n",
    "    #Task 1.4\n",
    "    def withdraw(self, amount):\n",
    "        self.balance = self.balance - amount if (self.balance >= amount) else self.balance\n",
    "\n",
    "        return (\n",
    "            f\"Success. Your balance is: {self.balance:,.2f}\"\n",
    "            if (self.balance >= amount)\n",
    "            else f\"Failure. Withdrawal amount R{amount:,.2f} greater than bank balance R{self.balance:,.2f}\"\n",
    "        )\n",
    "\n",
    "        #if(self.balance >= amount) and (amount >= 0):\n",
    "        #    self.balance = self.balance - amount\n",
    "         #   return f\"Success. Your balance is: {self.balance:,.2f}\"\n",
    "        #elif amount < 0:\n",
    "        #    return f\"Failure. Invalid withdrawal amount: {amount:,.2f}\"\n",
    "        #else:\n",
    "         #   return f\"Failure. Withdrawal amount R{amount:,.2f} greater than bank balance R{self.balance:,.2f}\"\n",
    "\n",
    "#Task 1.2\n",
    "chleo = Bank(123456789, \"Chleo\", 100_000 )\n",
    "diyali = Bank(135791113, \"Diyali\", 60_000)\n",
    "Jevan = Bank(510152025, \"Jevan\", 800_000)\n",
    "\n",
    "# allow access to data via methods\n",
    "print(chleo.display_balance())\n",
    "print(chleo.withdraw(2_000))\n",
    "print(chleo.withdraw(100_000))\n",
    "print(chleo.withdraw(-1_000_000))\n",
    "print(chleo.display_balance())"
   ]
  }
 ],
 "metadata": {
  "kernelspec": {
   "display_name": ".venv",
   "language": "python",
   "name": "python3"
  },
  "language_info": {
   "codemirror_mode": {
    "name": "ipython",
    "version": 3
   },
   "file_extension": ".py",
   "mimetype": "text/x-python",
   "name": "python",
   "nbconvert_exporter": "python",
   "pygments_lexer": "ipython3",
   "version": "3.13.2"
  }
 },
 "nbformat": 4,
 "nbformat_minor": 2
}
