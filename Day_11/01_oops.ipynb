{
 "cells": [
  {
   "cell_type": "markdown",
   "metadata": {},
   "source": [
    "Task 1.1\n",
    "create blueprint\n",
    "\n",
    "## Bank\n",
    "1. acc_no\n",
    "2. name\n",
    "3. balance\n",
    "\n",
    "Task 1.2\n",
    "create 3 accounts"
   ]
  },
  {
   "cell_type": "code",
   "execution_count": null,
   "metadata": {},
   "outputs": [
    {
     "name": "stdout",
     "output_type": "stream",
     "text": [
      "You balance is : R100,000.00\n"
     ]
    }
   ],
   "source": [
    "#Task 1.1\n",
    "\n",
    "class Bank:\n",
    "    # method called when creating object\n",
    "    def __init__(self, acc_no, name, balance):\n",
    "        # instance variables\n",
    "        self.acc_no = acc_no\n",
    "        self.name = name\n",
    "        self.balance = balance\n",
    "\n",
    "    def display_balance(self):\n",
    "        return f\"You balance is: R{self.balance:,.2f}\"\n",
    "\n",
    "\n",
    "chleo = Bank(1, \"Chleo\", 100_000 )\n",
    "diyali = Bank(2, \"Diyali\", 60_000)\n",
    "Jevan = Bank(3, \"Jevan\", 800_000)\n",
    "\n",
    "print(chleo.display_balance())"
   ]
  }
 ],
 "metadata": {
  "kernelspec": {
   "display_name": ".venv",
   "language": "python",
   "name": "python3"
  },
  "language_info": {
   "codemirror_mode": {
    "name": "ipython",
    "version": 3
   },
   "file_extension": ".py",
   "mimetype": "text/x-python",
   "name": "python",
   "nbconvert_exporter": "python",
   "pygments_lexer": "ipython3",
   "version": "3.13.2"
  }
 },
 "nbformat": 4,
 "nbformat_minor": 2
}
