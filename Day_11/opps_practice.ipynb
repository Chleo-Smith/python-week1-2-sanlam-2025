{
 "cells": [
  {
   "cell_type": "code",
   "execution_count": 3,
   "metadata": {},
   "outputs": [],
   "source": [
    "class Bank:\n",
    "    interest_rate = 0.02\n",
    "    no_of_accounts = 0\n",
    "\n",
    "    # method called when creating object\n",
    "    def __init__(self, acc_no, name, balance):\n",
    "        # instance variables\n",
    "        self.acc_no = acc_no\n",
    "        self.name = name\n",
    "        self.balance = balance\n",
    "        Bank.no_of_accounts+=1\n",
    "\n",
    "    #Task 1.3\n",
    "    def display_balance(self):\n",
    "        #no decimal points added when yoiu use round. only does it if decimal points present\n",
    "        return f\"You balance is: R{self.balance:,.2f}\"\n",
    "\n",
    "    #Abstraction : complexity hidden\n",
    "    #Task 1.4\n",
    "    def withdraw(self, amount):\n",
    "        if amount <= 0:\n",
    "            return \"Invalid amount\"\n",
    "\n",
    "        if amount > self.balance:\n",
    "            return f\"Insufficient funds. {self.display_balance()}\"\n",
    "\n",
    "        self.balance -= amount\n",
    "        return f\"Success. {self.display_balance()}\"\n",
    "\n",
    "    def deposit(self, amount):\n",
    "        self.balance += amount\n",
    "        return f\"Successfully deposited. {self.display_balance()}\"\n",
    "\n",
    "    # modify instance variable --> instance method\n",
    "    def apply_interest(self):\n",
    "        self.balance += self.balance * self.interest_rate\n",
    "        return\n",
    "\n",
    "    # modify class variable --> class method\n",
    "    @classmethod\n",
    "    def update_interest_rate(cls, rate):\n",
    "        if(0 < rate <=100):\n",
    "            cls.interest_rate = rate/100\n",
    "            return f\"Successfully Updated interest rate to {rate}%\"\n",
    "        else:\n",
    "            return f\"Failed.Interest rate of {rate}% is invalid\"\n",
    "\n",
    "    @classmethod\n",
    "    def get_total_no_acconut(cls):\n",
    "        return Bank.no_of_accounts"
   ]
  },
  {
   "cell_type": "code",
   "execution_count": null,
   "metadata": {},
   "outputs": [
    {
     "name": "stdout",
     "output_type": "stream",
     "text": [
      "You balance is: R102.00\n",
      "You balance is: R100.00\n"
     ]
    }
   ],
   "source": [
    "class SavingsAccount(Bank):\n",
    "    interest_rate = 0.05\n",
    "\n",
    "class CheckingAcconut(Bank):\n",
    "    transaction_fee = 1\n",
    "\n",
    "    def withdraw(self, amount):\n",
    "        return super().withdraw(amount + self.transaction_fee)\n",
    "\n",
    "\n",
    "bank = Bank(123, \"name\", 100)\n",
    "save = CheckingAcconut(123, \"name\", 100)\n",
    "\n",
    "bank.apply_interest()\n",
    "save.apply_interest()\n",
    "save.withdraw(1)\n",
    "print(bank.display_balance())\n",
    "print(save.display_balance())\n"
   ]
  }
 ],
 "metadata": {
  "kernelspec": {
   "display_name": ".venv",
   "language": "python",
   "name": "python3"
  },
  "language_info": {
   "codemirror_mode": {
    "name": "ipython",
    "version": 3
   },
   "file_extension": ".py",
   "mimetype": "text/x-python",
   "name": "python",
   "nbconvert_exporter": "python",
   "pygments_lexer": "ipython3",
   "version": "3.13.2"
  }
 },
 "nbformat": 4,
 "nbformat_minor": 2
}
