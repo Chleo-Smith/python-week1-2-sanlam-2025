{
 "cells": [
  {
   "cell_type": "markdown",
   "metadata": {},
   "source": [
    "## Data Manipulation Challenges 📊\n",
    "\n",
    "<details>\n",
    "<summary>Exercise 1: Data Sorting and Ranking (⭐⭐)</summary>\n",
    "\n",
    "### 🏆 Objective\n",
    "\n",
    "Sort a complex data structure and add a ranking key based on a specific criterion.\n",
    "\n",
    "```python\n",
    "# Setup Code\n",
    "students = [\n",
    "    {\"name\": \"Alice\", \"grade\": 88},\n",
    "    {\"name\": \"Bob\", \"grade\": 75},\n",
    "    {\"name\": \"Charlie\", \"grade\": 93}\n",
    "]\n",
    "# Expected Task: Sort the list of dictionaries by grade in descending order and add a \"rank\" key to each dictionary based on the sorting.\n",
    "\n",
    "# Your solution here:\n",
    "# sorted_students = ...\n",
    "\n",
    "# Expected Output\n",
    "# print(sorted_students)\n",
    "```\n",
    "\n",
    "### Expected Output\n",
    "\n",
    "```\n",
    "[\n",
    "    {\"name\": \"Charlie\", \"grade\": 93, \"rank\": 1},\n",
    "    {\"name\": \"Alice\", \"grade\": 88, \"rank\": 2},\n",
    "    {\"name\": \"Bob\", \"grade\": 75, \"rank\": 3}\n",
    "]\n",
    "```"
   ]
  },
  {
   "cell_type": "code",
   "execution_count": 9,
   "metadata": {},
   "outputs": [
    {
     "name": "stdout",
     "output_type": "stream",
     "text": [
      "[{'name': 'Charlie', 'grade': 93, 'rank': 1}, {'name': 'Alice', 'grade': 88, 'rank': 2}, {'name': 'Bob', 'grade': 75, 'rank': 3}]\n"
     ]
    }
   ],
   "source": [
    "students = [\n",
    "    {\"name\": \"Alice\", \"grade\": 88},\n",
    "    {\"name\": \"Bob\", \"grade\": 75},\n",
    "    {\"name\": \"Charlie\", \"grade\": 93}\n",
    "]\n",
    "\n",
    "def sort_and_rank(students):\n",
    "    sorted_students =  sorted(students, key=lambda x:x[\"grade\"], reverse=True)\n",
    "\n",
    "    for i, student in enumerate(sorted_students):\n",
    "        student[\"rank\"] = i + 1\n",
    "\n",
    "    return sorted_students\n",
    "\n",
    "sorted_students = list(sort_and_rank(students))\n",
    "print(sorted_students)"
   ]
  },
  {
   "cell_type": "markdown",
   "metadata": {},
   "source": [
    "<summary>Exercise 2: Merging Data from Two Lists (⭐⭐)</summary>\n",
    "\n",
    "### 🔄 Objective\n",
    "\n",
    "Merge data from two lists of dictionaries based on a common key.\n",
    "\n",
    "```python\n",
    "# Setup Code\n",
    "employees = [{\"id\": 1, \"name\": \"Alice\"}, {\"id\": 2, \"name\": \"Bob\"}]\n",
    "salaries = [{\"id\": 1, \"salary\": 50000}, {\"id\": 2, \"salary\": 60000}]\n",
    "# Expected Task: Merge these lists into a single list of dictionaries by matching the \"id\" field, including all keys.\n",
    "\n",
    "# Your solution here:\n",
    "# merged_data = ...\n",
    "\n",
    "# Expected Output\n",
    "# print(merged_data)\n",
    "```\n",
    "\n",
    "### Expected Output\n",
    "\n",
    "```\n",
    "[\n",
    "    {\"id\": 1, \"name\": \"Alice\", \"salary\": 50000},\n",
    "    {\"id\": 2, \"name\": \"Bob\", \"salary\": 60000}\n",
    "]"
   ]
  },
  {
   "cell_type": "code",
   "execution_count": 10,
   "metadata": {},
   "outputs": [
    {
     "name": "stdout",
     "output_type": "stream",
     "text": [
      "[{'id': 1, 'name': 'Alice', 'salary': 50000}, {'id': 2, 'name': 'Bob', 'salary': 60000}]\n"
     ]
    }
   ],
   "source": [
    "employees = [{\"id\": 1, \"name\": \"Alice\"}, {\"id\": 2, \"name\": \"Bob\"}]\n",
    "salaries = [{\"id\": 1, \"salary\": 50000}, {\"id\": 2, \"salary\": 60000}]\n",
    "\n",
    "def merge(employees, salaries):\n",
    "    merge = []\n",
    "    for employee in employees:\n",
    "        employee_id = employee[\"id\"]\n",
    "        for salary in salaries:\n",
    "            if salary[\"id\"] == employee_id:\n",
    "                merge_entry = employee.copy()\n",
    "                merge_entry.update(salary)\n",
    "                merge.append(merge_entry)\n",
    "                break\n",
    "    return merge\n",
    "merged_data = merge(employees, salaries)\n",
    "print(merged_data)"
   ]
  },
  {
   "cell_type": "markdown",
   "metadata": {},
   "source": [
    "<summary>Exercise 3: Advanced Filtering with Multiple Conditions (⭐⭐)</summary>\n",
    "\n",
    "### 🔍 Objective\n",
    "\n",
    "Apply multiple filtering criteria to a list of dictionaries.\n",
    "\n",
    "```python\n",
    "# Setup Code\n",
    "products = [\n",
    "    {\"id\": 1, \"category\": \"Electronics\", \"price\": 850},\n",
    "    {\"id\": 2, \"category\": \"Furniture\", \"price\": 1200},\n",
    "    {\"id\": 3, \"category\": \"Electronics\", \"price\": 400}\n",
    "]\n",
    "# Expected Task: Filter the list to include only products in the \"Electronics\" category with a price less than 500.\n",
    "\n",
    "# Your solution here:\n",
    "# filtered_products = ...\n",
    "\n",
    "# Expected Output\n",
    "# print(filtered_products)\n",
    "```\n",
    "\n",
    "### Expected Output\n",
    "\n",
    "```\n",
    "[\n",
    "    {\"id\": 3, \"category\": \"Electronics\", \"price\": 400}\n",
    "]"
   ]
  },
  {
   "cell_type": "code",
   "execution_count": 12,
   "metadata": {},
   "outputs": [
    {
     "name": "stdout",
     "output_type": "stream",
     "text": [
      "[{'id': 3, 'category': 'Electronics', 'price': 400}]\n"
     ]
    }
   ],
   "source": [
    "products = [\n",
    "    {\"id\": 1, \"category\": \"Electronics\", \"price\": 850},\n",
    "    {\"id\": 2, \"category\": \"Furniture\", \"price\": 1200},\n",
    "    {\"id\": 3, \"category\": \"Electronics\", \"price\": 400},\n",
    "]\n",
    "\n",
    "\n",
    "def filtered(products):\n",
    "    filtered_list = []\n",
    "    for item in products:\n",
    "        if (item[\"category\"] == \"Electronics\" and item[\"price\"] < 500):\n",
    "            filtered_list.append(item)\n",
    "    return filtered_list\n",
    "\n",
    "print(filtered(products))"
   ]
  },
  {
   "cell_type": "markdown",
   "metadata": {},
   "source": [
    "<summary>Exercise 4: Complex Data Transformation (⭐⭐⭐)</summary>\n",
    "\n",
    "### 🔄 Objective\n",
    "\n",
    "Transform a list of dictionaries into a new structure.\n",
    "\n",
    "```python\n",
    "# Setup Code\n",
    "orders = [\n",
    "    {\"order_id\": 1, \"items\": [{\"product\": \"A\", \"quantity\": 2}, {\"product\": \"B\", \"quantity\": 3}]},\n",
    "    {\"order_id\": 2, \"items\": [{\"product\": \"A\", \"quantity\": 1}, {\"product\": \"C\", \"quantity\": 1}]}\n",
    "]\n",
    "# Expected Task: Transform this list into a dictionary where keys are product names and values are total quantities ordered across all orders.\n",
    "\n",
    "# Your solution here:\n",
    "# product_quantities = ...\n",
    "\n",
    "# Expected Output\n",
    "# print(product_quantities)\n",
    "```\n",
    "\n",
    "### Expected Output\n",
    "\n",
    "```\n",
    "{\n",
    "    \"A\": 3,\n",
    "    \"B\": 3,\n",
    "    \"C\": 1\n",
    "}\n",
    "```"
   ]
  },
  {
   "cell_type": "code",
   "execution_count": 20,
   "metadata": {},
   "outputs": [
    {
     "name": "stdout",
     "output_type": "stream",
     "text": [
      "{'A': 3, 'B': 3, 'C': 1}\n"
     ]
    }
   ],
   "source": [
    "orders = [\n",
    "    {\n",
    "        \"order_id\": 1,\n",
    "        \"items\": [{\"product\": \"A\", \"quantity\": 2}, {\"product\": \"B\", \"quantity\": 3}],\n",
    "    },\n",
    "    {\n",
    "        \"order_id\": 2,\n",
    "        \"items\": [{\"product\": \"A\", \"quantity\": 1}, {\"product\": \"C\", \"quantity\": 1}],\n",
    "    },\n",
    "]\n",
    "\n",
    "def product_quantities(orders):\n",
    "    product_quantities = {}\n",
    "    for order in orders:\n",
    "        for item in order[\"items\"]:\n",
    "            #if order in list update\n",
    "\n",
    "            if(item[\"product\"] in product_quantities):\n",
    "                product_quantities[item[\"product\"]] += item[\"quantity\"]\n",
    "            else:\n",
    "                product_quantities[item[\"product\"]] = item[\"quantity\"]\n",
    "    return product_quantities\n",
    "\n",
    "print(product_quantities(orders))"
   ]
  }
 ],
 "metadata": {
  "kernelspec": {
   "display_name": ".venv",
   "language": "python",
   "name": "python3"
  },
  "language_info": {
   "codemirror_mode": {
    "name": "ipython",
    "version": 3
   },
   "file_extension": ".py",
   "mimetype": "text/x-python",
   "name": "python",
   "nbconvert_exporter": "python",
   "pygments_lexer": "ipython3",
   "version": "3.13.2"
  }
 },
 "nbformat": 4,
 "nbformat_minor": 2
}
