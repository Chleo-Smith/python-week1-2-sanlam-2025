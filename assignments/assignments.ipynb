{
 "cells": [
  {
   "cell_type": "markdown",
   "metadata": {},
   "source": [
    "## Data Manipulation Challenges 📊\n",
    "\n",
    "<details>\n",
    "<summary>Exercise 1: Data Sorting and Ranking (⭐⭐)</summary>\n",
    "\n",
    "### 🏆 Objective\n",
    "\n",
    "Sort a complex data structure and add a ranking key based on a specific criterion.\n",
    "\n",
    "```python\n",
    "# Setup Code\n",
    "students = [\n",
    "    {\"name\": \"Alice\", \"grade\": 88},\n",
    "    {\"name\": \"Bob\", \"grade\": 75},\n",
    "    {\"name\": \"Charlie\", \"grade\": 93}\n",
    "]\n",
    "# Expected Task: Sort the list of dictionaries by grade in descending order and add a \"rank\" key to each dictionary based on the sorting.\n",
    "\n",
    "# Your solution here:\n",
    "# sorted_students = ...\n",
    "\n",
    "# Expected Output\n",
    "# print(sorted_students)\n",
    "```\n",
    "\n",
    "### Expected Output\n",
    "\n",
    "```\n",
    "[\n",
    "    {\"name\": \"Charlie\", \"grade\": 93, \"rank\": 1},\n",
    "    {\"name\": \"Alice\", \"grade\": 88, \"rank\": 2},\n",
    "    {\"name\": \"Bob\", \"grade\": 75, \"rank\": 3}\n",
    "]\n",
    "```"
   ]
  },
  {
   "cell_type": "code",
   "execution_count": 9,
   "metadata": {},
   "outputs": [
    {
     "name": "stdout",
     "output_type": "stream",
     "text": [
      "[{'name': 'Charlie', 'grade': 93, 'rank': 1}, {'name': 'Alice', 'grade': 88, 'rank': 2}, {'name': 'Bob', 'grade': 75, 'rank': 3}]\n"
     ]
    }
   ],
   "source": [
    "students = [\n",
    "    {\"name\": \"Alice\", \"grade\": 88},\n",
    "    {\"name\": \"Bob\", \"grade\": 75},\n",
    "    {\"name\": \"Charlie\", \"grade\": 93}\n",
    "]\n",
    "\n",
    "def sort_and_rank(students):\n",
    "    sorted_students =  sorted(students, key=lambda x:x[\"grade\"], reverse=True)\n",
    "\n",
    "    for i, student in enumerate(sorted_students):\n",
    "        student[\"rank\"] = i + 1\n",
    "\n",
    "    return sorted_students\n",
    "\n",
    "sorted_students = list(sort_and_rank(students))\n",
    "print(sorted_students)"
   ]
  },
  {
   "cell_type": "markdown",
   "metadata": {},
   "source": [
    "<summary>Exercise 2: Merging Data from Two Lists (⭐⭐)</summary>\n",
    "\n",
    "### 🔄 Objective\n",
    "\n",
    "Merge data from two lists of dictionaries based on a common key.\n",
    "\n",
    "```python\n",
    "# Setup Code\n",
    "employees = [{\"id\": 1, \"name\": \"Alice\"}, {\"id\": 2, \"name\": \"Bob\"}]\n",
    "salaries = [{\"id\": 1, \"salary\": 50000}, {\"id\": 2, \"salary\": 60000}]\n",
    "# Expected Task: Merge these lists into a single list of dictionaries by matching the \"id\" field, including all keys.\n",
    "\n",
    "# Your solution here:\n",
    "# merged_data = ...\n",
    "\n",
    "# Expected Output\n",
    "# print(merged_data)\n",
    "```\n",
    "\n",
    "### Expected Output\n",
    "\n",
    "```\n",
    "[\n",
    "    {\"id\": 1, \"name\": \"Alice\", \"salary\": 50000},\n",
    "    {\"id\": 2, \"name\": \"Bob\", \"salary\": 60000}\n",
    "]"
   ]
  },
  {
   "cell_type": "code",
   "execution_count": 10,
   "metadata": {},
   "outputs": [
    {
     "name": "stdout",
     "output_type": "stream",
     "text": [
      "[{'id': 1, 'name': 'Alice', 'salary': 50000}, {'id': 2, 'name': 'Bob', 'salary': 60000}]\n"
     ]
    }
   ],
   "source": [
    "employees = [{\"id\": 1, \"name\": \"Alice\"}, {\"id\": 2, \"name\": \"Bob\"}]\n",
    "salaries = [{\"id\": 1, \"salary\": 50000}, {\"id\": 2, \"salary\": 60000}]\n",
    "\n",
    "def merge(employees, salaries):\n",
    "    merge = []\n",
    "    for employee in employees:\n",
    "        employee_id = employee[\"id\"]\n",
    "        for salary in salaries:\n",
    "            if salary[\"id\"] == employee_id:\n",
    "                merge_entry = employee.copy()\n",
    "                merge_entry.update(salary)\n",
    "                merge.append(merge_entry)\n",
    "                break\n",
    "    return merge\n",
    "merged_data = merge(employees, salaries)\n",
    "print(merged_data)"
   ]
  },
  {
   "cell_type": "markdown",
   "metadata": {},
   "source": [
    "<summary>Exercise 3: Advanced Filtering with Multiple Conditions (⭐⭐)</summary>\n",
    "\n",
    "### 🔍 Objective\n",
    "\n",
    "Apply multiple filtering criteria to a list of dictionaries.\n",
    "\n",
    "```python\n",
    "# Setup Code\n",
    "products = [\n",
    "    {\"id\": 1, \"category\": \"Electronics\", \"price\": 850},\n",
    "    {\"id\": 2, \"category\": \"Furniture\", \"price\": 1200},\n",
    "    {\"id\": 3, \"category\": \"Electronics\", \"price\": 400}\n",
    "]\n",
    "# Expected Task: Filter the list to include only products in the \"Electronics\" category with a price less than 500.\n",
    "\n",
    "# Your solution here:\n",
    "# filtered_products = ...\n",
    "\n",
    "# Expected Output\n",
    "# print(filtered_products)\n",
    "```\n",
    "\n",
    "### Expected Output\n",
    "\n",
    "```\n",
    "[\n",
    "    {\"id\": 3, \"category\": \"Electronics\", \"price\": 400}\n",
    "]"
   ]
  },
  {
   "cell_type": "code",
   "execution_count": 12,
   "metadata": {},
   "outputs": [
    {
     "name": "stdout",
     "output_type": "stream",
     "text": [
      "[{'id': 3, 'category': 'Electronics', 'price': 400}]\n"
     ]
    }
   ],
   "source": [
    "products = [\n",
    "    {\"id\": 1, \"category\": \"Electronics\", \"price\": 850},\n",
    "    {\"id\": 2, \"category\": \"Furniture\", \"price\": 1200},\n",
    "    {\"id\": 3, \"category\": \"Electronics\", \"price\": 400},\n",
    "]\n",
    "\n",
    "\n",
    "def filtered(products):\n",
    "    filtered_list = []\n",
    "    for item in products:\n",
    "        if (item[\"category\"] == \"Electronics\" and item[\"price\"] < 500):\n",
    "            filtered_list.append(item)\n",
    "    return filtered_list\n",
    "\n",
    "print(filtered(products))"
   ]
  },
  {
   "cell_type": "markdown",
   "metadata": {},
   "source": [
    "<summary>Exercise 4: Complex Data Transformation (⭐⭐⭐)</summary>\n",
    "\n",
    "### 🔄 Objective\n",
    "\n",
    "Transform a list of dictionaries into a new structure.\n",
    "\n",
    "```python\n",
    "# Setup Code\n",
    "orders = [\n",
    "    {\"order_id\": 1, \"items\": [{\"product\": \"A\", \"quantity\": 2}, {\"product\": \"B\", \"quantity\": 3}]},\n",
    "    {\"order_id\": 2, \"items\": [{\"product\": \"A\", \"quantity\": 1}, {\"product\": \"C\", \"quantity\": 1}]}\n",
    "]\n",
    "# Expected Task: Transform this list into a dictionary where keys are product names and values are total quantities ordered across all orders.\n",
    "\n",
    "# Your solution here:\n",
    "# product_quantities = ...\n",
    "\n",
    "# Expected Output\n",
    "# print(product_quantities)\n",
    "```\n",
    "\n",
    "### Expected Output\n",
    "\n",
    "```\n",
    "{\n",
    "    \"A\": 3,\n",
    "    \"B\": 3,\n",
    "    \"C\": 1\n",
    "}\n",
    "```"
   ]
  },
  {
   "cell_type": "code",
   "execution_count": 20,
   "metadata": {},
   "outputs": [
    {
     "name": "stdout",
     "output_type": "stream",
     "text": [
      "{'A': 3, 'B': 3, 'C': 1}\n"
     ]
    }
   ],
   "source": [
    "orders = [\n",
    "    {\n",
    "        \"order_id\": 1,\n",
    "        \"items\": [{\"product\": \"A\", \"quantity\": 2}, {\"product\": \"B\", \"quantity\": 3}],\n",
    "    },\n",
    "    {\n",
    "        \"order_id\": 2,\n",
    "        \"items\": [{\"product\": \"A\", \"quantity\": 1}, {\"product\": \"C\", \"quantity\": 1}],\n",
    "    },\n",
    "]\n",
    "\n",
    "def product_quantities(orders):\n",
    "    product_quantities = {}\n",
    "    for order in orders:\n",
    "        for item in order[\"items\"]:\n",
    "            #if order in list update\n",
    "\n",
    "            if(item[\"product\"] in product_quantities):\n",
    "                product_quantities[item[\"product\"]] += item[\"quantity\"]\n",
    "            else:\n",
    "                product_quantities[item[\"product\"]] = item[\"quantity\"]\n",
    "    return product_quantities\n",
    "\n",
    "print(product_quantities(orders))"
   ]
  },
  {
   "cell_type": "markdown",
   "metadata": {},
   "source": [
    "<summary>Exercise 5: Data Consolidation and Summarization (⭐⭐⭐)</summary>\n",
    "\n",
    "### 📊 Objective\n",
    "\n",
    "Consolidate and summarize data from a list of dictionaries.\n",
    "\n",
    "```python\n",
    "# Setup Code\n",
    "transactions = [\n",
    "    {\"date\": \"2021-01-01\", \"amount\": 100, \"category\": \"Food\"},\n",
    "    {\"date\": \"2021-01-01\", \"amount\": 200, \"category\": \"Transport\"},\n",
    "    {\"date\": \"2021-01-02\", \"amount\": 150, \"category\": \"Food\"}\n",
    "]\n",
    "# Expected Task: Summarize the total amount spent per category.\n",
    "\n",
    "# Your solution here:\n",
    "# category_totals = ...\n",
    "\n",
    "# Expected Output\n",
    "# print(category_totals)\n",
    "```\n",
    "\n",
    "### Expected Output\n",
    "\n",
    "```\n",
    "{\n",
    "    \"Food\": 250,\n",
    "    \"Transport\": 200\n",
    "}\n",
    "```"
   ]
  },
  {
   "cell_type": "code",
   "execution_count": null,
   "metadata": {},
   "outputs": [
    {
     "name": "stdout",
     "output_type": "stream",
     "text": [
      "{'Food': 250, 'Transport': 200}\n"
     ]
    }
   ],
   "source": [
    "transactions = [\n",
    "    {\"date\": \"2021-01-01\", \"amount\": 100, \"category\": \"Food\"},\n",
    "    {\"date\": \"2021-01-01\", \"amount\": 200, \"category\": \"Transport\"},\n",
    "    {\"date\": \"2021-01-02\", \"amount\": 150, \"category\": \"Food\"},\n",
    "]\n",
    "def category_totals(transactions):\n",
    "    totals = {}\n",
    "\n",
    "    for item in transactions:\n",
    "        category = item[\"category\"]\n",
    "        amount = item[\"amount\"]\n",
    "\n",
    "        if(category in totals):\n",
    "            totals[category] += amount\n",
    "        else:\n",
    "            totals[category] = amount\n",
    "    return totals\n",
    "\n",
    "print(category_totals(transactions))\n"
   ]
  },
  {
   "cell_type": "markdown",
   "metadata": {},
   "source": [
    "<summary>Exercise 6: Grouping and Aggregating Data (⭐⭐⭐)</summary>\n",
    "\n",
    "### 📈 Objective\n",
    "\n",
    "Group data by a specific key and perform aggregation.\n",
    "\n",
    "```python\n",
    "# Setup Code\n",
    "sales = [\n",
    "    {\"salesperson\": \"Alice\", \"amount\": 200},\n",
    "    {\"salesperson\": \"Bob\", \"amount\": 150},\n",
    "    {\"salesperson\": \"Alice\", \"amount\": 100}\n",
    "]\n",
    "# Expected Task: Group sales by salesperson and calculate the total sales amount for each.\n",
    "\n",
    "# Your solution here:\n",
    "# sales_by_person = ...\n",
    "\n",
    "# Expected Output\n",
    "# print(sales_by_person)\n",
    "```\n",
    "\n",
    "### Expected Output\n",
    "\n",
    "```\n",
    "{\n",
    "    \"Alice\": 300,\n",
    "    \"Bob\": 150\n",
    "}\n",
    "```"
   ]
  },
  {
   "cell_type": "code",
   "execution_count": 31,
   "metadata": {},
   "outputs": [
    {
     "name": "stdout",
     "output_type": "stream",
     "text": [
      "{'Alice': 300, 'Bob': 150}\n"
     ]
    }
   ],
   "source": [
    "sales = [\n",
    "    {\"salesperson\": \"Alice\", \"amount\": 200},\n",
    "    {\"salesperson\": \"Bob\", \"amount\": 150},\n",
    "    {\"salesperson\": \"Alice\", \"amount\": 100},\n",
    "]\n",
    "def sales_by_person(sales):\n",
    "    sales_filtered = {}\n",
    "    for person in sales:\n",
    "        name = person[\"salesperson\"]\n",
    "        amount = person[\"amount\"]\n",
    "\n",
    "        if(name in sales_filtered):\n",
    "            sales_filtered[name] += amount\n",
    "        else:\n",
    "            sales_filtered[name] = amount\n",
    "    return sales_filtered\n",
    "\n",
    "print(sales_by_person(sales))"
   ]
  },
  {
   "cell_type": "markdown",
   "metadata": {},
   "source": [
    "<summary>Exercise 7: Lambda Functions for Spell Power (⭐⭐)</summary>\n",
    "\n",
    "### ✨ Objective\n",
    "\n",
    "Use a lambda function to sort a list of spells by their power level.\n",
    "\n",
    "```python\n",
    "# Setup Code\n",
    "spells = [(\"Lumos\", 5), (\"Obliviate\", 10), (\"Expelliarmus\", 7)]\n",
    "# Expected Task: Sort the spells list by power level in descending order using a lambda function.\n",
    "\n",
    "# Your solution here:\n",
    "# sorted_spells = ...\n",
    "\n",
    "# Expected Output\n",
    "# print(sorted_spells)\n",
    "```\n",
    "\n",
    "### Expected Output\n",
    "\n",
    "```\n",
    "[('Obliviate', 10), ('Expelliarmus', 7), ('Lumos', 5)]"
   ]
  },
  {
   "cell_type": "code",
   "execution_count": null,
   "metadata": {},
   "outputs": [
    {
     "name": "stdout",
     "output_type": "stream",
     "text": [
      "[('Obliviate', 10), ('Expelliarmus', 7), ('Lumos', 5)]\n"
     ]
    }
   ],
   "source": [
    "spells = [(\"Lumos\", 5), (\"Obliviate\", 10), (\"Expelliarmus\", 7)]\n",
    "def sorted_spells(spells):\n",
    "\n",
    "    return sorted(spells, key = lambda x: x[1], reverse=True)\n",
    "\n",
    "print(sorted_spells(spells))\n"
   ]
  },
  {
   "cell_type": "markdown",
   "metadata": {},
   "source": [
    "<summary>Exercise 8: Map Transformation for Potion Ingredients (⭐⭐)</summary>\n",
    "\n",
    "### 🧪 Objective\n",
    "\n",
    "Transform a list of potion ingredients to their required quantities using `map`.\n",
    "\n",
    "```python\n",
    "# Setup Code\n",
    "ingredients = [\"Wolfsbane\", \"Eye of Newt\", \"Dragon Scale\"]\n",
    "# Expected Task: Use `map` to append \": 3 grams\" to each ingredient.\n",
    "\n",
    "# Your solution here:\n",
    "# formatted_ingredients = ...\n",
    "\n",
    "# Expected Output\n",
    "# print(formatted_ingredients)\n",
    "```\n",
    "\n",
    "### Expected Output\n",
    "\n",
    "```\n",
    "['Wolfsbane: 3 grams', 'Eye of Newt: 3 grams', 'Dragon Scale: 3 grams']\n",
    "```\n"
   ]
  },
  {
   "cell_type": "code",
   "execution_count": 37,
   "metadata": {},
   "outputs": [
    {
     "name": "stdout",
     "output_type": "stream",
     "text": [
      "['Wolfsbane: 3 grams', 'Eye of Newt: 3 grams', 'Dragon Scale: 3 grams']\n"
     ]
    }
   ],
   "source": [
    "ingredients = [\"Wolfsbane\", \"Eye of Newt\", \"Dragon Scale\"]\n",
    "\n",
    "def formatted_ingredients(ingredients):\n",
    "    return list(map(lambda ingredient: ingredient + \": 3 grams\", ingredients))\n",
    "print(formatted_ingredients(ingredients))\n"
   ]
  },
  {
   "cell_type": "markdown",
   "metadata": {},
   "source": [
    "<summary>Exercise 9: Magical Book Filter and Formatter (⭐⭐⭐)</summary>\n",
    "\n",
    "### 📚 Objective\n",
    "\n",
    "Combine `filter`, `map`, and lambda functions to process a list of books and format their titles.\n",
    "\n",
    "```python\n",
    "# Setup Code\n",
    "books = [{\"title\": \"A History of Magic\", \"pages\": 100}, {\"title\": \"Magical Drafts and Potions\", \"pages\": 150}]\n",
    "# Expected Task: Filter books with more than 120 pages and format their titles to uppercase.\n",
    "\n",
    "# Your solution here:\n",
    "# formatted_titles = ...\n",
    "\n",
    "# Expected Output\n",
    "# print(formatted_titles)\n",
    "```\n",
    "\n",
    "### Expected Output\n",
    "\n",
    "```\n",
    "['MAGICAL DRAFTS AND POTIONS']\n",
    "```\n"
   ]
  },
  {
   "cell_type": "code",
   "execution_count": 40,
   "metadata": {},
   "outputs": [
    {
     "name": "stdout",
     "output_type": "stream",
     "text": [
      "['MAGICAL DRAFTS AND POTIONS']\n"
     ]
    }
   ],
   "source": [
    "books = [{\"title\": \"A History of Magic\", \"pages\": 100}, {\"title\": \"Magical Drafts and Potions\", \"pages\": 150}]\n",
    "\n",
    "def formatted_titles(books):\n",
    "\n",
    "    filtered_books = filter(lambda book: book[\"pages\"] > 120, books)\n",
    "    uppercase_books = map(lambda book: book[\"title\"].upper(), filtered_books)\n",
    "    return list(uppercase_books)\n",
    "\n",
    "print(formatted_titles(books))\n"
   ]
  },
  {
   "cell_type": "markdown",
   "metadata": {},
   "source": [
    "<summary>Exercise 10: Wizard Duel Game Class (⭐⭐⭐⭐)</summary>\n",
    "\n",
    "### ⚔️ Objective\n",
    "\n",
    "Create a `WizardDuel` class where wizards can cast spells at each other until one wins.\n",
    "\n",
    "```python\n",
    "# Setup Code\n",
    "class WizardDuel:\n",
    "    # Your implementation here\n",
    "    pass\n",
    "\n",
    "# Example usage:\n",
    "# duel = WizardDuel(\"Harry\", \"Draco\", 50, 40)\n",
    "# duel.cast_spell(\"Harry\", 10)\n",
    "# duel.cast_spell(\"Draco\", 5)\n",
    "# winner = duel.get_winner()\n",
    "```\n",
    "\n",
    "### Expected Output\n",
    "\n",
    "```\n",
    "After a duel between Harry and Draco, Harry wins with 10 health points left.\n",
    "```"
   ]
  },
  {
   "cell_type": "code",
   "execution_count": null,
   "metadata": {},
   "outputs": [],
   "source": [
    "class WizardDuel:\n",
    "    # Your implementation here\n",
    "    pass\n"
   ]
  },
  {
   "cell_type": "markdown",
   "metadata": {},
   "source": [
    "<summary>Exercise 11: Custom Error Handling in Potion Making (⭐⭐⭐)</summary>\n",
    "\n",
    "### 🧪 Objective\n",
    "\n",
    "Create a custom exception to handle errors in potion making, such as using the wrong ingredient.\n",
    "\n",
    "```python\n",
    "# Setup Code\n",
    "class PotionError(Exception):\n",
    "    pass\n",
    "\n",
    "def brew_potion(potion_name, ingredients):\n",
    "    # Your implementation here\n",
    "    pass\n",
    "\n",
    "# Example usage:\n",
    "# try:\n",
    "#     brew_potion(\"Love Potion\", [\"Rose Petal\", \"Unicorn Hair\"])\n",
    "# except PotionError as e:\n",
    "#     print(f\"Caught PotionError: {e}\")\n",
    "```\n",
    "\n",
    "### Expected Output\n",
    "\n",
    "```\n",
    "Caught PotionError: 'Eye of Newt' is not a valid ingredient for the Love Potion.\n",
    "```"
   ]
  },
  {
   "cell_type": "code",
   "execution_count": null,
   "metadata": {},
   "outputs": [
    {
     "name": "stdout",
     "output_type": "stream",
     "text": [
      "Caught PotionError: 'Rose etal' is not a valid ingredient for the Love Potion.\n"
     ]
    }
   ],
   "source": [
    "# Setup Code\n",
    "class PotionError(Exception):\n",
    "    def __init__(self, msg):\n",
    "        self.msg = msg\n",
    "\n",
    "    def __str__(self):\n",
    "        return f'{self.msg}'\n",
    "\n",
    "\n",
    "def brew_potion(potion_name, ingredients):\n",
    "    valid_ingredients = {\n",
    "        \"Love Potion\": [\"Rose Petal\", \"Unicorn Hair\"]\n",
    "    }\n",
    "\n",
    "    if potion_name not in valid_ingredients:\n",
    "        raise PotionError(\n",
    "            f\"'{potion_name}' is not a valid potion.\"\n",
    "        )\n",
    "\n",
    "    for ingredient in ingredients:\n",
    "        if ingredient not in valid_ingredients[potion_name]:\n",
    "            raise PotionError(f\"'{ingredient}' is not a valid ingredient for the {potion_name}.\")\n",
    "\n",
    "try:\n",
    "    print(brew_potion(\"Love Potion\", [\"Rose Petal\", \"Unicorn Hair\"]))\n",
    "except PotionError as e:\n",
    "    print(f\"Caught PotionError: {e}\")\n"
   ]
  },
  {
   "cell_type": "markdown",
   "metadata": {},
   "source": [
    "<summary>Exercise 12: Hogwarts Library Database Query (⭐⭐)</summary>\n",
    "\n",
    "### 📚 Objective\n",
    "\n",
    "Simulate a database query to find books by a specific author using list comprehensions.\n",
    "\n",
    "```python\n",
    "# Setup Code\n",
    "library = [\n",
    "    {\"title\": \"Unfogging the Future\", \"author\": \"Cassandra Vablatsky\"},\n",
    "    {\"title\": \"Magical Hieroglyphs and Logograms\", \"author\": \"Bathilda Bagshot\"}\n",
    "]\n",
    "# Expected Task: Use a list comprehension to select books written by Bathilda Bagshot.\n",
    "\n",
    "# Your solution here:\n",
    "# bagshot_books = ...\n",
    "\n",
    "# Expected Output\n",
    "# print(bagshot_books)\n",
    "```\n",
    "\n",
    "### Expected Output\n",
    "\n",
    "```\n",
    "[{'title': 'Magical Hieroglyphs and Logograms', 'author': 'Bathilda Bagshot'}]\n",
    "```"
   ]
  },
  {
   "cell_type": "code",
   "execution_count": 59,
   "metadata": {},
   "outputs": [
    {
     "name": "stdout",
     "output_type": "stream",
     "text": [
      "[{'title': 'Magical Hieroglyphs and Logograms', 'author': 'Bathilda Bagshot'}]\n"
     ]
    }
   ],
   "source": [
    "library = [\n",
    "    {\"title\": \"Unfogging the Future\", \"author\": \"Cassandra Vablatsky\"},\n",
    "    {\"title\": \"Magical Hieroglyphs and Logograms\", \"author\": \"Bathilda Bagshot\"}\n",
    "]\n",
    "\n",
    "def bagshot_books(library):\n",
    "    return [book for book in library if book[\"author\"] == \"Bathilda Bagshot\"]\n",
    "print(bagshot_books(library))\n"
   ]
  },
  {
   "cell_type": "markdown",
   "metadata": {},
   "source": [
    "<summary>Exercise 13: Hogwarts House Points Calculator (⭐⭐⭐)</summary>\n",
    "\n",
    "### 🏆 Objective\n",
    "\n",
    "Calculate the total points for each house using nested loops and a list of dictionaries.\n",
    "\n",
    "```python\n",
    "# Setup Code\n",
    "house_points = [\n",
    "    {\"house\": \"Gryffindor\", \"points\": 35},\n",
    "    {\"house\": \"Slytherin\", \"points\": 50},\n",
    "    {\"house\": \"Gryffindor\", \"points\": 60},\n",
    "    {\"house\": \"Slytherin\", \"points\": 40}\n",
    "]\n",
    "# Expected Task: Aggregate points for each house and print the total.\n",
    "\n",
    "# Your solution here:\n",
    "# house_totals = ...\n",
    "\n",
    "# Expected Output\n",
    "# print(house_totals)\n",
    "```\n",
    "\n",
    "### Expected Output\n",
    "\n",
    "```\n",
    "{\n",
    "    \"Gryffindor\": 95,\n",
    "    \"Slytherin\": 90\n",
    "}\n",
    "```"
   ]
  },
  {
   "cell_type": "code",
   "execution_count": null,
   "metadata": {},
   "outputs": [
    {
     "name": "stdout",
     "output_type": "stream",
     "text": [
      "{'Gryffindor': 95, 'Slytherin': 90}\n"
     ]
    }
   ],
   "source": [
    "house_points = [\n",
    "    {\"house\": \"Gryffindor\", \"points\": 35},\n",
    "    {\"house\": \"Slytherin\", \"points\": 50},\n",
    "    {\"house\": \"Gryffindor\", \"points\": 60},\n",
    "    {\"house\": \"Slytherin\", \"points\": 40}\n",
    "]\n",
    "\n",
    "def house_totals(house_points):\n",
    "    aggregate_points = {}\n",
    "    for points in house_points:\n",
    "        name = points[\"house\"]\n",
    "        amount = points[\"points\"]\n",
    "\n",
    "        if name in aggregate_points:\n",
    "            aggregate_points[name] += amount\n",
    "        else:\n",
    "            aggregate_points[name] = amount\n",
    "    return aggregate_points\n",
    "\n",
    "\n",
    "print(house_totals(house_points))\n"
   ]
  },
  {
   "cell_type": "markdown",
   "metadata": {},
   "source": [
    "<summary>Exercise 14: Class Inheritance for Magical Creatures (⭐⭐⭐⭐)</summary>\n",
    "\n",
    "### 🐉 Objective\n",
    "\n",
    "Implement a class hierarchy for magical creatures where each subclass overrides a common method.\n",
    "\n",
    "```python\n",
    "# Setup Code\n",
    "class MagicalCreature:\n",
    "    # Your implementation here\n",
    "    pass\n",
    "\n",
    "class Dragon(MagicalCreature):\n",
    "    # Your implementation here\n",
    "    pass\n",
    "\n",
    "class Unicorn(MagicalCreature):\n",
    "    # Your implementation here\n",
    "    pass\n",
    "\n",
    "# Example usage:\n",
    "# dragon = Dragon(\"Norwegian Ridgeback\")\n",
    "# unicorn = Unicorn(\"Silver-maned\")\n",
    "# dragon.sound()  # Should print \"Roar\"\n",
    "# unicorn.sound()  # Should print \"Neigh\"\n",
    "```\n",
    "\n",
    "### Expected Output\n",
    "\n",
    "```\n",
    "Norwegian Ridgeback the Dragon says: Roar!\n",
    "Silver-maned the Unicorn says: Neigh!"
   ]
  },
  {
   "cell_type": "code",
   "execution_count": null,
   "metadata": {},
   "outputs": [
    {
     "name": "stdout",
     "output_type": "stream",
     "text": [
      "Roar\n",
      "Neigh\n"
     ]
    }
   ],
   "source": [
    "class MagicalCreature:\n",
    "    def __init__(self, name):\n",
    "        self.name = name\n",
    "    def sound(self):\n",
    "        print(f\"bark\")\n",
    "\n",
    "\n",
    "class Dragon(MagicalCreature):\n",
    "    def sound(self):\n",
    "        print(f\"Roar\")\n",
    "\n",
    "\n",
    "\n",
    "class Unicorn(MagicalCreature):\n",
    "    def sound(self):\n",
    "        print(f\"Neigh\")\n",
    "\n",
    "# Example usage:\n",
    "dragon = Dragon(\"Norwegian Ridgeback\")\n",
    "unicorn = Unicorn(\"Silver-maned\")\n",
    "dragon.sound()  # Should print \"Roar\"\n",
    "unicorn.sound()  # Should print \"Neigh\"\n"
   ]
  },
  {
   "cell_type": "markdown",
   "metadata": {},
   "source": [
    "<summary>Exercise 15: Custom Sorting with Lambda for Magical Artifacts (⭐⭐⭐)</summary>\n",
    "\n",
    "### 🔍 Objective\n",
    "\n",
    "Sort a list of magical artifacts by their age and power level using a custom lambda function.\n",
    "\n",
    "```python\n",
    "# Setup Code\n",
    "artifacts = [\n",
    "    {\"name\": \"Cloak of Invisibility\", \"age\": 657, \"power\": 9.5},\n",
    "    {\"name\": \"Elder Wand\", \"age\": 1000, \"power\": 10},\n",
    "    {\"name\": \"Resurrection Stone\", \"age\": 800, \"power\": 7}\n",
    "]\n",
    "# Expected Task: Sort the artifacts first by age, then by power, using a lambda function.\n",
    "\n",
    "# Your solution here:\n",
    "# sorted_artifacts = ...\n",
    "\n",
    "# Expected Output\n",
    "# print(sorted_artifacts)\n",
    "```\n",
    "### Expected Output\n",
    "\n",
    "```\n",
    "[\n",
    "    {\"name\": \"Cloak of Invisibility\", \"age\": 657, \"power\": 9.5},\n",
    "    {\"name\": \"Resurrection Stone\", \"age\": 800, \"power\": 7},\n",
    "    {\"name\": \"Elder Wand\", \"age\": 1000, \"power\": 10}\n",
    "]\n",
    "```"
   ]
  },
  {
   "cell_type": "code",
   "execution_count": 64,
   "metadata": {},
   "outputs": [
    {
     "name": "stdout",
     "output_type": "stream",
     "text": [
      "[{'name': 'Cloak of Invisibility', 'age': 657, 'power': 9.5}, {'name': 'Resurrection Stone', 'age': 800, 'power': 7}, {'name': 'Elder Wand', 'age': 1000, 'power': 10}]\n"
     ]
    }
   ],
   "source": [
    "artifacts = [\n",
    "    {\"name\": \"Cloak of Invisibility\", \"age\": 657, \"power\": 9.5},\n",
    "    {\"name\": \"Elder Wand\", \"age\": 1000, \"power\": 10},\n",
    "    {\"name\": \"Resurrection Stone\", \"age\": 800, \"power\": 7}\n",
    "]\n",
    "\n",
    "def sorted_artifacts(artifacts):\n",
    "    return sorted(artifacts, key = lambda artifact : (artifact[\"age\"], artifact[\"power\"]))\n",
    "\n",
    "print(sorted_artifacts(artifacts))\n"
   ]
  },
  {
   "cell_type": "markdown",
   "metadata": {},
   "source": [
    "<summary>Exercise 16: Wizard Profile Generator with f-strings (⭐)</summary>\n",
    "\n",
    "### 🧙‍♂️ Objective\n",
    "\n",
    "Dynamically generate wizard profiles using f-strings and dictionary unpacking.\n",
    "\n",
    "```python\n",
    "# Setup Code\n",
    "wizard = {\"name\": \"Albus Dumbledore\", \"title\": \"Headmaster\", \"house\": \"Gryffindor\"}\n",
    "# Expected Task: Use an f-string to create a profile string that includes the wizard's name, title, and house.\n",
    "\n",
    "# Your solution here:\n",
    "# profile = ...\n",
    "\n",
    "# Expected Output\n",
    "# print(profile)\n",
    "```\n",
    "\n",
    "### Expected Output\n",
    "\n",
    "```\n",
    "Albus Dumbledore, the Headmaster of Gryffindor.\n",
    "```"
   ]
  },
  {
   "cell_type": "code",
   "execution_count": 65,
   "metadata": {},
   "outputs": [
    {
     "name": "stdout",
     "output_type": "stream",
     "text": [
      "Albus Dumbledore, the Headmaster of Gryffindor\n"
     ]
    }
   ],
   "source": [
    "wizard = {\"name\": \"Albus Dumbledore\", \"title\": \"Headmaster\", \"house\": \"Gryffindor\"}\n",
    "def profile(wizard):\n",
    "    return f\"{wizard['name']}, the {wizard['title']} of {wizard['house']}\"\n",
    "\n",
    "print(profile(wizard))\n"
   ]
  },
  {
   "cell_type": "markdown",
   "metadata": {},
   "source": [
    "<summary>Exercise 17: Magical Creature Adoption Matching (⭐⭐⭐)</summary>\n",
    "\n",
    "### 🦄 Objective\n",
    "\n",
    "Match potential magical creature adopters with creatures based on preferences using `filter` and `map`.\n",
    "\n",
    "```python\n",
    "# Setup Code\n",
    "adopters = [(\"Harry\", \"Phoenix\"), (\"Hermione\", \"House Elf\")]\n",
    "creatures = [(\"Fawkes\", \"Phoenix\"), (\"Dobby\", \"House Elf\"), (\"Buckbeak\", \"Hippogriff\")]\n",
    "# Expected Task: Use `filter` and `map` to create a list of matches between adopters and creatures.\n",
    "\n",
    "# Your solution here:\n",
    "# matches = ...\n",
    "\n",
    "# Expected Output\n",
    "# print(matches)\n",
    "```\n",
    "\n",
    "### Expected Output\n",
    "\n",
    "```\n",
    "[('Harry', 'Fawkes'), ('Hermione', 'Dobby')]\n",
    "```"
   ]
  },
  {
   "cell_type": "code",
   "execution_count": null,
   "metadata": {},
   "outputs": [
    {
     "name": "stdout",
     "output_type": "stream",
     "text": [
      "[('Harry', 'Fawkes'), ('Hermione', 'Dobby')]\n"
     ]
    }
   ],
   "source": [
    "adopters = [(\"Harry\", \"Phoenix\"), (\"Hermione\", \"House Elf\")]\n",
    "creatures = [(\"Fawkes\", \"Phoenix\"), (\"Dobby\", \"House Elf\"), (\"Buckbeak\", \"Hippogriff\")]\n",
    "\n",
    "def matches(adopters, creatures):\n",
    "    def get_matches(adopter):\n",
    "        matching_creatures = list(filter(lambda creature: creature[1] == adopter[1], creatures))\n",
    "        return [(adopter[0], creature[0]) for creature in matching_creatures]\n",
    "\n",
    "    matches = [match for sublist in map(get_matches, adopters) for match in sublist]\n",
    "    return matches\n",
    "print(matches(adopters, creatures))"
   ]
  },
  {
   "cell_type": "markdown",
   "metadata": {},
   "source": [
    "<summary>Exercise 18: Advanced Potion Making with Nested Loops (⭐⭐⭐)</summary>\n",
    "\n",
    "### 🧪 Objective\n",
    "\n",
    "Simulate potion making where each combination of ingredients produces a unique result using nested loops.\n",
    "\n",
    "```python\n",
    "# Setup Code\n",
    "ingredients = [\"Moonstone\", \"Silver Dust\", \"Dragon Blood\"]\n",
    "# Expected Task: For each pair of ingredients, print out the unique potion they produce.\n",
    "\n",
    "# Your solution here:\n",
    "# potential_potions = ...\n",
    "\n",
    "# Expected Output\n",
    "```\n",
    "\n",
    "### Expected Output\n",
    "\n",
    "```\n",
    "Combining Moonstone and Silver Dust produces a unique potion.\n",
    "Combining Moonstone and Dragon Blood produces a unique potion.\n",
    "Combining Silver Dust and Dragon Blood produces a unique potion.\n",
    "```"
   ]
  },
  {
   "cell_type": "code",
   "execution_count": null,
   "metadata": {},
   "outputs": [
    {
     "name": "stdout",
     "output_type": "stream",
     "text": [
      "Combining Moonstone and Silver Dust produces a unique potion\n",
      "Combining Moonstone and Dragon Blood produces a unique potion\n",
      "Combining Silver Dust and Dragon Blood produces a unique potion\n"
     ]
    }
   ],
   "source": [
    "ingredients = [\"Moonstone\", \"Silver Dust\", \"Dragon Blood\"]\n",
    "\n",
    "def potential_potions(ingredients):\n",
    "    for i in range(len(ingredients)):\n",
    "        for j in range(i):\n",
    "            print(f\"Combining {ingredients[j]} and {ingredients[i]} produces a unique potion\")\n",
    "\n",
    "potential_potions(ingredients)\n"
   ]
  },
  {
   "cell_type": "markdown",
   "metadata": {},
   "source": [
    "<summary>Exercise 19: Nested Data Manipulation (⭐⭐⭐⭐)</summary>\n",
    "\n",
    "### 🧩 Objective\n",
    "\n",
    "Navigate and manipulate a nested data structure.\n",
    "\n",
    "```python\n",
    "# Setup Code\n",
    "data = [\n",
    "    {\"id\": 1, \"name\": \"Item 1\", \"tags\": [\"tag1\", \"tag2\"]},\n",
    "    {\"id\": 2, \"name\": \"Item 2\", \"tags\": [\"tag2\", \"tag3\"]},\n",
    "    {\"id\": 3, \"name\": \"Item 3\", \"tags\": [\"tag1\", \"tag3\"]}\n",
    "]\n",
    "# Expected Task: For each item, add a new tag \"tag4\" only if \"tag1\" is present in the tags list.\n",
    "\n",
    "# Your solution here:\n",
    "# modified_data = ...\n",
    "\n",
    "# Expected Output\n",
    "# print(modified_data)\n",
    "```\n",
    "\n",
    "### Expected Output\n",
    "\n",
    "```\n",
    "[\n",
    "    {\"id\": 1, \"name\": \"Item 1\", \"tags\": [\"tag1\", \"tag2\", \"tag4\"]},\n",
    "    {\"id\": 2, \"name\": \"Item 2\", \"tags\": [\"tag2\", \"tag3\"]},\n",
    "    {\"id\": 3, \"name\": \"Item 3\", \"tags\": [\"tag1\", \"tag3\", \"tag4\"]}\n",
    "]"
   ]
  },
  {
   "cell_type": "code",
   "execution_count": null,
   "metadata": {},
   "outputs": [
    {
     "name": "stdout",
     "output_type": "stream",
     "text": [
      "[{'id': 1, 'name': 'Item 1', 'tags': ['tag1', 'tag2', 'tag4']}, {'id': 2, 'name': 'Item 2', 'tags': ['tag2', 'tag3']}, {'id': 3, 'name': 'Item 3', 'tags': ['tag1', 'tag3', 'tag4']}]\n"
     ]
    }
   ],
   "source": [
    "\n",
    "data = [\n",
    "    {\"id\": 1, \"name\": \"Item 1\", \"tags\": [\"tag1\", \"tag2\"]},\n",
    "    {\"id\": 2, \"name\": \"Item 2\", \"tags\": [\"tag2\", \"tag3\"]},\n",
    "    {\"id\": 3, \"name\": \"Item 3\", \"tags\": [\"tag1\", \"tag3\"]},\n",
    "]\n",
    "def modified_data(data):\n",
    "    for entry in data:\n",
    "        if \"tag1\" in entry[\"tags\"]:\n",
    "            entry[\"tags\"].append(\"tag4\")\n",
    "    return data\n",
    "\n",
    "print(modified_data(data))"
   ]
  },
  {
   "cell_type": "markdown",
   "metadata": {},
   "source": [
    "<summary>Exercise 20: Implementing a Custom Sort Function (⭐⭐⭐⭐⭐)</summary>\n",
    "\n",
    "### 🔄 Objective\n",
    "\n",
    "Implement a custom sort function for a list of dictionaries based on multiple criteria.\n",
    "\n",
    "```python\n",
    "# Setup Code\n",
    "tasks = [\n",
    "    {\"id\": 1, \"priority\": \"High\", \"completed\": False},\n",
    "    {\"id\": 2, \"priority\": \"Low\", \"completed\": True},\n",
    "    {\"id\": 3, \"priority\": \"Medium\", \"completed\": False}\n",
    "]\n",
    "# Expected Task: Sort the tasks by \"completed\" status (False first) and then by priority (\"High\", \"Medium\", \"Low\").\n",
    "\n",
    "# Your solution here:\n",
    "# sorted_tasks = ...\n",
    "\n",
    "# Expected Output\n",
    "# print(sorted_tasks)\n",
    "```\n",
    "\n",
    "### Expected Output\n",
    "\n",
    "```\n",
    "[\n",
    "    {\"id\": 1, \"priority\": \"High\", \"completed\": False},\n",
    "    {\"id\": 3, \"priority\": \"Medium\", \"completed\": False},\n",
    "    {\"id\": 2, \"priority\": \"Low\", \"completed\": True}\n",
    "]"
   ]
  },
  {
   "cell_type": "code",
   "execution_count": null,
   "metadata": {},
   "outputs": [
    {
     "name": "stdout",
     "output_type": "stream",
     "text": [
      "[{'id': 1, 'priority': 'High', 'completed': False}, {'id': 3, 'priority': 'Medium', 'completed': False}, {'id': 2, 'priority': 'Low', 'completed': True}]\n"
     ]
    }
   ],
   "source": [
    "tasks = [\n",
    "    {\"id\": 1, \"priority\": \"High\", \"completed\": False},\n",
    "    {\"id\": 2, \"priority\": \"Low\", \"completed\": True},\n",
    "    {\"id\": 3, \"priority\": \"Medium\", \"completed\": False},\n",
    "]\n",
    "\n",
    "def sorted_tasks(tasks):\n",
    "    return sorted(tasks, key = lambda task : (task[\"completed\"], task[\"priority\"]))\n",
    "print(sorted_tasks(tasks))"
   ]
  }
 ],
 "metadata": {
  "kernelspec": {
   "display_name": ".venv",
   "language": "python",
   "name": "python3"
  },
  "language_info": {
   "codemirror_mode": {
    "name": "ipython",
    "version": 3
   },
   "file_extension": ".py",
   "mimetype": "text/x-python",
   "name": "python",
   "nbconvert_exporter": "python",
   "pygments_lexer": "ipython3",
   "version": "3.13.2"
  }
 },
 "nbformat": 4,
 "nbformat_minor": 2
}
