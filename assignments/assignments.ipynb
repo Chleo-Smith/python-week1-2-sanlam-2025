{
 "cells": [
  {
   "cell_type": "markdown",
   "metadata": {},
   "source": [
    "## Data Manipulation Challenges 📊\n",
    "\n",
    "<details>\n",
    "<summary>Exercise 1: Data Sorting and Ranking (⭐⭐)</summary>\n",
    "\n",
    "### 🏆 Objective\n",
    "\n",
    "Sort a complex data structure and add a ranking key based on a specific criterion.\n",
    "\n",
    "```python\n",
    "# Setup Code\n",
    "students = [\n",
    "    {\"name\": \"Alice\", \"grade\": 88},\n",
    "    {\"name\": \"Bob\", \"grade\": 75},\n",
    "    {\"name\": \"Charlie\", \"grade\": 93}\n",
    "]\n",
    "# Expected Task: Sort the list of dictionaries by grade in descending order and add a \"rank\" key to each dictionary based on the sorting.\n",
    "\n",
    "# Your solution here:\n",
    "# sorted_students = ...\n",
    "\n",
    "# Expected Output\n",
    "# print(sorted_students)\n",
    "```\n",
    "\n",
    "### Expected Output\n",
    "\n",
    "```\n",
    "[\n",
    "    {\"name\": \"Charlie\", \"grade\": 93, \"rank\": 1},\n",
    "    {\"name\": \"Alice\", \"grade\": 88, \"rank\": 2},\n",
    "    {\"name\": \"Bob\", \"grade\": 75, \"rank\": 3}\n",
    "]\n",
    "```"
   ]
  },
  {
   "cell_type": "code",
   "execution_count": 9,
   "metadata": {},
   "outputs": [
    {
     "name": "stdout",
     "output_type": "stream",
     "text": [
      "[{'name': 'Charlie', 'grade': 93, 'rank': 1}, {'name': 'Alice', 'grade': 88, 'rank': 2}, {'name': 'Bob', 'grade': 75, 'rank': 3}]\n"
     ]
    }
   ],
   "source": [
    "students = [\n",
    "    {\"name\": \"Alice\", \"grade\": 88},\n",
    "    {\"name\": \"Bob\", \"grade\": 75},\n",
    "    {\"name\": \"Charlie\", \"grade\": 93}\n",
    "]\n",
    "\n",
    "def sort_and_rank(students):\n",
    "    sorted_students =  sorted(students, key=lambda x:x[\"grade\"], reverse=True)\n",
    "\n",
    "    for i, student in enumerate(sorted_students):\n",
    "        student[\"rank\"] = i + 1\n",
    "\n",
    "    return sorted_students\n",
    "\n",
    "sorted_students = list(sort_and_rank(students))\n",
    "print(sorted_students)"
   ]
  },
  {
   "cell_type": "markdown",
   "metadata": {},
   "source": [
    "<summary>Exercise 2: Merging Data from Two Lists (⭐⭐)</summary>\n",
    "\n",
    "### 🔄 Objective\n",
    "\n",
    "Merge data from two lists of dictionaries based on a common key.\n",
    "\n",
    "```python\n",
    "# Setup Code\n",
    "employees = [{\"id\": 1, \"name\": \"Alice\"}, {\"id\": 2, \"name\": \"Bob\"}]\n",
    "salaries = [{\"id\": 1, \"salary\": 50000}, {\"id\": 2, \"salary\": 60000}]\n",
    "# Expected Task: Merge these lists into a single list of dictionaries by matching the \"id\" field, including all keys.\n",
    "\n",
    "# Your solution here:\n",
    "# merged_data = ...\n",
    "\n",
    "# Expected Output\n",
    "# print(merged_data)\n",
    "```\n",
    "\n",
    "### Expected Output\n",
    "\n",
    "```\n",
    "[\n",
    "    {\"id\": 1, \"name\": \"Alice\", \"salary\": 50000},\n",
    "    {\"id\": 2, \"name\": \"Bob\", \"salary\": 60000}\n",
    "]"
   ]
  },
  {
   "cell_type": "code",
   "execution_count": 10,
   "metadata": {},
   "outputs": [
    {
     "name": "stdout",
     "output_type": "stream",
     "text": [
      "[{'id': 1, 'name': 'Alice', 'salary': 50000}, {'id': 2, 'name': 'Bob', 'salary': 60000}]\n"
     ]
    }
   ],
   "source": [
    "employees = [{\"id\": 1, \"name\": \"Alice\"}, {\"id\": 2, \"name\": \"Bob\"}]\n",
    "salaries = [{\"id\": 1, \"salary\": 50000}, {\"id\": 2, \"salary\": 60000}]\n",
    "\n",
    "def merge(employees, salaries):\n",
    "    merge = []\n",
    "    for employee in employees:\n",
    "        employee_id = employee[\"id\"]\n",
    "        for salary in salaries:\n",
    "            if salary[\"id\"] == employee_id:\n",
    "                merge_entry = employee.copy()\n",
    "                merge_entry.update(salary)\n",
    "                merge.append(merge_entry)\n",
    "                break\n",
    "    return merge\n",
    "merged_data = merge(employees, salaries)\n",
    "print(merged_data)"
   ]
  },
  {
   "cell_type": "markdown",
   "metadata": {},
   "source": [
    "<summary>Exercise 3: Advanced Filtering with Multiple Conditions (⭐⭐)</summary>\n",
    "\n",
    "### 🔍 Objective\n",
    "\n",
    "Apply multiple filtering criteria to a list of dictionaries.\n",
    "\n",
    "```python\n",
    "# Setup Code\n",
    "products = [\n",
    "    {\"id\": 1, \"category\": \"Electronics\", \"price\": 850},\n",
    "    {\"id\": 2, \"category\": \"Furniture\", \"price\": 1200},\n",
    "    {\"id\": 3, \"category\": \"Electronics\", \"price\": 400}\n",
    "]\n",
    "# Expected Task: Filter the list to include only products in the \"Electronics\" category with a price less than 500.\n",
    "\n",
    "# Your solution here:\n",
    "# filtered_products = ...\n",
    "\n",
    "# Expected Output\n",
    "# print(filtered_products)\n",
    "```\n",
    "\n",
    "### Expected Output\n",
    "\n",
    "```\n",
    "[\n",
    "    {\"id\": 3, \"category\": \"Electronics\", \"price\": 400}\n",
    "]"
   ]
  },
  {
   "cell_type": "code",
   "execution_count": 12,
   "metadata": {},
   "outputs": [
    {
     "name": "stdout",
     "output_type": "stream",
     "text": [
      "[{'id': 3, 'category': 'Electronics', 'price': 400}]\n"
     ]
    }
   ],
   "source": [
    "products = [\n",
    "    {\"id\": 1, \"category\": \"Electronics\", \"price\": 850},\n",
    "    {\"id\": 2, \"category\": \"Furniture\", \"price\": 1200},\n",
    "    {\"id\": 3, \"category\": \"Electronics\", \"price\": 400},\n",
    "]\n",
    "\n",
    "\n",
    "def filtered(products):\n",
    "    filtered_list = []\n",
    "    for item in products:\n",
    "        if (item[\"category\"] == \"Electronics\" and item[\"price\"] < 500):\n",
    "            filtered_list.append(item)\n",
    "    return filtered_list\n",
    "\n",
    "print(filtered(products))"
   ]
  },
  {
   "cell_type": "markdown",
   "metadata": {},
   "source": [
    "<summary>Exercise 4: Complex Data Transformation (⭐⭐⭐)</summary>\n",
    "\n",
    "### 🔄 Objective\n",
    "\n",
    "Transform a list of dictionaries into a new structure.\n",
    "\n",
    "```python\n",
    "# Setup Code\n",
    "orders = [\n",
    "    {\"order_id\": 1, \"items\": [{\"product\": \"A\", \"quantity\": 2}, {\"product\": \"B\", \"quantity\": 3}]},\n",
    "    {\"order_id\": 2, \"items\": [{\"product\": \"A\", \"quantity\": 1}, {\"product\": \"C\", \"quantity\": 1}]}\n",
    "]\n",
    "# Expected Task: Transform this list into a dictionary where keys are product names and values are total quantities ordered across all orders.\n",
    "\n",
    "# Your solution here:\n",
    "# product_quantities = ...\n",
    "\n",
    "# Expected Output\n",
    "# print(product_quantities)\n",
    "```\n",
    "\n",
    "### Expected Output\n",
    "\n",
    "```\n",
    "{\n",
    "    \"A\": 3,\n",
    "    \"B\": 3,\n",
    "    \"C\": 1\n",
    "}\n",
    "```"
   ]
  },
  {
   "cell_type": "code",
   "execution_count": 20,
   "metadata": {},
   "outputs": [
    {
     "name": "stdout",
     "output_type": "stream",
     "text": [
      "{'A': 3, 'B': 3, 'C': 1}\n"
     ]
    }
   ],
   "source": [
    "orders = [\n",
    "    {\n",
    "        \"order_id\": 1,\n",
    "        \"items\": [{\"product\": \"A\", \"quantity\": 2}, {\"product\": \"B\", \"quantity\": 3}],\n",
    "    },\n",
    "    {\n",
    "        \"order_id\": 2,\n",
    "        \"items\": [{\"product\": \"A\", \"quantity\": 1}, {\"product\": \"C\", \"quantity\": 1}],\n",
    "    },\n",
    "]\n",
    "\n",
    "def product_quantities(orders):\n",
    "    product_quantities = {}\n",
    "    for order in orders:\n",
    "        for item in order[\"items\"]:\n",
    "            #if order in list update\n",
    "\n",
    "            if(item[\"product\"] in product_quantities):\n",
    "                product_quantities[item[\"product\"]] += item[\"quantity\"]\n",
    "            else:\n",
    "                product_quantities[item[\"product\"]] = item[\"quantity\"]\n",
    "    return product_quantities\n",
    "\n",
    "print(product_quantities(orders))"
   ]
  },
  {
   "cell_type": "markdown",
   "metadata": {},
   "source": [
    "<summary>Exercise 5: Data Consolidation and Summarization (⭐⭐⭐)</summary>\n",
    "\n",
    "### 📊 Objective\n",
    "\n",
    "Consolidate and summarize data from a list of dictionaries.\n",
    "\n",
    "```python\n",
    "# Setup Code\n",
    "transactions = [\n",
    "    {\"date\": \"2021-01-01\", \"amount\": 100, \"category\": \"Food\"},\n",
    "    {\"date\": \"2021-01-01\", \"amount\": 200, \"category\": \"Transport\"},\n",
    "    {\"date\": \"2021-01-02\", \"amount\": 150, \"category\": \"Food\"}\n",
    "]\n",
    "# Expected Task: Summarize the total amount spent per category.\n",
    "\n",
    "# Your solution here:\n",
    "# category_totals = ...\n",
    "\n",
    "# Expected Output\n",
    "# print(category_totals)\n",
    "```\n",
    "\n",
    "### Expected Output\n",
    "\n",
    "```\n",
    "{\n",
    "    \"Food\": 250,\n",
    "    \"Transport\": 200\n",
    "}\n",
    "```"
   ]
  },
  {
   "cell_type": "code",
   "execution_count": null,
   "metadata": {},
   "outputs": [
    {
     "name": "stdout",
     "output_type": "stream",
     "text": [
      "{'Food': 250, 'Transport': 200}\n"
     ]
    }
   ],
   "source": [
    "transactions = [\n",
    "    {\"date\": \"2021-01-01\", \"amount\": 100, \"category\": \"Food\"},\n",
    "    {\"date\": \"2021-01-01\", \"amount\": 200, \"category\": \"Transport\"},\n",
    "    {\"date\": \"2021-01-02\", \"amount\": 150, \"category\": \"Food\"},\n",
    "]\n",
    "def category_totals(transactions):\n",
    "    totals = {}\n",
    "\n",
    "    for item in transactions:\n",
    "        category = item[\"category\"]\n",
    "        amount = item[\"amount\"]\n",
    "\n",
    "        if(category in totals):\n",
    "            totals[category] += amount\n",
    "        else:\n",
    "            totals[category] = amount\n",
    "    return totals\n",
    "\n",
    "print(category_totals(transactions))\n"
   ]
  },
  {
   "cell_type": "markdown",
   "metadata": {},
   "source": [
    "<summary>Exercise 6: Grouping and Aggregating Data (⭐⭐⭐)</summary>\n",
    "\n",
    "### 📈 Objective\n",
    "\n",
    "Group data by a specific key and perform aggregation.\n",
    "\n",
    "```python\n",
    "# Setup Code\n",
    "sales = [\n",
    "    {\"salesperson\": \"Alice\", \"amount\": 200},\n",
    "    {\"salesperson\": \"Bob\", \"amount\": 150},\n",
    "    {\"salesperson\": \"Alice\", \"amount\": 100}\n",
    "]\n",
    "# Expected Task: Group sales by salesperson and calculate the total sales amount for each.\n",
    "\n",
    "# Your solution here:\n",
    "# sales_by_person = ...\n",
    "\n",
    "# Expected Output\n",
    "# print(sales_by_person)\n",
    "```\n",
    "\n",
    "### Expected Output\n",
    "\n",
    "```\n",
    "{\n",
    "    \"Alice\": 300,\n",
    "    \"Bob\": 150\n",
    "}\n",
    "```"
   ]
  },
  {
   "cell_type": "code",
   "execution_count": 31,
   "metadata": {},
   "outputs": [
    {
     "name": "stdout",
     "output_type": "stream",
     "text": [
      "{'Alice': 300, 'Bob': 150}\n"
     ]
    }
   ],
   "source": [
    "sales = [\n",
    "    {\"salesperson\": \"Alice\", \"amount\": 200},\n",
    "    {\"salesperson\": \"Bob\", \"amount\": 150},\n",
    "    {\"salesperson\": \"Alice\", \"amount\": 100},\n",
    "]\n",
    "def sales_by_person(sales):\n",
    "    sales_filtered = {}\n",
    "    for person in sales:\n",
    "        name = person[\"salesperson\"]\n",
    "        amount = person[\"amount\"]\n",
    "\n",
    "        if(name in sales_filtered):\n",
    "            sales_filtered[name] += amount\n",
    "        else:\n",
    "            sales_filtered[name] = amount\n",
    "    return sales_filtered\n",
    "\n",
    "print(sales_by_person(sales))"
   ]
  },
  {
   "cell_type": "markdown",
   "metadata": {},
   "source": [
    "<summary>Exercise 7: Lambda Functions for Spell Power (⭐⭐)</summary>\n",
    "\n",
    "### ✨ Objective\n",
    "\n",
    "Use a lambda function to sort a list of spells by their power level.\n",
    "\n",
    "```python\n",
    "# Setup Code\n",
    "spells = [(\"Lumos\", 5), (\"Obliviate\", 10), (\"Expelliarmus\", 7)]\n",
    "# Expected Task: Sort the spells list by power level in descending order using a lambda function.\n",
    "\n",
    "# Your solution here:\n",
    "# sorted_spells = ...\n",
    "\n",
    "# Expected Output\n",
    "# print(sorted_spells)\n",
    "```\n",
    "\n",
    "### Expected Output\n",
    "\n",
    "```\n",
    "[('Obliviate', 10), ('Expelliarmus', 7), ('Lumos', 5)]"
   ]
  },
  {
   "cell_type": "code",
   "execution_count": null,
   "metadata": {},
   "outputs": [
    {
     "name": "stdout",
     "output_type": "stream",
     "text": [
      "[('Obliviate', 10), ('Expelliarmus', 7), ('Lumos', 5)]\n"
     ]
    }
   ],
   "source": [
    "spells = [(\"Lumos\", 5), (\"Obliviate\", 10), (\"Expelliarmus\", 7)]\n",
    "def sorted_spells(spells):\n",
    "\n",
    "    return sorted(spells, key = lambda x: x[1], reverse=True)\n",
    "\n",
    "print(sorted_spells(spells))\n"
   ]
  },
  {
   "cell_type": "markdown",
   "metadata": {},
   "source": [
    "<summary>Exercise 8: Map Transformation for Potion Ingredients (⭐⭐)</summary>\n",
    "\n",
    "### 🧪 Objective\n",
    "\n",
    "Transform a list of potion ingredients to their required quantities using `map`.\n",
    "\n",
    "```python\n",
    "# Setup Code\n",
    "ingredients = [\"Wolfsbane\", \"Eye of Newt\", \"Dragon Scale\"]\n",
    "# Expected Task: Use `map` to append \": 3 grams\" to each ingredient.\n",
    "\n",
    "# Your solution here:\n",
    "# formatted_ingredients = ...\n",
    "\n",
    "# Expected Output\n",
    "# print(formatted_ingredients)\n",
    "```\n",
    "\n",
    "### Expected Output\n",
    "\n",
    "```\n",
    "['Wolfsbane: 3 grams', 'Eye of Newt: 3 grams', 'Dragon Scale: 3 grams']\n",
    "```\n"
   ]
  },
  {
   "cell_type": "code",
   "execution_count": 37,
   "metadata": {},
   "outputs": [
    {
     "name": "stdout",
     "output_type": "stream",
     "text": [
      "['Wolfsbane: 3 grams', 'Eye of Newt: 3 grams', 'Dragon Scale: 3 grams']\n"
     ]
    }
   ],
   "source": [
    "ingredients = [\"Wolfsbane\", \"Eye of Newt\", \"Dragon Scale\"]\n",
    "\n",
    "def formatted_ingredients(ingredients):\n",
    "    return list(map(lambda ingredient: ingredient + \": 3 grams\", ingredients))\n",
    "print(formatted_ingredients(ingredients))\n"
   ]
  },
  {
   "cell_type": "markdown",
   "metadata": {},
   "source": [
    "<summary>Exercise 9: Magical Book Filter and Formatter (⭐⭐⭐)</summary>\n",
    "\n",
    "### 📚 Objective\n",
    "\n",
    "Combine `filter`, `map`, and lambda functions to process a list of books and format their titles.\n",
    "\n",
    "```python\n",
    "# Setup Code\n",
    "books = [{\"title\": \"A History of Magic\", \"pages\": 100}, {\"title\": \"Magical Drafts and Potions\", \"pages\": 150}]\n",
    "# Expected Task: Filter books with more than 120 pages and format their titles to uppercase.\n",
    "\n",
    "# Your solution here:\n",
    "# formatted_titles = ...\n",
    "\n",
    "# Expected Output\n",
    "# print(formatted_titles)\n",
    "```\n",
    "\n",
    "### Expected Output\n",
    "\n",
    "```\n",
    "['MAGICAL DRAFTS AND POTIONS']\n",
    "```\n"
   ]
  },
  {
   "cell_type": "code",
   "execution_count": 40,
   "metadata": {},
   "outputs": [
    {
     "name": "stdout",
     "output_type": "stream",
     "text": [
      "['MAGICAL DRAFTS AND POTIONS']\n"
     ]
    }
   ],
   "source": [
    "books = [{\"title\": \"A History of Magic\", \"pages\": 100}, {\"title\": \"Magical Drafts and Potions\", \"pages\": 150}]\n",
    "\n",
    "def formatted_titles(books):\n",
    "\n",
    "    filtered_books = filter(lambda book: book[\"pages\"] > 120, books)\n",
    "    uppercase_books = map(lambda book: book[\"title\"].upper(), filtered_books)\n",
    "    return list(uppercase_books)\n",
    "\n",
    "print(formatted_titles(books))\n"
   ]
  }
 ],
 "metadata": {
  "kernelspec": {
   "display_name": ".venv",
   "language": "python",
   "name": "python3"
  },
  "language_info": {
   "codemirror_mode": {
    "name": "ipython",
    "version": 3
   },
   "file_extension": ".py",
   "mimetype": "text/x-python",
   "name": "python",
   "nbconvert_exporter": "python",
   "pygments_lexer": "ipython3",
   "version": "3.13.2"
  }
 },
 "nbformat": 4,
 "nbformat_minor": 2
}
