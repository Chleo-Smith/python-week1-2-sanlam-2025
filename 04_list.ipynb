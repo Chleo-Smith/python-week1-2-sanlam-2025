{
 "cells": [
  {
   "cell_type": "markdown",
   "metadata": {},
   "source": [
    "# Intro List \n",
    "\n",
    "- Motivation: Holds multiple values\n",
    "- non-primitive data type. because it can hold multiple values.\n",
    "- Hold values of same data types\n",
    "- dont mix data type\n",
    "- mixing data types is possible but dont\n",
    "\n",
    "- methods\n",
    "  - **Create:** *list = [10 , 20 , 30 , 40]*\n",
    "  - **Read:** *Index and slice*\n",
    "  - **Update:** *index(mutate), append(), insert()*\n",
    "  - **Delete** *remove() and pop()*\n",
    "\n",
    "## setting up UV\n",
    "1) uv venv\n",
    "2) uv pip install ipykernel\n",
    "\n",
    "\n",
    " "
   ]
  },
  {
   "cell_type": "code",
   "execution_count": 6,
   "metadata": {},
   "outputs": [],
   "source": [
    "mark1 = 80\n",
    "mark2 = 90\n",
    "mark3 = 70\n"
   ]
  },
  {
   "cell_type": "code",
   "execution_count": 7,
   "metadata": {},
   "outputs": [
    {
     "name": "stdout",
     "output_type": "stream",
     "text": [
      "[80, 90, 70, 45, 95] <class 'list'>\n"
     ]
    }
   ],
   "source": [
    "marks = [80, 90, 70, 45, 95]  #list\n",
    "print(marks, type(marks))"
   ]
  },
  {
   "cell_type": "code",
   "execution_count": 8,
   "metadata": {},
   "outputs": [
    {
     "name": "stdout",
     "output_type": "stream",
     "text": [
      "[True, 'abc', 6]\n"
     ]
    }
   ],
   "source": [
    "values = [True, 'abc', 6]\n",
    "print(values)"
   ]
  },
  {
   "cell_type": "markdown",
   "metadata": {},
   "source": [
    "## Index\n",
    "- positive and negative indexing works"
   ]
  },
  {
   "cell_type": "code",
   "execution_count": 9,
   "metadata": {},
   "outputs": [
    {
     "name": "stdout",
     "output_type": "stream",
     "text": [
      "95\n",
      "95\n"
     ]
    }
   ],
   "source": [
    "marks = [80, 90, 70, 45, 95]  # list\n",
    "print(marks[-1])\n",
    "print(marks[4])"
   ]
  },
  {
   "cell_type": "markdown",
   "metadata": {},
   "source": [
    "## Slice"
   ]
  },
  {
   "cell_type": "code",
   "execution_count": 10,
   "metadata": {},
   "outputs": [
    {
     "name": "stdout",
     "output_type": "stream",
     "text": [
      "[90, 70, 45, 95]\n"
     ]
    }
   ],
   "source": [
    "marks = [80, 90, 70, 45, 95]\n",
    "print(marks[1:])\n"
   ]
  },
  {
   "cell_type": "markdown",
   "metadata": {},
   "source": [
    "## Reverse through list"
   ]
  },
  {
   "cell_type": "code",
   "execution_count": 11,
   "metadata": {},
   "outputs": [
    {
     "name": "stdout",
     "output_type": "stream",
     "text": [
      "[95, 45, 70, 90, 80]\n"
     ]
    }
   ],
   "source": [
    "marks = [80, 90, 70, 45, 95]\n",
    "print(marks[::-1])\n"
   ]
  },
  {
   "cell_type": "markdown",
   "metadata": {},
   "source": [
    "## Concatenating lists (joining)"
   ]
  },
  {
   "cell_type": "code",
   "execution_count": 12,
   "metadata": {},
   "outputs": [
    {
     "data": {
      "text/plain": [
       "['🍎', '🍊', '🍐', '🍉', '🍇', '🥒', '🫑', '🍆', '🥕', '🍠']"
      ]
     },
     "execution_count": 12,
     "metadata": {},
     "output_type": "execute_result"
    }
   ],
   "source": [
    "fruits = [\"🍎\", \"🍊\", \"🍐\", \"🍉\", \"🍇\"]\n",
    "vegetables = [\"🥒\", \"🫑\", \"🍆\", \"🥕\", \"🍠\"]\n",
    "\n",
    "fruits + vegetables\n"
   ]
  },
  {
   "cell_type": "markdown",
   "metadata": {},
   "source": [
    "## Repetition operator (*)"
   ]
  },
  {
   "cell_type": "code",
   "execution_count": 13,
   "metadata": {},
   "outputs": [
    {
     "data": {
      "text/plain": [
       "['🥒', '🫑', '🍆', '🥕', '🍠', '🥒', '🫑', '🍆', '🥕', '🍠']"
      ]
     },
     "execution_count": 13,
     "metadata": {},
     "output_type": "execute_result"
    }
   ],
   "source": [
    "vegetables * 2"
   ]
  },
  {
   "cell_type": "markdown",
   "metadata": {},
   "source": [
    "## Immutable vs Mutable \n",
    "mutable values can be changed and immutable values cannot be changed\n",
    "### update"
   ]
  },
  {
   "cell_type": "code",
   "execution_count": 14,
   "metadata": {},
   "outputs": [
    {
     "data": {
      "text/plain": [
       "5"
      ]
     },
     "execution_count": 14,
     "metadata": {},
     "output_type": "execute_result"
    }
   ],
   "source": [
    "vegetables = [\"🥒\", \"🫑\", \"🍆\", \"🥕\", \"🍠\"]\n",
    "len(vegetables)"
   ]
  },
  {
   "cell_type": "code",
   "execution_count": 15,
   "metadata": {},
   "outputs": [
    {
     "data": {
      "text/plain": [
       "[80, 90, 55, 70, 45, 95, 100]"
      ]
     },
     "execution_count": 15,
     "metadata": {},
     "output_type": "execute_result"
    }
   ],
   "source": [
    "marks = [80, 90, 70, 45, 95]\n",
    "\n",
    "marks.insert(2, 55)\n",
    "marks.append(100)\n",
    "marks"
   ]
  },
  {
   "cell_type": "markdown",
   "metadata": {},
   "source": [
    "## Remove items\n",
    "pop and remove"
   ]
  },
  {
   "cell_type": "code",
   "execution_count": 16,
   "metadata": {},
   "outputs": [
    {
     "ename": "ValueError",
     "evalue": "list.remove(x): x not in list",
     "output_type": "error",
     "traceback": [
      "\u001b[1;31m---------------------------------------------------------------------------\u001b[0m",
      "\u001b[1;31mValueError\u001b[0m                                Traceback (most recent call last)",
      "Cell \u001b[1;32mIn[16], line 7\u001b[0m\n\u001b[0;32m      5\u001b[0m avengers\u001b[38;5;241m.\u001b[39mpop()\n\u001b[0;32m      6\u001b[0m \u001b[38;5;66;03m#can do it in one go and remove by value\u001b[39;00m\n\u001b[1;32m----> 7\u001b[0m \u001b[43mavengers\u001b[49m\u001b[38;5;241;43m.\u001b[39;49m\u001b[43mremove\u001b[49m\u001b[43m(\u001b[49m\u001b[38;5;124;43m\"\u001b[39;49m\u001b[38;5;124;43mSpiderman\u001b[39;49m\u001b[38;5;124;43m\"\u001b[39;49m\u001b[43m)\u001b[49m\n\u001b[0;32m      9\u001b[0m avengers\n",
      "\u001b[1;31mValueError\u001b[0m: list.remove(x): x not in list"
     ]
    }
   ],
   "source": [
    "avengers = [\"Hulk\", \"Iron man\", \"Black widow\", \"Captain america\", \"Spider man\", \"Thor\"]\n",
    "\n",
    "#pops the last value\n",
    "#can also add an index to remove a specific value\n",
    "avengers.pop()\n",
    "#can do it in one go and remove by value\n",
    "avengers.remove(\"Spiderman\")\n",
    "\n",
    "avengers"
   ]
  },
  {
   "cell_type": "code",
   "execution_count": null,
   "metadata": {},
   "outputs": [],
   "source": [
    "marks = [20, 30 , 40, 50, 80]\n",
    "\n",
    "for i in range(len(marks)):\n",
    "    print(marks[i])"
   ]
  },
  {
   "cell_type": "markdown",
   "metadata": {},
   "source": [
    "## Task 1.1 \n",
    "\n",
    "Find the letters in each characters name and stored in a new list\n",
    " \n",
    "```py\n",
    "avengers = [\n",
    "    \"Hulk\",\n",
    "    \"Iron man\",\n",
    "    \"Black widow\",\n",
    "    \"Captain america\",\n",
    "    \"Spider man\",\n",
    "    \"Thor\",\n",
    "]\n",
    "```\n",
    " \n",
    "Output\n",
    "[4, 8, 11, 15, 10, 4]"
   ]
  },
  {
   "cell_type": "code",
   "execution_count": null,
   "metadata": {},
   "outputs": [],
   "source": [
    "avengers = [\n",
    "    \"Hulk\",\n",
    "    \"Iron man\",\n",
    "    \"Black widow\",\n",
    "    \"Captain america\",\n",
    "    \"Spider man\",\n",
    "    \"Thor\",\n",
    "]\n",
    "\n",
    "list = []\n",
    "\n",
    "for i in range(len(avengers)):\n",
    "    list.append(len(avengers[i]))\n",
    "list"
   ]
  },
  {
   "cell_type": "markdown",
   "metadata": {},
   "source": [
    "## Task 1.2\n",
    "\n",
    "Find longer names more the 10 letters name and stored in a new list\n",
    " \n",
    "Output\n",
    "[\"Black widow\", \"Captain america\"]"
   ]
  },
  {
   "cell_type": "code",
   "execution_count": null,
   "metadata": {},
   "outputs": [],
   "source": [
    "avengers = [\n",
    "    \"Hulk\",\n",
    "    \"Iron man\",\n",
    "    \"Black widow\",\n",
    "    \"Captain america\",\n",
    "    \"Spider man\",\n",
    "    \"Thor\",\n",
    "]\n",
    "\n",
    "list = []\n",
    "\n",
    "for i in range(len(avengers)):\n",
    "\n",
    "    if (len(avengers[i]) >= 10):\n",
    "        list.append(avengers[i])\n",
    "\n",
    "list\n"
   ]
  },
  {
   "cell_type": "markdown",
   "metadata": {},
   "source": [
    "## Task 2.1\n",
    " \n",
    "Calculate the total of shopping_items & apply tax of 10%\n",
    " \n",
    "```py\n",
    "shopping_items = [1000, 5000,  4000, 2000, 3000]\n",
    "```\n",
    " \n",
    " \n",
    "Expected Output\n",
    " \n",
    "```\n",
    "Your total is R15000\n",
    "Tax is 10%      R1500\n",
    "Your grand total is R16500\n",
    "```"
   ]
  },
  {
   "cell_type": "code",
   "execution_count": null,
   "metadata": {},
   "outputs": [],
   "source": [
    "shopping_items = [1000, 5000,  4000, 2000, 3000]\n",
    "total = 0\n",
    "\n",
    "for i in range(len(shopping_items)):\n",
    "    total = total + shopping_items[i]\n",
    "\n",
    "tax = total * 0.10\n",
    "print(f\"Your total is R{total} \\nTax is 10%    R{tax} \\nYour grand total is R{total + tax}\")"
   ]
  },
  {
   "cell_type": "markdown",
   "metadata": {},
   "source": [
    "# for loop with list\n",
    "1. for with index\n",
    "   - only when index and value is needed\n",
    "2. simple for loop\n",
    "   - only when need values "
   ]
  },
  {
   "cell_type": "code",
   "execution_count": null,
   "metadata": {},
   "outputs": [
    {
     "name": "stdout",
     "output_type": "stream",
     "text": [
      "0 90 180\n",
      "1 80 160\n",
      "2 50 100\n",
      "3 65 130\n"
     ]
    }
   ],
   "source": [
    "powers = [90, 80, 50, 65]\n",
    "\n",
    "for idx in range(len(powers)):\n",
    "    print(idx, powers[idx], powers[idx] * 2)"
   ]
  },
  {
   "cell_type": "code",
   "execution_count": null,
   "metadata": {},
   "outputs": [
    {
     "name": "stdout",
     "output_type": "stream",
     "text": [
      "90 180\n",
      "80 160\n",
      "50 100\n",
      "65 130\n"
     ]
    }
   ],
   "source": [
    "powers = [90, 80, 50, 65]\n",
    "\n",
    "#simple for loop\n",
    "for power in powers:\n",
    "    print(power, power*2)"
   ]
  }
 ],
 "metadata": {
  "kernelspec": {
   "display_name": ".venv",
   "language": "python",
   "name": "python3"
  },
  "language_info": {
   "codemirror_mode": {
    "name": "ipython",
    "version": 3
   },
   "file_extension": ".py",
   "mimetype": "text/x-python",
   "name": "python",
   "nbconvert_exporter": "python",
   "pygments_lexer": "ipython3",
   "version": "3.13.2"
  }
 },
 "nbformat": 4,
 "nbformat_minor": 2
}
