{
 "cells": [
  {
   "cell_type": "markdown",
   "metadata": {},
   "source": [
    "# Intro List \n",
    "\n",
    "- Motivation: Holds multiple values\n",
    "- non-primitive data type. because it can hold multiple values.\n",
    "- Hold values of same data types\n",
    "- dont mix data type\n",
    "- mixing data types is possible but dont\n",
    "\n",
    "- methods\n",
    "  - **Create:** *list = [10 , 20 , 30 , 40]*\n",
    "  - **Read:** *Index and slice*\n",
    "  - **Update:** *index(mutate), append(), insert()*\n",
    "  - **Delete** *remove() and pop()*\n",
    "\n",
    "## setting up UV\n",
    "1) uv venv\n",
    "2) uv pip install ipykernel\n",
    " "
   ]
  },
  {
   "cell_type": "code",
   "execution_count": 26,
   "metadata": {},
   "outputs": [],
   "source": [
    "mark1 = 80\n",
    "mark2 = 90\n",
    "mark3 = 70\n"
   ]
  },
  {
   "cell_type": "code",
   "execution_count": 27,
   "metadata": {},
   "outputs": [
    {
     "name": "stdout",
     "output_type": "stream",
     "text": [
      "[80, 90, 70, 45, 95] <class 'list'>\n"
     ]
    }
   ],
   "source": [
    "marks = [80, 90, 70, 45, 95]  #list\n",
    "print(marks, type(marks))"
   ]
  },
  {
   "cell_type": "code",
   "execution_count": 28,
   "metadata": {},
   "outputs": [
    {
     "name": "stdout",
     "output_type": "stream",
     "text": [
      "[True, 'abc', 6]\n"
     ]
    }
   ],
   "source": [
    "values = [True, 'abc', 6]\n",
    "print(values)"
   ]
  },
  {
   "cell_type": "markdown",
   "metadata": {},
   "source": [
    "## Index\n",
    "- positive and negative indexing works"
   ]
  },
  {
   "cell_type": "code",
   "execution_count": 29,
   "metadata": {},
   "outputs": [
    {
     "name": "stdout",
     "output_type": "stream",
     "text": [
      "95\n",
      "95\n"
     ]
    }
   ],
   "source": [
    "marks = [80, 90, 70, 45, 95]  # list\n",
    "print(marks[-1])\n",
    "print(marks[4])"
   ]
  },
  {
   "cell_type": "markdown",
   "metadata": {},
   "source": [
    "## Slice"
   ]
  },
  {
   "cell_type": "code",
   "execution_count": 30,
   "metadata": {},
   "outputs": [
    {
     "name": "stdout",
     "output_type": "stream",
     "text": [
      "[90, 70, 45, 95]\n"
     ]
    }
   ],
   "source": [
    "marks = [80, 90, 70, 45, 95]\n",
    "print(marks[1:])\n"
   ]
  },
  {
   "cell_type": "markdown",
   "metadata": {},
   "source": [
    "## Reverse through list"
   ]
  },
  {
   "cell_type": "code",
   "execution_count": 31,
   "metadata": {},
   "outputs": [
    {
     "name": "stdout",
     "output_type": "stream",
     "text": [
      "[95, 45, 70, 90, 80]\n"
     ]
    }
   ],
   "source": [
    "marks = [80, 90, 70, 45, 95]\n",
    "print(marks[::-1])\n"
   ]
  },
  {
   "cell_type": "markdown",
   "metadata": {},
   "source": [
    "## Concatenating lists (joining)"
   ]
  },
  {
   "cell_type": "code",
   "execution_count": null,
   "metadata": {},
   "outputs": [
    {
     "data": {
      "text/plain": [
       "['🍎', '🍊', '🍐', '🍉', '🍇', '🥒', '🫑', '🍆', '🥕', '🍠']"
      ]
     },
     "execution_count": 32,
     "metadata": {},
     "output_type": "execute_result"
    }
   ],
   "source": [
    "fruits = [\"🍎\", \"🍊\", \"🍐\", \"🍉\", \"🍇\"]\n",
    "vegetables = [\"🥒\", \"🫑\", \"🍆\", \"🥕\", \"🍠\"]\n",
    "\n",
    "fruits + vegetables\n"
   ]
  },
  {
   "cell_type": "markdown",
   "metadata": {},
   "source": [
    "## Repetition operator (*)"
   ]
  },
  {
   "cell_type": "code",
   "execution_count": 33,
   "metadata": {},
   "outputs": [
    {
     "data": {
      "text/plain": [
       "['🥒', '🫑', '🍆', '🥕', '🍠', '🥒', '🫑', '🍆', '🥕', '🍠']"
      ]
     },
     "execution_count": 33,
     "metadata": {},
     "output_type": "execute_result"
    }
   ],
   "source": [
    "vegetables * 2"
   ]
  },
  {
   "cell_type": "markdown",
   "metadata": {},
   "source": [
    "## Immutable vs Mutable \n",
    "mutable values can be changed and immutable values cannot be changed\n",
    "### update"
   ]
  },
  {
   "cell_type": "code",
   "execution_count": 34,
   "metadata": {},
   "outputs": [
    {
     "data": {
      "text/plain": [
       "5"
      ]
     },
     "execution_count": 34,
     "metadata": {},
     "output_type": "execute_result"
    }
   ],
   "source": [
    "vegetables = [\"🥒\", \"🫑\", \"🍆\", \"🥕\", \"🍠\"]\n",
    "len(vegetables)"
   ]
  },
  {
   "cell_type": "code",
   "execution_count": 36,
   "metadata": {},
   "outputs": [
    {
     "data": {
      "text/plain": [
       "[80, 90, 55, 70, 45, 95, 100]"
      ]
     },
     "execution_count": 36,
     "metadata": {},
     "output_type": "execute_result"
    }
   ],
   "source": [
    "marks = [80, 90, 70, 45, 95]\n",
    "\n",
    "marks.insert(2, 55)\n",
    "marks.append(100)\n",
    "marks"
   ]
  },
  {
   "cell_type": "markdown",
   "metadata": {},
   "source": [
    "## Remove items\n",
    "pop and remove"
   ]
  },
  {
   "cell_type": "code",
   "execution_count": null,
   "metadata": {},
   "outputs": [
    {
     "data": {
      "text/plain": [
       "['Hulk', 'Iron man', 'Black widow', 'Captain america', 'Spiderman']"
      ]
     },
     "execution_count": 37,
     "metadata": {},
     "output_type": "execute_result"
    }
   ],
   "source": [
    "avengers = [\"Hulk\", \"Iron man\", \"Black widow\", \"Captain america\", \"Spider man\", \"Thor\"]\n",
    "\n",
    "#pops the last value\n",
    "#can also add an index to remove a specific value\n",
    "avengers.pop()\n",
    "#can do it in one go and remove by value\n",
    "avengers.remove(\"Spiderman\")\n",
    "\n",
    "avengers"
   ]
  },
  {
   "cell_type": "code",
   "execution_count": 39,
   "metadata": {},
   "outputs": [
    {
     "name": "stdout",
     "output_type": "stream",
     "text": [
      "20\n",
      "30\n",
      "40\n",
      "50\n",
      "80\n"
     ]
    }
   ],
   "source": [
    "marks = [20, 30 , 40, 50, 80]\n",
    "\n",
    "for i in range(len(marks)):\n",
    "    print(marks[i])"
   ]
  },
  {
   "cell_type": "markdown",
   "metadata": {},
   "source": [
    "## Task 1.1 \n",
    "\n",
    "Find the letters in each characters name and stored in a new list\n",
    " \n",
    "```py\n",
    "avengers = [\n",
    "    \"Hulk\",\n",
    "    \"Iron man\",\n",
    "    \"Black widow\",\n",
    "    \"Captain america\",\n",
    "    \"Spider man\",\n",
    "    \"Thor\",\n",
    "]\n",
    "```\n",
    " \n",
    "Output\n",
    "[4, 8, 11, 15, 10, 4]"
   ]
  },
  {
   "cell_type": "code",
   "execution_count": 47,
   "metadata": {},
   "outputs": [
    {
     "data": {
      "text/plain": [
       "[4, 8, 11, 15, 10, 4]"
      ]
     },
     "execution_count": 47,
     "metadata": {},
     "output_type": "execute_result"
    }
   ],
   "source": [
    "avengers = [\n",
    "    \"Hulk\",\n",
    "    \"Iron man\",\n",
    "    \"Black widow\",\n",
    "    \"Captain america\",\n",
    "    \"Spider man\",\n",
    "    \"Thor\",\n",
    "]\n",
    "\n",
    "list = []\n",
    "\n",
    "for i in range(len(avengers)):\n",
    "    list.append(len(avengers[i]))\n",
    "list"
   ]
  },
  {
   "cell_type": "markdown",
   "metadata": {},
   "source": [
    "## Task 1.2\n",
    "\n",
    "Find longer names more the 10 letters name and stored in a new list\n",
    " \n",
    "Output\n",
    "[\"Black widow\", \"Captain america\"]"
   ]
  },
  {
   "cell_type": "code",
   "execution_count": null,
   "metadata": {},
   "outputs": [
    {
     "data": {
      "text/plain": [
       "['Black widow', 'Captain america', 'Spider man']"
      ]
     },
     "execution_count": 48,
     "metadata": {},
     "output_type": "execute_result"
    }
   ],
   "source": [
    "avengers = [\n",
    "    \"Hulk\",\n",
    "    \"Iron man\",\n",
    "    \"Black widow\",\n",
    "    \"Captain america\",\n",
    "    \"Spider man\",\n",
    "    \"Thor\",\n",
    "]\n",
    "\n",
    "list = []\n",
    "\n",
    "for i in range(len(avengers)):\n",
    "\n",
    "    if (len(avengers[i]) >= 10):\n",
    "        list.append(avengers[i])\n",
    "\n",
    "list\n"
   ]
  },
  {
   "cell_type": "markdown",
   "metadata": {},
   "source": [
    "## Task 2.1\n",
    " \n",
    "Calculate the total of shopping_items & apply tax of 10%\n",
    " \n",
    "```py\n",
    "shopping_items = [1000, 5000,  4000, 2000, 3000]\n",
    "```\n",
    " \n",
    " \n",
    "Expected Output\n",
    " \n",
    "```\n",
    "Your total is R15000\n",
    "Tax is 10%      R1500\n",
    "Your grand total is R16500\n",
    "```"
   ]
  },
  {
   "cell_type": "code",
   "execution_count": 52,
   "metadata": {},
   "outputs": [
    {
     "name": "stdout",
     "output_type": "stream",
     "text": [
      "Your total is R15000 \n",
      "Tax is 10%    R1500.0 \n",
      "Your grand total is R16500.0\n"
     ]
    }
   ],
   "source": [
    "shopping_items = [1000, 5000,  4000, 2000, 3000]\n",
    "total = 0\n",
    "\n",
    "for i in range(len(shopping_items)):\n",
    "    total = total + shopping_items[i]\n",
    "\n",
    "tax = total * 0.10\n",
    "print(f\"Your total is R{total} \\nTax is 10%    R{tax} \\nYour grand total is R{total + tax}\")"
   ]
  }
 ],
 "metadata": {
  "kernelspec": {
   "display_name": ".venv",
   "language": "python",
   "name": "python3"
  },
  "language_info": {
   "codemirror_mode": {
    "name": "ipython",
    "version": 3
   },
   "file_extension": ".py",
   "mimetype": "text/x-python",
   "name": "python",
   "nbconvert_exporter": "python",
   "pygments_lexer": "ipython3",
   "version": "3.13.2"
  }
 },
 "nbformat": 4,
 "nbformat_minor": 2
}
