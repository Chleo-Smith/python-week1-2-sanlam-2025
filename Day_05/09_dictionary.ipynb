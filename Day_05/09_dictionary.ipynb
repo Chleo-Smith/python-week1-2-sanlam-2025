{
 "cells": [
  {
   "cell_type": "markdown",
   "metadata": {},
   "source": [
    "# Dictionary\n",
    "\n",
    "- store mixed data types and multiple values\n",
    "- Key & Value pairs\n",
    "\n",
    "## updating values\n",
    "- `dict[key] = new_value`\n",
    "\n",
    "## dictionary methods\n",
    "- `keys()`\n",
    "- `values()`\n",
    "- `items()`\n",
    "\n",
    "## looping\n",
    "- can loop with both keys and values"
   ]
  },
  {
   "cell_type": "code",
   "execution_count": null,
   "metadata": {},
   "outputs": [
    {
     "name": "stdout",
     "output_type": "stream",
     "text": [
      "Peter Parkerc\n",
      "Hulk\n"
     ]
    }
   ],
   "source": [
    "spiderman = {\n",
    "    \"name\" : \"Peter Parker\",\n",
    "    \"age\" : 18,\n",
    "    \"team_name\" : \"Avengers\",\n",
    "    \"team\" : [\"Iron Man\", \"Thor\", \"Hulk\", \"Captain America\"]\n",
    "}\n",
    "\n",
    "spiderman[\"name\"] = spiderman[\"name\"] + \"c\"\n",
    "# keys in dict == to index in list\n",
    "print(spiderman[\"name\"])\n",
    "print(spiderman[\"team\"][2])"
   ]
  },
  {
   "cell_type": "code",
   "execution_count": 4,
   "metadata": {},
   "outputs": [
    {
     "name": "stdout",
     "output_type": "stream",
     "text": [
      "dict_keys(['name', 'age', 'team_name', 'team'])\n"
     ]
    }
   ],
   "source": [
    "print(spiderman.keys())"
   ]
  },
  {
   "cell_type": "code",
   "execution_count": 10,
   "metadata": {},
   "outputs": [
    {
     "name": "stdout",
     "output_type": "stream",
     "text": [
      "name\n",
      "age\n",
      "team_name\n",
      "team\n"
     ]
    }
   ],
   "source": [
    "for key in spiderman.keys():\n",
    "    print(key)"
   ]
  },
  {
   "cell_type": "code",
   "execution_count": 6,
   "metadata": {},
   "outputs": [
    {
     "name": "stdout",
     "output_type": "stream",
     "text": [
      "Peter Parkerc\n",
      "18\n",
      "Avengers\n",
      "['Iron Man', 'Thor', 'Hulk', 'Captain America']\n"
     ]
    }
   ],
   "source": [
    "for values in spiderman.values():\n",
    "    print(values)"
   ]
  },
  {
   "cell_type": "code",
   "execution_count": 7,
   "metadata": {},
   "outputs": [
    {
     "name": "stdout",
     "output_type": "stream",
     "text": [
      "('name', 'Peter Parkerc')\n",
      "('age', 18)\n",
      "('team_name', 'Avengers')\n",
      "('team', ['Iron Man', 'Thor', 'Hulk', 'Captain America'])\n"
     ]
    }
   ],
   "source": [
    "for item in spiderman.items():\n",
    "    print(item)\n"
   ]
  },
  {
   "cell_type": "markdown",
   "metadata": {},
   "source": [
    "## Task 1.1\n",
    "Please provide the list of book titles\n",
    "\n",
    "\n",
    "```python\n",
    "books = [\n",
    "    {\"title\": \"Infinite Jest\", \"rating\": 4.5, \"genre\": \"Fiction\"},\n",
    "    {\"title\": \"The Catcher in the Rye\", \"rating\": 3.9, \"genre\": \"Fiction\"},\n",
    "    {\"title\": \"Sapiens\", \"rating\": 4.9, \"genre\": \"History\"},\n",
    "    {\"title\": \"A Brief History of Time\", \"rating\": 4.8, \"genre\": \"Science\"},\n",
    "    {\"title\": \"Clean Code\", \"rating\": 4.7, \"genre\": \"Technology\"},\n",
    "]\n",
    "\n",
    "```\n",
    "\n",
    "### Expected Output\n",
    "```\n",
    "[\"Infinite Jest\",  \"The Catcher in the Rye\", \"Sapiens\",  \"A Brief History of Time\",  \"Clean Code\"]\n",
    "```"
   ]
  },
  {
   "cell_type": "code",
   "execution_count": 13,
   "metadata": {},
   "outputs": [
    {
     "name": "stdout",
     "output_type": "stream",
     "text": [
      "['Infinite Jest', 'The Catcher in the Rye', 'Sapiens', 'A Brief History of Time', 'Clean Code']\n"
     ]
    }
   ],
   "source": [
    "books = [\n",
    "    {\"title\": \"Infinite Jest\", \"rating\": 4.5, \"genre\": \"Fiction\"},\n",
    "    {\"title\": \"The Catcher in the Rye\", \"rating\": 3.9, \"genre\": \"Fiction\"},\n",
    "    {\"title\": \"Sapiens\", \"rating\": 4.9, \"genre\": \"History\"},\n",
    "    {\"title\": \"A Brief History of Time\", \"rating\": 4.8, \"genre\": \"Science\"},\n",
    "    {\"title\": \"Clean Code\", \"rating\": 4.7, \"genre\": \"Technology\"},\n",
    "]\n",
    "\n",
    "book_names = []\n",
    "\n",
    "for book in books:\n",
    "    book_names.append(book[\"title\"])\n",
    "\n",
    "print(book_names)"
   ]
  },
  {
   "cell_type": "markdown",
   "metadata": {},
   "source": [
    "## Task 1.2\n",
    "Please provide the only Fiction books\n",
    "\n",
    "\n",
    "### Expected Output\n",
    "```\n",
    "[\"Infinite Jest\",  \"The Catcher in the Rye\"]\n",
    "```"
   ]
  },
  {
   "cell_type": "code",
   "execution_count": 8,
   "metadata": {},
   "outputs": [
    {
     "name": "stdout",
     "output_type": "stream",
     "text": [
      "['Infinite Jest', 'The Catcher in the Rye']\n"
     ]
    }
   ],
   "source": [
    "books = [\n",
    "    {\"title\": \"Infinite Jest\", \"rating\": 4.5, \"genre\": \"Fiction\"},\n",
    "    {\"title\": \"The Catcher in the Rye\", \"rating\": 3.9, \"genre\": \"Fiction\"},\n",
    "    {\"title\": \"Sapiens\", \"rating\": 4.9, \"genre\": \"History\"},\n",
    "    {\"title\": \"A Brief History of Time\", \"rating\": 4.8, \"genre\": \"Science\"},\n",
    "    {\"title\": \"Clean Code\", \"rating\": 4.7, \"genre\": \"Technology\"},\n",
    "]\n",
    "\n",
    "titles = []\n",
    "\n",
    "for book in books:\n",
    "    if book[\"genre\"].lower() == \"fiction\":\n",
    "        titles.append(book[\"title\"])\n",
    "\n",
    "print(titles)\n"
   ]
  },
  {
   "cell_type": "markdown",
   "metadata": {},
   "source": [
    "## Task 1.3\n",
    "Please provide Highest rated books (>= 4.7)\n",
    "\n",
    "\n",
    "### Expected Output\n",
    "```\n",
    "Highest rated books are: Sapiens, A Brief History of Time and Clean Code \n",
    "```"
   ]
  },
  {
   "cell_type": "code",
   "execution_count": 9,
   "metadata": {},
   "outputs": [
    {
     "name": "stdout",
     "output_type": "stream",
     "text": [
      "Highest rated books are: Sapiens, A Brief History of Time and Clean Code\n"
     ]
    }
   ],
   "source": [
    "\n",
    "books = [\n",
    "    {\"title\": \"Infinite Jest\", \"rating\": 4.5, \"genre\": \"Fiction\"},\n",
    "    {\"title\": \"The Catcher in the Rye\", \"rating\": 3.9, \"genre\": \"Fiction\"},\n",
    "    {\"title\": \"Sapiens\", \"rating\": 4.9, \"genre\": \"History\"},\n",
    "    {\"title\": \"A Brief History of Time\", \"rating\": 4.8, \"genre\": \"Science\"},\n",
    "    {\"title\": \"Clean Code\", \"rating\": 4.7, \"genre\": \"Technology\"},\n",
    "]\n",
    "\n",
    "titles = []\n",
    "\n",
    "for book in books:\n",
    "    if book[\"rating\"] >= 4.7:\n",
    "        titles.append(book[\"title\"])\n",
    "\n",
    "if len(titles) > 1:\n",
    "    print(f\"Highest rated books are: {', '.join(titles[:-1])} and {titles[-1]}\")\n",
    "elif len(titles) == 1:\n",
    "    print(f\"Highest rated book is: {titles[0]}\")\n",
    "else:\n",
    "    print(f\"There are no books with a rating higher that 4.7\")\n"
   ]
  }
 ],
 "metadata": {
  "kernelspec": {
   "display_name": ".venv",
   "language": "python",
   "name": "python3"
  },
  "language_info": {
   "codemirror_mode": {
    "name": "ipython",
    "version": 3
   },
   "file_extension": ".py",
   "mimetype": "text/x-python",
   "name": "python",
   "nbconvert_exporter": "python",
   "pygments_lexer": "ipython3",
   "version": "3.13.2"
  }
 },
 "nbformat": 4,
 "nbformat_minor": 2
}
