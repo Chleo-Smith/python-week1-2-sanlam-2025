{
 "cells": [
  {
   "cell_type": "markdown",
   "metadata": {},
   "source": [
    "# multiple variable assignment"
   ]
  },
  {
   "cell_type": "code",
   "execution_count": 1,
   "metadata": {},
   "outputs": [
    {
     "name": "stdout",
     "output_type": "stream",
     "text": [
      "0 0 0\n"
     ]
    }
   ],
   "source": [
    "a = 0\n",
    "b = 0\n",
    "c = 0\n",
    "\n",
    "print(a, b, c)"
   ]
  },
  {
   "cell_type": "code",
   "execution_count": null,
   "metadata": {},
   "outputs": [],
   "source": [
    "a = b = c = 10\n",
    "\n",
    "print(a, b, c)"
   ]
  },
  {
   "cell_type": "markdown",
   "metadata": {},
   "source": [
    "# unpacking\n",
    "\n",
    "- works on both lists and tuples\n",
    "- `*` unpacking operator"
   ]
  },
  {
   "cell_type": "code",
   "execution_count": null,
   "metadata": {},
   "outputs": [
    {
     "name": "stdout",
     "output_type": "stream",
     "text": [
      "10 15 20\n"
     ]
    }
   ],
   "source": [
    "# unpacking\n",
    "\n",
    "a, b, c = 10, 15, 20 #this is a tuple\n",
    "\n",
    "print(a, b, c)"
   ]
  },
  {
   "cell_type": "code",
   "execution_count": 3,
   "metadata": {},
   "outputs": [
    {
     "name": "stdout",
     "output_type": "stream",
     "text": [
      "10 15 20\n",
      "<class 'int'>\n"
     ]
    }
   ],
   "source": [
    "a, b, c = [10, 15, 20]\n",
    "\n",
    "print(a, b, c)\n",
    "print(type(a))"
   ]
  },
  {
   "cell_type": "code",
   "execution_count": 6,
   "metadata": {},
   "outputs": [
    {
     "name": "stdout",
     "output_type": "stream",
     "text": [
      "10 20\n"
     ]
    }
   ],
   "source": [
    "a, _, c = [10, 10, 20]\n",
    "print(a,  c)"
   ]
  },
  {
   "cell_type": "code",
   "execution_count": null,
   "metadata": {},
   "outputs": [
    {
     "name": "stdout",
     "output_type": "stream",
     "text": [
      "80 40 [70, 90]\n"
     ]
    }
   ],
   "source": [
    "m1, *t1, m2 = [80, 70, 90, 40]\n",
    "# * unpacking operator\n",
    "print(m1, m2, t1)"
   ]
  },
  {
   "cell_type": "markdown",
   "metadata": {},
   "source": [
    "# task 1.1\n",
    "\n",
    "output  [5.0, 13.42, 16.4]\n",
    "\n",
    "c = math.sqrt(a ** 2 + b ** 2)"
   ]
  },
  {
   "cell_type": "code",
   "execution_count": 33,
   "metadata": {},
   "outputs": [
    {
     "name": "stdout",
     "output_type": "stream",
     "text": [
      "[5.0, 13.42, 16.4]\n"
     ]
    }
   ],
   "source": [
    "# Task 1.1\n",
    "points = [(3, 4), (6, 12), (10, 13)]\n",
    "distances = []\n",
    "\n",
    "for pair in points:\n",
    "    distance = round((pair[0]**2 + pair[1]**2)**0.5, 2)\n",
    "    distances.append(distance)\n",
    "\n",
    "print(distances)\n"
   ]
  },
  {
   "cell_type": "code",
   "execution_count": 34,
   "metadata": {},
   "outputs": [
    {
     "name": "stdout",
     "output_type": "stream",
     "text": [
      "[5.0, 13.42, 16.4]\n"
     ]
    }
   ],
   "source": [
    "# Task 1.2\n",
    "points = [(3, 4), (6, 12), (10, 13)]\n",
    "\n",
    "distances = []\n",
    "\n",
    "for pair in points:\n",
    "    x, y = pair\n",
    "    distance = round((x ** 2 + y ** 2)**0.5, 2)\n",
    "    distances.append(distance)\n",
    "\n",
    "print(distances)\n",
    "\n",
    "# pair_1, pair_2, pair_3 = points"
   ]
  }
 ],
 "metadata": {
  "kernelspec": {
   "display_name": ".venv",
   "language": "python",
   "name": "python3"
  },
  "language_info": {
   "codemirror_mode": {
    "name": "ipython",
    "version": 3
   },
   "file_extension": ".py",
   "mimetype": "text/x-python",
   "name": "python",
   "nbconvert_exporter": "python",
   "pygments_lexer": "ipython3",
   "version": "3.13.2"
  }
 },
 "nbformat": 4,
 "nbformat_minor": 2
}
