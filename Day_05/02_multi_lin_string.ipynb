{
 "cells": [
  {
   "cell_type": "markdown",
   "metadata": {},
   "source": [
    "# Multi line string\n",
    "\n",
    "- Normal string can use `\"\"` or `''`\n",
    "- `\\n` new line character \n",
    "- use `\"\"\" \"\"\"` or `''' '''` for use enter with `\\n`\n",
    "- f string supported"
   ]
  },
  {
   "cell_type": "code",
   "execution_count": 7,
   "metadata": {},
   "outputs": [
    {
     "name": "stdout",
     "output_type": "stream",
     "text": [
      "This is cool This is cool\n"
     ]
    }
   ],
   "source": [
    "msg1 = \"This is cool\"\n",
    "msg2 = 'This is cool'\n",
    "\n",
    "print(msg1, msg2)"
   ]
  },
  {
   "cell_type": "code",
   "execution_count": 8,
   "metadata": {},
   "outputs": [
    {
     "name": "stdout",
     "output_type": "stream",
     "text": [
      "This is super cool\n",
      "\n",
      "This is amazing\n"
     ]
    }
   ],
   "source": [
    "msg3 = \"\"\"This is super cool\n",
    "\n",
    "This is amazing\"\"\"\n",
    "print(msg3)"
   ]
  },
  {
   "cell_type": "code",
   "execution_count": 9,
   "metadata": {},
   "outputs": [
    {
     "name": "stdout",
     "output_type": "stream",
     "text": [
      " This is super cool\n",
      "siyanda has 2000 followers\n",
      "\n"
     ]
    }
   ],
   "source": [
    "followers = 2_000\n",
    "\n",
    "msg5 = f\"\"\" This is super cool\n",
    "siyanda has {followers} followers\n",
    "\"\"\"\n",
    "\n",
    "print(msg5)"
   ]
  },
  {
   "cell_type": "markdown",
   "metadata": {},
   "source": [
    "## inbuilt functions"
   ]
  },
  {
   "cell_type": "code",
   "execution_count": null,
   "metadata": {},
   "outputs": [
    {
     "name": "stdout",
     "output_type": "stream",
     "text": [
      "280\n"
     ]
    }
   ],
   "source": [
    "marks = [90, 80, 40, 70]\n",
    "print(sum(marks))"
   ]
  },
  {
   "cell_type": "markdown",
   "metadata": {},
   "source": [
    "# 5 Pillars Code Quality\n",
    "1.  **Readability**\n",
    "  - 75% of life reading code\n",
    "  - code communicates to other devs\n",
    "  - long term maintainability\n",
    "2. **Maintainability** 📉 **as code debt** 📈\n",
    "  - Modular\n",
    "  - Scalable\n",
    "3. **Extensibility**\n",
    "  - adding features should be easy\n",
    "  - e.g. Camera - can change lens\n",
    "4. **Testability**\n",
    "  - write code in a way that's it's easily testable\n",
    "5. **Performance**\n",
    "  - Dont sacrifice readability for performance"
   ]
  },
  {
   "cell_type": "markdown",
   "metadata": {},
   "source": [
    "## code debt\n",
    "Promise you make that I will make the code better tomrrow, but tomorrow never comes.\n",
    "\n",
    "**start-ups in large code debt:** code debt 📈 and time 📉\n",
    "ideas 📈"
   ]
  }
 ],
 "metadata": {
  "kernelspec": {
   "display_name": ".venv",
   "language": "python",
   "name": "python3"
  },
  "language_info": {
   "codemirror_mode": {
    "name": "ipython",
    "version": 3
   },
   "file_extension": ".py",
   "mimetype": "text/x-python",
   "name": "python",
   "nbconvert_exporter": "python",
   "pygments_lexer": "ipython3",
   "version": "3.13.2"
  }
 },
 "nbformat": 4,
 "nbformat_minor": 2
}
