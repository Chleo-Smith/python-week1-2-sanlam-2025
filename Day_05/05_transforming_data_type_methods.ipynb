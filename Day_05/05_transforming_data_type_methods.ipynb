{
 "cells": [
  {
   "cell_type": "markdown",
   "metadata": {},
   "source": [
    "# `join()`\n",
    "- list to string"
   ]
  },
  {
   "cell_type": "code",
   "execution_count": 2,
   "metadata": {},
   "outputs": [
    {
     "data": {
      "text/plain": [
       "'🍎|🍊|🍐|🍉|🍇'"
      ]
     },
     "execution_count": 2,
     "metadata": {},
     "output_type": "execute_result"
    }
   ],
   "source": [
    "fruits = [\"🍎\", \"🍊\", \"🍐\", \"🍉\", \"🍇\"]\n",
    "\n",
    "fruits\n",
    "\",\".join(fruits)\n",
    "\"|\".join(fruits)"
   ]
  },
  {
   "cell_type": "markdown",
   "metadata": {},
   "source": [
    "# `split()`\n",
    "\n",
    "- string to list "
   ]
  },
  {
   "cell_type": "code",
   "execution_count": null,
   "metadata": {},
   "outputs": [
    {
     "data": {
      "text/plain": [
       "['🍎', '🍊', '🍐', '🍉', '🍇']"
      ]
     },
     "execution_count": 3,
     "metadata": {},
     "output_type": "execute_result"
    }
   ],
   "source": [
    "fruits = \"🍎|🍊|🍐|🍉|🍇\"\n",
    "\n",
    "fruits.split(\"|\")\n"
   ]
  },
  {
   "cell_type": "code",
   "execution_count": 5,
   "metadata": {},
   "outputs": [
    {
     "data": {
      "text/plain": [
       "['mint|ch', 'c', 'late|vanilla']"
      ]
     },
     "execution_count": 5,
     "metadata": {},
     "output_type": "execute_result"
    }
   ],
   "source": [
    "cream = \"mint|chocolate|vanilla\"\n",
    "cream.split('o')"
   ]
  },
  {
   "cell_type": "markdown",
   "metadata": {},
   "source": [
    "# exercise \n",
    "\n",
    "scrambled_message = \"world the save to time no is there\"\n",
    " \n",
    "# Output\n",
    "# there is no time to save the world\n",
    " "
   ]
  },
  {
   "cell_type": "code",
   "execution_count": 7,
   "metadata": {},
   "outputs": [
    {
     "name": "stdout",
     "output_type": "stream",
     "text": [
      "there is no time to save the world\n"
     ]
    }
   ],
   "source": [
    "# Task 1.1\n",
    "\n",
    "scrambled_message = \"world the save to time no is there\"\n",
    "\n",
    "message_list = scrambled_message.split(\" \")\n",
    "\n",
    "print(\" \". join(message_list[::-1]))\n"
   ]
  },
  {
   "cell_type": "markdown",
   "metadata": {},
   "source": [
    "# Task 1.2\n",
    "\n",
    "```py\n",
    "playlist = \"🎵Dancing Queen;🎸Sweet Child O' Mine;🎹Piano Man;🎤Bohemian Rhapsody;🎺All That Jazz\"\n",
    "```\n",
    "\n",
    "## Output\n",
    "My favorite playlist:\n",
    "1. 🎵Dancing Queen\n",
    "2. 🎸Sweet Child O' Mine\n",
    "3. 🎹Piano Man\n",
    "4. 🎤Bohemian Rhapsody\n",
    "5. 🎺All That Jazz"
   ]
  },
  {
   "cell_type": "code",
   "execution_count": null,
   "metadata": {},
   "outputs": [
    {
     "name": "stdout",
     "output_type": "stream",
     "text": [
      "My favorite playlist:\n",
      "1. 🎵Dancing Queen\n",
      "2. 🎸Sweet Child O' Mine\n",
      "3. 🎹Piano Man\n",
      "4. 🎤Bohemian Rhapsody\n",
      "5. 🎺All That Jazz\n"
     ]
    }
   ],
   "source": [
    "# Task 1.2\n",
    "playlist = \"🎵Dancing Queen;🎸Sweet Child O' Mine;🎹Piano Man;🎤Bohemian Rhapsody;🎺All That Jazz\"\n",
    "\n",
    "songs = playlist.split(\";\")\n",
    "\n",
    "print(\"My favorite playlist:\")\n",
    "\n",
    "for song_number in range(len(songs)):\n",
    "    print(f\"{song_number + 1}. {songs[song_number]}\")\n"
   ]
  },
  {
   "cell_type": "code",
   "execution_count": null,
   "metadata": {},
   "outputs": [],
   "source": [
    "# Task 1.2\n",
    "playlist = \"🎵Dancing Queen;🎸Sweet Child O' Mine;🎹Piano Man;🎤Bohemian Rhapsody;🎺All That Jazz\"\n",
    "\n",
    "songs = playlist.split(\";\")\n",
    "\n",
    "count = 1\n",
    "\n",
    "print(\"My favorite playlist:\")\n",
    "\n",
    "for song in songs:\n",
    "    print(f\"{count}. {song}\")\n",
    "    count += 1\n"
   ]
  },
  {
   "cell_type": "markdown",
   "metadata": {},
   "source": [
    "# Copy by reference and copy by value\n",
    "\n",
    "- applies for non-primitive values\n",
    "- primitive values store values directly, not an adress \n",
    "- dont use same adress (copy by value)"
   ]
  },
  {
   "cell_type": "code",
   "execution_count": null,
   "metadata": {},
   "outputs": [
    {
     "name": "stdout",
     "output_type": "stream",
     "text": [
      "Original prices:  [1000, 1500, 400]\n",
      "[1000, 1500, 400, 600, 1000]\n",
      "[1000, 1500, 400, 800]\n",
      "[1000, 1500, 400, 600, 1000]\n",
      "True\n"
     ]
    }
   ],
   "source": [
    "prices = [1000, 1500, 400]\n",
    "\n",
    "print(\"Original prices: \", prices)\n",
    "#copies the value of prices to prices1\n",
    "prices1 = prices[:]\n",
    "#sends direct link to prices to prices2 (copy by reference)\n",
    "prices2 = prices\n",
    "\n",
    "#append to same adress\n",
    "prices.append(600)\n",
    "prices1.append(800)\n",
    "prices2.append(1000)\n",
    "\n",
    "print(prices)\n",
    "print(prices1)\n",
    "print(prices2)\n",
    "\n",
    "# id --> gives memory location\n",
    "print(id(prices) == id(prices2))"
   ]
  },
  {
   "cell_type": "markdown",
   "metadata": {},
   "source": [
    "# How lists are stored\n",
    "- lists holds base address if the first value\n",
    "\n",
    "```py\n",
    "prices = [1000, 1500, 400]\n",
    "\n",
    "#prices holds address of 1000 --> 1027\n",
    "#prices[0] --> 1000 + 0\n",
    "#prices[1] --> 1000 + 1\n",
    "#prices[2] --> 1000 + 2\n",
    "\n",
    "prices2 = prices\n",
    "\n",
    "#both var hold same address --> copy by ref\n",
    "```"
   ]
  }
 ],
 "metadata": {
  "kernelspec": {
   "display_name": ".venv",
   "language": "python",
   "name": "python3"
  },
  "language_info": {
   "codemirror_mode": {
    "name": "ipython",
    "version": 3
   },
   "file_extension": ".py",
   "mimetype": "text/x-python",
   "name": "python",
   "nbconvert_exporter": "python",
   "pygments_lexer": "ipython3",
   "version": "3.13.2"
  }
 },
 "nbformat": 4,
 "nbformat_minor": 2
}
