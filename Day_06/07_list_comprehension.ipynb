{
 "cells": [
  {
   "cell_type": "markdown",
   "metadata": {},
   "source": [
    "# List Comprehension\n",
    "- pythonic way: cimple and easy to read"
   ]
  },
  {
   "cell_type": "code",
   "execution_count": 3,
   "metadata": {},
   "outputs": [
    {
     "data": {
      "text/plain": [
       "[9, 64, 100, 144]"
      ]
     },
     "execution_count": 3,
     "metadata": {},
     "output_type": "execute_result"
    }
   ],
   "source": [
    "nums = [3, 8, 10, 12]\n",
    "\n",
    "squares = []\n",
    "\n",
    "for num in nums:\n",
    "    squares.append(num ** 2)\n",
    "\n",
    "squares"
   ]
  },
  {
   "cell_type": "code",
   "execution_count": 5,
   "metadata": {},
   "outputs": [
    {
     "data": {
      "text/plain": [
       "[9, 64, 100, 144]"
      ]
     },
     "execution_count": 5,
     "metadata": {},
     "output_type": "execute_result"
    }
   ],
   "source": [
    "squares = [num ** 2 for num in nums]\n",
    "squares"
   ]
  },
  {
   "cell_type": "code",
   "execution_count": null,
   "metadata": {},
   "outputs": [
    {
     "name": "stdout",
     "output_type": "stream",
     "text": [
      "[4, 8, 11, 15, 10, 4]\n",
      "[4, 8, 11, 15, 10, 4]\n"
     ]
    }
   ],
   "source": [
    "avengers = [\n",
    "    \"Hulk\",\n",
    "    \"Iron man\",\n",
    "    \"Black widow\",\n",
    "    \"Captain america\",\n",
    "    \"Spider man\",\n",
    "    \"Thor\",\n",
    "]\n",
    "\n",
    "avengers_letter_count = []\n",
    "\n",
    "#Loop list & method\n",
    "for i in range(len(avengers)):\n",
    "    avengers_letter_count.append(len(avengers[i]))\n",
    "\n",
    "avengers_letter_count = [\n",
    "    len(avengers[i]) for i in range(len(avengers))\n",
    "]\n",
    "\n",
    "print(avengers_letter_count)\n"
   ]
  },
  {
   "cell_type": "code",
   "execution_count": null,
   "metadata": {},
   "outputs": [
    {
     "name": "stdout",
     "output_type": "stream",
     "text": [
      "[5.0, 13.42, 16.4]\n",
      "[5.0, 13.42, 16.4]\n"
     ]
    }
   ],
   "source": [
    "points = [(3, 4), (6, 12), (10, 13)]\n",
    "\n",
    "distances = []\n",
    "for x, y in points:  # unpacking\n",
    "    distance = round((x**2 + y**2) ** 0.5, 2)\n",
    "    distances.append(distance)\n",
    "\n",
    "print(distances)\n",
    "\n",
    "distances = [\n",
    "    round((x**2 + y**2) ** 0.5, 2) for x, y in points\n",
    "]\n",
    "\n",
    "print(distances)"
   ]
  },
  {
   "cell_type": "code",
   "execution_count": null,
   "metadata": {},
   "outputs": [
    {
     "name": "stdout",
     "output_type": "stream",
     "text": [
      "['Odd', 'Even', 'Even', 'Even', 'Odd', 'Even']\n"
     ]
    }
   ],
   "source": [
    "# Task - With List Comp\n",
    "\n",
    "nums = [ 7, 44, 90, 6, 75, 10]\n",
    "\n",
    "# Output\n",
    "[\"Odd\", \"Even\", \"Even\", \"Even\", \"Odd\", \"Even\"]\n",
    "\n",
    "values = [\n",
    "    \"Odd\" if num % 2 != 0 else \"Even\" for num in nums\n",
    "]\n",
    "\n",
    "print(values)"
   ]
  }
 ],
 "metadata": {
  "kernelspec": {
   "display_name": ".venv",
   "language": "python",
   "name": "python3"
  },
  "language_info": {
   "codemirror_mode": {
    "name": "ipython",
    "version": 3
   },
   "file_extension": ".py",
   "mimetype": "text/x-python",
   "name": "python",
   "nbconvert_exporter": "python",
   "pygments_lexer": "ipython3",
   "version": "3.13.2"
  }
 },
 "nbformat": 4,
 "nbformat_minor": 2
}
