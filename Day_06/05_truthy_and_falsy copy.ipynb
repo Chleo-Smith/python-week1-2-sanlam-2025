{
 "cells": [
  {
   "cell_type": "markdown",
   "metadata": {},
   "source": [
    "# Falsy\n",
    "- `if (..) :` converts value to boolean `bool(value)`\n",
    "- Developers decided to make these things evaluate `False`.\n",
    "- so, if `bool(...)` evaluates to `False`, it's `False`\n",
    "\n",
    "1. `False`\n",
    "2. `None`\n",
    "3. `0`\n",
    "4. `[]`\n",
    "5. `\"\"`\n",
    "6. `{}`\n",
    "7. `()`\n",
    "8. `set()`\n",
    "\n",
    "# Truthy\n",
    "\n",
    "- If it's not on the above list, then it's true\n",
    "- If a value converts to truth then its truthy\n"
   ]
  },
  {
   "cell_type": "code",
   "execution_count": 9,
   "metadata": {},
   "outputs": [
    {
     "name": "stdout",
     "output_type": "stream",
     "text": [
      "cool\n"
     ]
    }
   ],
   "source": [
    "x = [[]]\n",
    "\n",
    "if (x):\n",
    "    print(\"cool\")\n",
    "else:\n",
    "    print(\"super\")"
   ]
  }
 ],
 "metadata": {
  "kernelspec": {
   "display_name": ".venv",
   "language": "python",
   "name": "python3"
  },
  "language_info": {
   "codemirror_mode": {
    "name": "ipython",
    "version": 3
   },
   "file_extension": ".py",
   "mimetype": "text/x-python",
   "name": "python",
   "nbconvert_exporter": "python",
   "pygments_lexer": "ipython3",
   "version": "3.13.2"
  }
 },
 "nbformat": 4,
 "nbformat_minor": 2
}
