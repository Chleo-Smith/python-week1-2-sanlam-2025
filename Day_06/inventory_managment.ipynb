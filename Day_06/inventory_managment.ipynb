{
 "cells": [
  {
   "cell_type": "code",
   "execution_count": 2,
   "metadata": {},
   "outputs": [],
   "source": [
    "#Task 2: Update Existing Information\n",
    "\n",
    "inventory = [\n",
    "    {\"name\": \"Apple 🍎\", \"quantity\": 30, \"price\": 0.50},\n",
    "    {\"name\": \"Banana 🍌\", \"quantity\": 20, \"price\": 0.20},\n",
    "]\n",
    "\n",
    "proceed = \"y\"\n",
    "\n",
    "while proceed == \"y\":\n",
    "    item_name = input(\"What is the product name? \")\n",
    "    item_qty = int(input(\"What is the quantity? \"))\n",
    "    item_price = float(input(\"What is the price? \"))\n",
    "\n",
    "    for entry in inventory:\n",
    "        if item_name == entry[\"name\"]:\n",
    "            entry[\"quantity\"] = entry[\"quantity\"] + item_qty\n",
    "            entry[\"price\"] = item_price\n",
    "            print(\"Updated Apple 🍎 successfully! 🎉\")\n",
    "            print(f\"Updated Inventory: {inventory}\")\n",
    "            break\n",
    "\n",
    "\n",
    "    proceed = input(\"Would you like to add to the inventory? y/n\").lower()"
   ]
  },
  {
   "cell_type": "code",
   "execution_count": 3,
   "metadata": {},
   "outputs": [
    {
     "name": "stdout",
     "output_type": "stream",
     "text": [
      "Updated Apple 🍎 successfully! 🎉\n",
      "Updated Inventory: [{'name': 'Apple 🍎', 'quantity': 70, 'price': 0.4}, {'name': 'Banana 🍌', 'quantity': 20, 'price': 0.2}]\n",
      "Added new item peach XD successfully! 🎉\n",
      "Updated Inventory: [{'name': 'Apple 🍎', 'quantity': 70, 'price': 0.4}, {'name': 'Banana 🍌', 'quantity': 20, 'price': 0.2}, {'name': 'peach XD', 'quantity': 10, 'price': 0.9}]\n"
     ]
    }
   ],
   "source": [
    "# Task 3: Add or update using for-else construct\n",
    "\n",
    "inventory = [\n",
    "    {\"name\": \"Apple 🍎\", \"quantity\": 30, \"price\": 0.50},\n",
    "    {\"name\": \"Banana 🍌\", \"quantity\": 20, \"price\": 0.20},\n",
    "]\n",
    "\n",
    "proceed = \"y\"\n",
    "\n",
    "while proceed == \"y\":\n",
    "    item_name = input(\"What is the product name? \")\n",
    "    item_qty = int(input(\"What is the quantity? \"))\n",
    "    item_price = float(input(\"What is the price? \"))\n",
    "\n",
    "    for entry in inventory:\n",
    "        if item_name == entry[\"name\"]:\n",
    "            entry[\"quantity\"] = entry[\"quantity\"] + item_qty\n",
    "            entry[\"price\"] = item_price\n",
    "            print(f\"Updated {item_name} successfully! 🎉\")\n",
    "            print(f\"Updated Inventory: {inventory}\")\n",
    "            break\n",
    "    else:\n",
    "        product = {\"name\": item_name, \"quantity\": item_qty, \"price\": item_price}\n",
    "        inventory.append(product)\n",
    "\n",
    "        print(f\"Added new item {item_name} successfully! 🎉\")\n",
    "        print(f\"Updated Inventory: {inventory}\")\n",
    "\n",
    "    proceed = input(\"Would you like to add to the inventory? y/n\").lower()\n"
   ]
  }
 ],
 "metadata": {
  "kernelspec": {
   "display_name": ".venv",
   "language": "python",
   "name": "python3"
  },
  "language_info": {
   "codemirror_mode": {
    "name": "ipython",
    "version": 3
   },
   "file_extension": ".py",
   "mimetype": "text/x-python",
   "name": "python",
   "nbconvert_exporter": "python",
   "pygments_lexer": "ipython3",
   "version": "3.13.2"
  }
 },
 "nbformat": 4,
 "nbformat_minor": 2
}
