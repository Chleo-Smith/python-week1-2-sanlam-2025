{
 "cells": [
  {
   "cell_type": "markdown",
   "metadata": {},
   "source": [
    "# Keys\n",
    "\n",
    "- when you dont have key and try to access you get error\n",
    "- use `.get()` if no value present we get `None` not `Error`\n",
    "- eliminates error handling\n",
    "- use `dict.get()` --> SAFE ACCESS instead of `dict[\"key\"]` --> DIRECT ACCESS\n",
    "- `dict.get(\"key\", \"default_value\")` --> default value has lowest priority"
   ]
  },
  {
   "cell_type": "code",
   "execution_count": null,
   "metadata": {},
   "outputs": [
    {
     "ename": "KeyError",
     "evalue": "'bev'",
     "output_type": "error",
     "traceback": [
      "\u001b[1;31m---------------------------------------------------------------------------\u001b[0m",
      "\u001b[1;31mKeyError\u001b[0m                                  Traceback (most recent call last)",
      "Cell \u001b[1;32mIn[1], line 9\u001b[0m\n\u001b[0;32m      1\u001b[0m spiderman \u001b[38;5;241m=\u001b[39m {\n\u001b[0;32m      2\u001b[0m     \u001b[38;5;124m\"\u001b[39m\u001b[38;5;124mname\u001b[39m\u001b[38;5;124m\"\u001b[39m: \u001b[38;5;124m\"\u001b[39m\u001b[38;5;124mPeter Parker\u001b[39m\u001b[38;5;124m\"\u001b[39m,\n\u001b[0;32m      3\u001b[0m     \u001b[38;5;124m\"\u001b[39m\u001b[38;5;124mage\u001b[39m\u001b[38;5;124m\"\u001b[39m: \u001b[38;5;241m18\u001b[39m,\n\u001b[0;32m      4\u001b[0m     \u001b[38;5;124m\"\u001b[39m\u001b[38;5;124mteam_name\u001b[39m\u001b[38;5;124m\"\u001b[39m: \u001b[38;5;124m\"\u001b[39m\u001b[38;5;124mAvengers\u001b[39m\u001b[38;5;124m\"\u001b[39m,\n\u001b[0;32m      5\u001b[0m     \u001b[38;5;124m\"\u001b[39m\u001b[38;5;124mteam\u001b[39m\u001b[38;5;124m\"\u001b[39m: [\u001b[38;5;124m\"\u001b[39m\u001b[38;5;124mIron Man\u001b[39m\u001b[38;5;124m\"\u001b[39m, \u001b[38;5;124m\"\u001b[39m\u001b[38;5;124mThor\u001b[39m\u001b[38;5;124m\"\u001b[39m, \u001b[38;5;124m\"\u001b[39m\u001b[38;5;124mHulk\u001b[39m\u001b[38;5;124m\"\u001b[39m, \u001b[38;5;124m\"\u001b[39m\u001b[38;5;124mCaptain America\u001b[39m\u001b[38;5;124m\"\u001b[39m],\n\u001b[0;32m      6\u001b[0m }\n\u001b[0;32m      8\u001b[0m spiderman\u001b[38;5;241m.\u001b[39mget(\u001b[38;5;124m\"\u001b[39m\u001b[38;5;124mage\u001b[39m\u001b[38;5;124m\"\u001b[39m) \u001b[38;5;66;03m#when you dont have key and try to access you get error\u001b[39;00m\n\u001b[1;32m----> 9\u001b[0m \u001b[43mspiderman\u001b[49m\u001b[43m[\u001b[49m\u001b[38;5;124;43m\"\u001b[39;49m\u001b[38;5;124;43mbev\u001b[39;49m\u001b[38;5;124;43m\"\u001b[39;49m\u001b[43m]\u001b[49m\n",
      "\u001b[1;31mKeyError\u001b[0m: 'bev'"
     ]
    }
   ],
   "source": [
    "spiderman = {\n",
    "    \"name\": \"Peter Parker\",\n",
    "    \"age\": 18,\n",
    "    \"team_name\": \"Avengers\",\n",
    "    \"team\": [\"Iron Man\", \"Thor\", \"Hulk\", \"Captain America\"],\n",
    "}\n",
    "\n",
    "spiderman.get(\"age\") #when you dont have key and try to access you get error"
   ]
  },
  {
   "cell_type": "code",
   "execution_count": 28,
   "metadata": {},
   "outputs": [
    {
     "name": "stdout",
     "output_type": "stream",
     "text": [
      "Steve Rogers 🦸‍♂️ lives in Brooklyn\n",
      "Peter Parker location is Top Secret 🔒\n",
      "Bruce Banner location is Top Secret 🔒\n"
     ]
    }
   ],
   "source": [
    "# print(captain_america[\"address\"][\"city\"])\n",
    "# print(spiderman.get(\"address\", {}).get(\"city\"))\n",
    "# print(captain_america.get(\"address\").get(\"city\"))\n",
    "\n",
    "\n",
    "captain_america = {\n",
    "    \"name\" : \"Steve Rogers\",\n",
    "    \"age\" : 100,\n",
    "    \"height\" : 185,\n",
    "    \"team\" : [\"Iron Man\", \"Thor\", \"Hulk\", \"Captain America\"],\n",
    "    \"address\": {\n",
    "        \"city\" : \"Brooklyn\",\n",
    "        \"country\": \"america\"\n",
    "        }\n",
    "}\n",
    "\n",
    "spiderman = {\n",
    "    \"name\": \"Peter Parker\",\n",
    "    \"age\": 18,\n",
    "    \"team_name\": \"Avengers\",\n",
    "    \"team\": [\"Iron Man\", \"Thor\", \"Hulk\", \"Captain America\"],\n",
    "}\n",
    "\n",
    "hulk = {\n",
    "    \"name\" : \"Bruce Banner\",\n",
    "    \"age\" : 35\n",
    "}\n",
    "heroes = [captain_america, spiderman, hulk]\n",
    "\n",
    "# Output\n",
    "# Steve Rogers 🦸‍♂️ lives in Brooklyn\n",
    "# Peter Parker location is Top Secret 🔒\n",
    "# Bruce Banner location is Top Secret 🔒\n",
    "\n",
    "for hero in heroes:\n",
    "    location = hero.get(\"address\", {}).get(\"city\")\n",
    "\n",
    "    #if key present, we get location\n",
    "    if location != None:\n",
    "        print(f\"{hero.get('name')} 🦸‍♂️ lives in {location}\")\n",
    "\n",
    "    else:\n",
    "        print(f\"{hero.get('name')} location is Top Secret 🔒\")"
   ]
  }
 ],
 "metadata": {
  "kernelspec": {
   "display_name": "Python 3",
   "language": "python",
   "name": "python3"
  },
  "language_info": {
   "codemirror_mode": {
    "name": "ipython",
    "version": 3
   },
   "file_extension": ".py",
   "mimetype": "text/x-python",
   "name": "python",
   "nbconvert_exporter": "python",
   "pygments_lexer": "ipython3",
   "version": "3.11.8"
  }
 },
 "nbformat": 4,
 "nbformat_minor": 2
}
