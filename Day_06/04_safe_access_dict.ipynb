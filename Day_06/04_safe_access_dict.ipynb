{
 "cells": [
  {
   "cell_type": "markdown",
   "metadata": {},
   "source": [
    "# Keys\n",
    "\n",
    "- when you dont have key and try to access you get error\n",
    "- use `.get()` if no value present we get `None` not `Error`\n",
    "- eliminates error handling\n",
    "- use `dict.get()` --> SAFE ACCESS instead of `dict[\"key\"]` --> DIRECT ACCESS\n",
    "- `dict.get(\"key\", \"default_value\")` --> default value has lowest priority"
   ]
  },
  {
   "cell_type": "code",
   "execution_count": 1,
   "metadata": {},
   "outputs": [
    {
     "data": {
      "text/plain": [
       "18"
      ]
     },
     "execution_count": 1,
     "metadata": {},
     "output_type": "execute_result"
    }
   ],
   "source": [
    "spiderman = {\n",
    "    \"name\": \"Peter Parker\",\n",
    "    \"age\": 18,\n",
    "    \"team_name\": \"Avengers\",\n",
    "    \"team\": [\"Iron Man\", \"Thor\", \"Hulk\", \"Captain America\"],\n",
    "}\n",
    "\n",
    "spiderman.get(\"age\") #when you dont have key and try to access you get error"
   ]
  },
  {
   "cell_type": "code",
   "execution_count": 28,
   "metadata": {},
   "outputs": [
    {
     "name": "stdout",
     "output_type": "stream",
     "text": [
      "Steve Rogers 🦸‍♂️ lives in Brooklyn\n",
      "Peter Parker location is Top Secret 🔒\n",
      "Bruce Banner location is Top Secret 🔒\n"
     ]
    }
   ],
   "source": [
    "# print(captain_america[\"address\"][\"city\"])\n",
    "# print(spiderman.get(\"address\", {}).get(\"city\"))\n",
    "# print(captain_america.get(\"address\").get(\"city\"))\n",
    "\n",
    "\n",
    "captain_america = {\n",
    "    \"name\" : \"Steve Rogers\",\n",
    "    \"age\" : 100,\n",
    "    \"height\" : 185,\n",
    "    \"team\" : [\"Iron Man\", \"Thor\", \"Hulk\", \"Captain America\"],\n",
    "    \"address\": {\n",
    "        \"city\" : \"Brooklyn\",\n",
    "        \"country\": \"america\"\n",
    "        }\n",
    "}\n",
    "\n",
    "spiderman = {\n",
    "    \"name\": \"Peter Parker\",\n",
    "    \"age\": 18,\n",
    "    \"team_name\": \"Avengers\",\n",
    "    \"team\": [\"Iron Man\", \"Thor\", \"Hulk\", \"Captain America\"],\n",
    "}\n",
    "\n",
    "hulk = {\n",
    "    \"name\" : \"Bruce Banner\",\n",
    "    \"age\" : 35\n",
    "}\n",
    "heroes = [captain_america, spiderman, hulk]\n",
    "\n",
    "# Output\n",
    "# Steve Rogers 🦸‍♂️ lives in Brooklyn\n",
    "# Peter Parker location is Top Secret 🔒\n",
    "# Bruce Banner location is Top Secret 🔒\n",
    "\n",
    "for hero in heroes:\n",
    "    location = hero.get(\"address\", {}).get(\"city\")\n",
    "\n",
    "    #if key present, we get location\n",
    "    if location != None:\n",
    "        print(f\"{hero.get('name')} 🦸‍♂️ lives in {location}\")\n",
    "\n",
    "    else:\n",
    "        print(f\"{hero.get('name')} location is Top Secret 🔒\")"
   ]
  }
 ],
 "metadata": {
  "kernelspec": {
   "display_name": ".venv",
   "language": "python",
   "name": "python3"
  },
  "language_info": {
   "codemirror_mode": {
    "name": "ipython",
    "version": 3
   },
   "file_extension": ".py",
   "mimetype": "text/x-python",
   "name": "python",
   "nbconvert_exporter": "python",
   "pygments_lexer": "ipython3",
   "version": "3.13.2"
  }
 },
 "nbformat": 4,
 "nbformat_minor": 2
}
