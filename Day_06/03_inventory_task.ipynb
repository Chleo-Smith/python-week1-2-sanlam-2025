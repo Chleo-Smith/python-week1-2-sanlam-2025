{
 "cells": [
  {
   "cell_type": "code",
   "execution_count": 16,
   "metadata": {},
   "outputs": [
    {
     "ename": "ValueError",
     "evalue": "invalid literal for int() with base 10: 'n'",
     "output_type": "error",
     "traceback": [
      "\u001b[1;31m---------------------------------------------------------------------------\u001b[0m",
      "\u001b[1;31mValueError\u001b[0m                                Traceback (most recent call last)",
      "Cell \u001b[1;32mIn[16], line 15\u001b[0m\n\u001b[0;32m     12\u001b[0m \u001b[38;5;28;01mwhile\u001b[39;00m proceed \u001b[38;5;241m==\u001b[39m \u001b[38;5;124m'\u001b[39m\u001b[38;5;124my\u001b[39m\u001b[38;5;124m'\u001b[39m:\n\u001b[0;32m     14\u001b[0m     item_name \u001b[38;5;241m=\u001b[39m \u001b[38;5;28minput\u001b[39m(\u001b[38;5;124m\"\u001b[39m\u001b[38;5;124mWhat is the product name? \u001b[39m\u001b[38;5;124m\"\u001b[39m) \n\u001b[1;32m---> 15\u001b[0m     item_qty \u001b[38;5;241m=\u001b[39m \u001b[38;5;28;43mint\u001b[39;49m\u001b[43m(\u001b[49m\u001b[38;5;28;43minput\u001b[39;49m\u001b[43m(\u001b[49m\u001b[38;5;124;43m\"\u001b[39;49m\u001b[38;5;124;43mWhat is the quantity? \u001b[39;49m\u001b[38;5;124;43m\"\u001b[39;49m\u001b[43m)\u001b[49m\u001b[43m)\u001b[49m\n\u001b[0;32m     16\u001b[0m     item_price \u001b[38;5;241m=\u001b[39m \u001b[38;5;28mfloat\u001b[39m(\u001b[38;5;28minput\u001b[39m(\u001b[38;5;124m\"\u001b[39m\u001b[38;5;124mWhat is the price? \u001b[39m\u001b[38;5;124m\"\u001b[39m))\n\u001b[0;32m     18\u001b[0m     product \u001b[38;5;241m=\u001b[39m {\u001b[38;5;124m\"\u001b[39m\u001b[38;5;124mname\u001b[39m\u001b[38;5;124m\"\u001b[39m: item_name,\u001b[38;5;124m\"\u001b[39m\u001b[38;5;124mquantity\u001b[39m\u001b[38;5;124m\"\u001b[39m: item_qty,\u001b[38;5;124m\"\u001b[39m\u001b[38;5;124mprice\u001b[39m\u001b[38;5;124m\"\u001b[39m: item_price}\n",
      "\u001b[1;31mValueError\u001b[0m: invalid literal for int() with base 10: 'n'"
     ]
    }
   ],
   "source": [
    "# item_name = input(\"What is the product name? \")\n",
    "\n",
    "# if (item_name != \"\"):\n",
    "\n",
    "inventory = [\n",
    "    {\"name\": \"Apple 🍎\", \"quantity\": 30, \"price\": 0.50},\n",
    "    {\"name\": \"Banana 🍌\", \"quantity\": 20, \"price\": 0.20}\n",
    "]\n",
    "\n",
    "proceed = 'y'\n",
    "\n",
    "while proceed == 'y':\n",
    "\n",
    "    item_name = input(\"What is the product name? \")\n",
    "    item_qty = int(input(\"What is the quantity? \"))\n",
    "    item_price = float(input(\"What is the price? \"))\n",
    "\n",
    "    product = {\"name\": item_name,\"quantity\": item_qty,\"price\": item_price}\n",
    "\n",
    "    inventory.append(product)\n",
    "\n",
    "    proceed = input(\"Would you like to add to the inventory? y/n\").lower()\n"
   ]
  },
  {
   "cell_type": "markdown",
   "metadata": {},
   "source": [
    "---\n",
    "\n",
    "## Task 2: Update an Existing Product\n",
    "\n",
    "**Instructions:**\n",
    "- Prompt for the product name, additional quantity, and new price.\n",
    "- Loop through the inventory; if the product exists, update its quantity and price.\n",
    "\n",
    "**Example Scenario:**\n",
    "\n",
    "- **Initial Inventory:**\n",
    "  ```python\n",
    "  [{'name': 'Apple 🍎', 'quantity': 30, 'price': 0.5}, {'name': 'Banana 🍌', 'quantity': 20, 'price': 0.2}]\n",
    "  ```\n",
    "- **User Input:**\n",
    "  ```\n",
    "  Enter product name to update: Apple 🍎\n",
    "  Enter additional quantity: 40\n",
    "  Enter new price: 0.4\n",
    "  ```\n",
    "- **Expected Output:**\n",
    "  ```\n",
    "  Updated Apple 🍎 successfully! 🎉\n",
    "  Updated Inventory: [{'name': 'Apple 🍎', 'quantity': 70, 'price': 0.4}, {'name': 'Banana 🍌', 'quantity': 20, 'price': 0.2}]\n",
    "  ```\n",
    "\n",
    "---"
   ]
  },
  {
   "cell_type": "code",
   "execution_count": 8,
   "metadata": {},
   "outputs": [
    {
     "name": "stdout",
     "output_type": "stream",
     "text": [
      "Updated Apple 🍎 successfully! 🎉\n",
      "Updated Inventory: [{'name': 'Apple 🍎', 'quantity': 70, 'price': 0.4}, {'name': 'Banana 🍌', 'quantity': 20, 'price': 0.2}]\n"
     ]
    }
   ],
   "source": [
    "inventory = [\n",
    "    {\"name\": \"Apple 🍎\", \"quantity\": 30, \"price\": 0.50},\n",
    "    {\"name\": \"Banana 🍌\", \"quantity\": 20, \"price\": 0.20},\n",
    "]\n",
    "\n",
    "proceed = \"y\"\n",
    "\n",
    "while proceed == \"y\":\n",
    "    item_name = input(\"What is the product name? \")\n",
    "    item_qty = int(input(\"What is the quantity? \"))\n",
    "    item_price = float(input(\"What is the price? \"))\n",
    "\n",
    "    for entry in inventory:\n",
    "        if item_name == entry[\"name\"]:\n",
    "            entry[\"quantity\"] = entry[\"quantity\"] + item_qty\n",
    "            entry[\"price\"] = item_price\n",
    "            print(\"Updated Apple 🍎 successfully! 🎉\")\n",
    "            print(f\"Updated Inventory: {inventory}\")\n",
    "            break\n",
    "\n",
    "\n",
    "    proceed = input(\"Would you like to add to the inventory? y/n\").lower()\n"
   ]
  }
 ],
 "metadata": {
  "kernelspec": {
   "display_name": ".venv",
   "language": "python",
   "name": "python3"
  },
  "language_info": {
   "codemirror_mode": {
    "name": "ipython",
    "version": 3
   },
   "file_extension": ".py",
   "mimetype": "text/x-python",
   "name": "python",
   "nbconvert_exporter": "python",
   "pygments_lexer": "ipython3",
   "version": "3.13.2"
  }
 },
 "nbformat": 4,
 "nbformat_minor": 2
}
