{
 "cells": [
  {
   "cell_type": "code",
   "execution_count": null,
   "metadata": {},
   "outputs": [],
   "source": [
    "inventory = [\n",
    "    {\"name\": \"Apple 🍎\", \"quantity\": 30, \"price\": 0.50},\n",
    "    {\"name\": \"Banana 🍌\", \"quantity\": 20, \"price\": 0.20}\n",
    "]\n",
    "\n",
    "adding = True\n",
    "\n",
    "while adding:\n",
    "    add_more = input(\"Would you like to add to the inventory? y/n\")\n",
    "\n",
    "    if (add_more.lower() == \"y\"):\n",
    "        item_name = input(\"What is the product name? \")\n",
    "        item_qty = int(input(\"What is the quantity? \"))\n",
    "        item_price = float(input(\"What is the price? \"))\n",
    "\n",
    "        product = {\n",
    "            \"name\": item_name,\n",
    "            \"quantity\": item_qty,\n",
    "            \"price\": item_price\n",
    "        }\n",
    "\n",
    "        inventory.append(product)\n",
    "    else:\n",
    "        adding = False\n"
   ]
  }
 ],
 "metadata": {
  "kernelspec": {
   "display_name": ".venv",
   "language": "python",
   "name": "python3"
  },
  "language_info": {
   "codemirror_mode": {
    "name": "ipython",
    "version": 3
   },
   "file_extension": ".py",
   "mimetype": "text/x-python",
   "name": "python",
   "nbconvert_exporter": "python",
   "pygments_lexer": "ipython3",
   "version": "3.13.2"
  }
 },
 "nbformat": 4,
 "nbformat_minor": 2
}
