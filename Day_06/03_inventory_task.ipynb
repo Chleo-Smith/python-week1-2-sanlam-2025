{
 "cells": [
  {
   "cell_type": "code",
   "execution_count": 11,
   "metadata": {},
   "outputs": [
    {
     "name": "stdout",
     "output_type": "stream",
     "text": [
      "[{'name': 'Apple 🍎', 'quantity': 30, 'price': 0.5}, {'name': 'Banana 🍌', 'quantity': 20, 'price': 0.2}, {'name': 'a', 'quantity': 12, 'price': 0.1}]\n"
     ]
    }
   ],
   "source": [
    "# item_name = input(\"What is the product name? \")\n",
    "\n",
    "# if (item_name != \"\"):\n",
    "\n",
    "inventory = [\n",
    "    {\"name\": \"Apple 🍎\", \"quantity\": 30, \"price\": 0.50},\n",
    "    {\"name\": \"Banana 🍌\", \"quantity\": 20, \"price\": 0.20}\n",
    "]\n",
    "\n",
    "proceed = 'y'\n",
    "\n",
    "while proceed == 'y':\n",
    "\n",
    "    item_name = input(\"What is the product name? \")\n",
    "    item_qty = int(input(\"What is the quantity? \"))\n",
    "    item_price = float(input(\"What is the price? \"))\n",
    "\n",
    "    product = {\"name\": item_name,\"quantity\": item_qty,\"price\": item_price}\n",
    "\n",
    "    inventory.append(product)\n",
    "    print(inventory)\n",
    "    proceed = input(\"Would you like to add to the inventory? y/n\").lower()\n"
   ]
  },
  {
   "cell_type": "markdown",
   "metadata": {},
   "source": [
    "---\n",
    "\n",
    "## Task 2: Update an Existing Product\n",
    "\n",
    "**Instructions:**\n",
    "- Prompt for the product name, additional quantity, and new price.\n",
    "- Loop through the inventory; if the product exists, update its quantity and price.\n",
    "\n",
    "**Example Scenario:**\n",
    "\n",
    "- **Initial Inventory:**\n",
    "  ```python\n",
    "  [{'name': 'Apple 🍎', 'quantity': 30, 'price': 0.5}, {'name': 'Banana 🍌', 'quantity': 20, 'price': 0.2}]\n",
    "  ```\n",
    "- **User Input:**\n",
    "  ```\n",
    "  Enter product name to update: Apple 🍎\n",
    "  Enter additional quantity: 40\n",
    "  Enter new price: 0.4\n",
    "  ```\n",
    "- **Expected Output:**\n",
    "  ```\n",
    "  Updated Apple 🍎 successfully! 🎉\n",
    "  Updated Inventory: [{'name': 'Apple 🍎', 'quantity': 70, 'price': 0.4}, {'name': 'Banana 🍌', 'quantity': 20, 'price': 0.2}]\n",
    "  ```\n",
    "\n",
    "---"
   ]
  },
  {
   "cell_type": "code",
   "execution_count": null,
   "metadata": {},
   "outputs": [
    {
     "name": "stdout",
     "output_type": "stream",
     "text": [
      "Updated Apple 🍎 successfully! 🎉\n",
      "Updated Inventory: [{'name': 'Apple 🍎', 'quantity': 70, 'price': 0.4}, {'name': 'Banana 🍌', 'quantity': 20, 'price': 0.2}]\n"
     ]
    }
   ],
   "source": [
    "#Task 2\n",
    "\n",
    "inventory = [\n",
    "    {\"name\": \"Apple 🍎\", \"quantity\": 30, \"price\": 0.50},\n",
    "    {\"name\": \"Banana 🍌\", \"quantity\": 20, \"price\": 0.20},\n",
    "]\n",
    "\n",
    "proceed = \"y\"\n",
    "\n",
    "while proceed == \"y\":\n",
    "    item_name = input(\"What is the product name? \")\n",
    "    item_qty = int(input(\"What is the quantity? \"))\n",
    "    item_price = float(input(\"What is the price? \"))\n",
    "\n",
    "    for entry in inventory:\n",
    "        if item_name == entry[\"name\"]:\n",
    "            entry[\"quantity\"] = entry[\"quantity\"] + item_qty\n",
    "            entry[\"price\"] = item_price\n",
    "            print(\"Updated Apple 🍎 successfully! 🎉\")\n",
    "            print(f\"Updated Inventory: {inventory}\")\n",
    "            break\n",
    "\n",
    "\n",
    "    proceed = input(\"Would you like to add to the inventory? y/n\").lower()\n"
   ]
  },
  {
   "cell_type": "markdown",
   "metadata": {},
   "source": [
    "## Task 3: Add or Update Using a `for-else` Construct\n",
    "\n",
    "**Instructions:**\n",
    "- Ask the user for product details.\n",
    "- Use a `for-else` loop: if the product exists, update it; if not, add it to the inventory.\n",
    "\n",
    "**Example Scenario:**\n",
    "\n",
    "- **Initial Inventory:**\n",
    "  ```python\n",
    "  [{'name': 'Apple 🍎', 'quantity': 70, 'price': 0.4}, {'name': 'Banana 🍌', 'quantity': 20, 'price': 0.2}]\n",
    "  ```\n",
    "- **User Input:**\n",
    "  ```\n",
    "  Enter product name: Grape 🍇\n",
    "  Enter quantity: 15\n",
    "  Enter price: 1.2\n",
    "  ```\n",
    "- **Expected Output:**\n",
    "  ```\n",
    "  Added new product Grape 🍇! 🎉\n",
    "  Updated Inventory: [{'name': 'Apple 🍎', 'quantity': 70, 'price': 0.4}, {'name': 'Banana 🍌', 'quantity': 20, 'price': 0.2}, {'name': 'Grape 🍇', 'quantity': 15, 'price': 1.2}]\n",
    "  ``"
   ]
  },
  {
   "cell_type": "code",
   "execution_count": 13,
   "metadata": {},
   "outputs": [
    {
     "name": "stdout",
     "output_type": "stream",
     "text": [
      "Added new item peach successfully! 🎉\n",
      "Updated Inventory: [{'name': 'Apple 🍎', 'quantity': 30, 'price': 0.5}, {'name': 'Banana 🍌', 'quantity': 20, 'price': 0.2}, {'name': 'peach', 'quantity': 10, 'price': 0.5}]\n"
     ]
    }
   ],
   "source": [
    "# Task 3\n",
    "\n",
    "inventory = [\n",
    "    {\"name\": \"Apple 🍎\", \"quantity\": 30, \"price\": 0.50},\n",
    "    {\"name\": \"Banana 🍌\", \"quantity\": 20, \"price\": 0.20},\n",
    "]\n",
    "\n",
    "proceed = \"y\"\n",
    "\n",
    "while proceed == \"y\":\n",
    "    item_name = input(\"What is the product name? \")\n",
    "    item_qty = int(input(\"What is the quantity? \"))\n",
    "    item_price = float(input(\"What is the price? \"))\n",
    "\n",
    "    for entry in inventory:\n",
    "        if item_name == entry[\"name\"]:\n",
    "            entry[\"quantity\"] = entry[\"quantity\"] + item_qty\n",
    "            entry[\"price\"] = item_price\n",
    "            print(f\"Updated {item_name} successfully! 🎉\")\n",
    "            print(f\"Updated Inventory: {inventory}\")\n",
    "            break\n",
    "    else:\n",
    "        product = {\"name\": item_name, \"quantity\": item_qty, \"price\": item_price}\n",
    "        inventory.append(product)\n",
    "\n",
    "        print(f\"Added new item {item_name} successfully! 🎉\")\n",
    "        print(f\"Updated Inventory: {inventory}\")\n",
    "\n",
    "\n",
    "    proceed = input(\"Would you like to add to the inventory? y/n\").lower()\n"
   ]
  }
 ],
 "metadata": {
  "kernelspec": {
   "display_name": ".venv",
   "language": "python",
   "name": "python3"
  },
  "language_info": {
   "codemirror_mode": {
    "name": "ipython",
    "version": 3
   },
   "file_extension": ".py",
   "mimetype": "text/x-python",
   "name": "python",
   "nbconvert_exporter": "python",
   "pygments_lexer": "ipython3",
   "version": "3.13.2"
  }
 },
 "nbformat": 4,
 "nbformat_minor": 2
}
