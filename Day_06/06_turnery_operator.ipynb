{
 "cells": [
  {
   "cell_type": "markdown",
   "metadata": {},
   "source": [
    "# Falsy\n",
    "- `if (..) :` converts value to boolean `bool(value)`\n",
    "- Developers decided to make these things evaluate `False`.\n",
    "- so, if `bool(...)` evaluates to `False`, it's `False`\n",
    "\n",
    "1. `False`\n",
    "2. `None`\n",
    "3. `0`\n",
    "4. `[]`\n",
    "5. `\"\"`\n",
    "6. `{}`\n",
    "7. `()`\n",
    "8. `set()`\n",
    "\n",
    "# Truthy\n",
    "\n",
    "- If it's not on the above list, then it's true\n",
    "- If a value converts to truth then its truthy\n"
   ]
  },
  {
   "cell_type": "code",
   "execution_count": null,
   "metadata": {},
   "outputs": [
    {
     "data": {
      "text/plain": [
       "'super'"
      ]
     },
     "execution_count": 5,
     "metadata": {},
     "output_type": "execute_result"
    }
   ],
   "source": [
    "x = []\n",
    "if x:\n",
    "    print(\"cool\")\n",
    "else:\n",
    "    print(\"super\")\n",
    "\n",
    "\n",
    "\"cool\" if x else \"super\""
   ]
  },
  {
   "cell_type": "markdown",
   "metadata": {},
   "source": [
    "# Ternary Operator\n",
    "\n",
    "`(if_true_output) if (condition) else (if_false_output)`"
   ]
  },
  {
   "cell_type": "code",
   "execution_count": 3,
   "metadata": {},
   "outputs": [],
   "source": [
    "age = 10\n",
    "\n",
    "#if age >= 18:\n",
    "#    print(\"test\")\n",
    "#else:\n",
    "#    print(\"come back later\")\n",
    "\n",
    "res = \"test\" if age >= 18 else \"come back later\""
   ]
  },
  {
   "cell_type": "code",
   "execution_count": null,
   "metadata": {},
   "outputs": [],
   "source": []
  }
 ],
 "metadata": {
  "kernelspec": {
   "display_name": ".venv",
   "language": "python",
   "name": "python3"
  },
  "language_info": {
   "codemirror_mode": {
    "name": "ipython",
    "version": 3
   },
   "file_extension": ".py",
   "mimetype": "text/x-python",
   "name": "python",
   "nbconvert_exporter": "python",
   "pygments_lexer": "ipython3",
   "version": "3.13.2"
  }
 },
 "nbformat": 4,
 "nbformat_minor": 2
}
