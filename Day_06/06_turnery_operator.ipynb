{
 "cells": [
  {
   "cell_type": "markdown",
   "metadata": {},
   "source": [
    "# Falsy\n",
    "- `if (..) :` converts value to boolean `bool(value)`\n",
    "- Developers decided to make these things evaluate `False`.\n",
    "- so, if `bool(...)` evaluates to `False`, it's `False`\n",
    "\n",
    "1. `False`\n",
    "2. `None`\n",
    "3. `0`\n",
    "4. `[]`\n",
    "5. `\"\"`\n",
    "6. `{}`\n",
    "7. `()`\n",
    "8. `set()`\n",
    "\n",
    "# Truthy\n",
    "\n",
    "- If it's not on the above list, then it's true\n",
    "- If a value converts to truth then its truthy\n"
   ]
  },
  {
   "cell_type": "code",
   "execution_count": null,
   "metadata": {},
   "outputs": [
    {
     "data": {
      "text/plain": [
       "'super'"
      ]
     },
     "execution_count": 5,
     "metadata": {},
     "output_type": "execute_result"
    }
   ],
   "source": [
    "x = []\n",
    "if x:\n",
    "    print(\"cool\")\n",
    "else:\n",
    "    print(\"super\")\n",
    "\n",
    "\n",
    "\"cool\" if x else \"super\""
   ]
  },
  {
   "cell_type": "markdown",
   "metadata": {},
   "source": [
    "# Ternary Operator\n",
    "\n",
    "`(if_true_output) if (condition) else (if_false_output)`"
   ]
  },
  {
   "cell_type": "code",
   "execution_count": 3,
   "metadata": {},
   "outputs": [],
   "source": [
    "age = 10\n",
    "\n",
    "#if age >= 18:\n",
    "#    print(\"test\")\n",
    "#else:\n",
    "#    print(\"come back later\")\n",
    "\n",
    "res = \"test\" if age >= 18 else \"come back later\""
   ]
  },
  {
   "cell_type": "code",
   "execution_count": null,
   "metadata": {},
   "outputs": [],
   "source": []
  },
  {
   "cell_type": "markdown",
   "metadata": {},
   "source": [
    "employees = [\n",
    "    {\"name\": \"Chelo\", \"experience\": 3},\n",
    "    {\n",
    "        \"name\": \"Diyali\",\n",
    "    },\n",
    "    {\n",
    "        \"name\": \"Luvuyo\",\n",
    "    },\n",
    "    {\"name\": \"Jevan\", \"experience\": 1},\n",
    "]"
   ]
  },
  {
   "cell_type": "code",
   "execution_count": 8,
   "metadata": {},
   "outputs": [
    {
     "name": "stdout",
     "output_type": "stream",
     "text": [
      "[{'name': 'Chleo', 'experience': 3}, {'name': 'Diyali', 'experience': 1}, {'name': 'Luvuyo', 'experience': 1}, {'name': 'Jevan', 'experience': 2}]\n"
     ]
    }
   ],
   "source": [
    "employees = [\n",
    "    {\"name\" :\"Chleo\", \"experience\" : 2},\n",
    "     {\"name\": \"Diyali\"},\n",
    "     {\"name\": \"Luvuyo\"},\n",
    "     {\"name\": \"Jevan\", \"experience\": 1}\n",
    "]\n",
    "\n",
    "for employee in employees:\n",
    "    employee[\"experience\"] = employee.get(\"experience\", 0) + 1\n",
    "\n",
    "print(employees)\n"
   ]
  },
  {
   "cell_type": "markdown",
   "metadata": {},
   "source": [
    "# Task 2.2\n",
    "# Senior 5 or more, Mid-Level 3 to 5, Junior < 3\n",
    "employees = [\n",
    "    {\"name\": \"Chelo\", \"experience\": 4},\n",
    "    {\n",
    "        \"name\": \"Diyali\",\n",
    "    },\n",
    "    {\n",
    "        \"name\": \"Luvuyo\",\n",
    "    },\n",
    "    {\"name\": \"Jevan\", \"experience\": 2},\n",
    "]\n",
    " \n",
    " \n",
    "# Output\n",
    "employees = [\n",
    "    {\"name\": \"Chelo\", \"experience\": 5, \"status\": \"Senior\" },\n",
    "    {\n",
    "        \"name\": \"Diyali\", \"status\": \"Junior\",   \"experience\": 1\n",
    "    },\n",
    "    {\n",
    "        \"name\": \"Luvuyo\", \"status\": \"Junior\",   \"experience\": 1\n",
    "    },\n",
    "    {\"name\": \"Jevan\", \"status\": \"Mid-Level\", \"experience\": 3},\n",
    "]"
   ]
  },
  {
   "cell_type": "code",
   "execution_count": null,
   "metadata": {},
   "outputs": [
    {
     "name": "stdout",
     "output_type": "stream",
     "text": [
      "[{'name': 'Chelo', 'experience': 5, 'Status': 'Senior'}, {'name': 'Diyali', 'experience': 1, 'Status': 'Junior'}, {'name': 'Luvuyo', 'experience': 1, 'Status': 'Junior'}, {'name': 'Jevan', 'experience': 3, 'Status': 'Mid-Level'}]\n"
     ]
    }
   ],
   "source": [
    "employees = [\n",
    "    {\"name\": \"Chelo\", \"experience\": 4},\n",
    "    {\n",
    "        \"name\": \"Diyali\",\n",
    "    },\n",
    "    {\n",
    "        \"name\": \"Luvuyo\",\n",
    "    },\n",
    "    {\"name\": \"Jevan\", \"experience\": 2},\n",
    "]\n",
    "\n",
    "for employee in employees:\n",
    "    employee[\"experience\"] = employee.get(\"experience\", 0) + 1\n",
    "\n",
    "    experience = employee[\"experience\"]\n",
    "\n",
    "    if (experience >= 5):\n",
    "        employee[\"Status\"] = \"Senior\"\n",
    "\n",
    "    elif (3 <= experience < 5):\n",
    "        employee[\"Status\"] = \"Mid-Level\"\n",
    "\n",
    "    else:\n",
    "        employee[\"Status\"] = \"Junior\"\n",
    "\n",
    "print(employees)\n"
   ]
  }
 ],
 "metadata": {
  "kernelspec": {
   "display_name": ".venv",
   "language": "python",
   "name": "python3"
  },
  "language_info": {
   "codemirror_mode": {
    "name": "ipython",
    "version": 3
   },
   "file_extension": ".py",
   "mimetype": "text/x-python",
   "name": "python",
   "nbconvert_exporter": "python",
   "pygments_lexer": "ipython3",
   "version": "3.13.2"
  }
 },
 "nbformat": 4,
 "nbformat_minor": 2
}
