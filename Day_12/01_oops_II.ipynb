{
 "cells": [
  {
   "cell_type": "code",
   "execution_count": null,
   "metadata": {},
   "outputs": [
    {
     "name": "stdout",
     "output_type": "stream",
     "text": [
      "tobySome sound\n",
      "Woof Woof\n",
      "dog is 30 fast\n",
      "The height us: 120\n",
      "<__main__.Dog object at 0x000001D78FFDA120>\n"
     ]
    }
   ],
   "source": [
    "class Animal:\n",
    "    def __init__(self, name, height):\n",
    "        #private variable __\n",
    "        #private variable only accessible inside the class in which it is defined\n",
    "        #private variables not inherited\n",
    "        #private variables only accessible in oarent\n",
    "        self.__name = name\n",
    "\n",
    "        #protected variable. cannot access outside but inherit classes have access\n",
    "        #protected can be accessed from child and parent\n",
    "        self._height = height\n",
    "\n",
    "    def speak(self):\n",
    "        return f\"{self.__name}Some sound\"\n",
    "    def check_height(self):\n",
    "        return f\"The height us: {self._height}\"\n",
    "\n",
    "class Dog(Animal):\n",
    "    def __init__(self, name, speed, height):\n",
    "        super().__init__(name, height)\n",
    "        self.speed = speed\n",
    "\n",
    "    def run(self):\n",
    "        return \"wag tail🐶\"\n",
    "\n",
    "    def tall(self):\n",
    "        return f\"She is: {self._height} tall\"\n",
    "    def speak(self):\n",
    "        return f\"Woof Woof\"\n",
    "\n",
    "    def speed_bonus(self):\n",
    "        return f\"dog is {self.speed * 2} fast\"\n",
    "\n",
    "\n",
    "toby = Animal(\"toby\", 120)\n",
    "maxy = Dog(\"maxy\", 15, 130)\n",
    "\n",
    "print(toby.speak())\n",
    "print(maxy.speak())\n",
    "print(maxy.speed_bonus())\n",
    "\n",
    "# print(toby.run()) ----> doesnt work\n",
    "#toby.__name = \"222\"\n",
    "#print(toby.__name)\n",
    "print(toby.check_height())\n",
    "print(maxy__str__)\n"
   ]
  },
  {
   "cell_type": "code",
   "execution_count": 7,
   "metadata": {},
   "outputs": [],
   "source": [
    "class Bank:\n",
    "    interest_rate = 0.02\n",
    "    no_of_accounts = 0\n",
    "\n",
    "    # method called when creating object\n",
    "    def __init__(self, acc_no, name, balance):\n",
    "        # instance variables\n",
    "        self.acc_no = acc_no\n",
    "        self.name = name\n",
    "        self.balance = balance\n",
    "        Bank.no_of_accounts += 1\n",
    "\n",
    "    # Task 1.3\n",
    "    def display_balance(self):\n",
    "        # no decimal points added when yoiu use round. only does it if decimal points present\n",
    "        return f\"You balance is: R{self.balance:,.2f}\"\n",
    "\n",
    "    # Abstraction : complexity hidden\n",
    "    # Task 1.4\n",
    "    def withdraw(self, amount):\n",
    "        if amount <= 0:\n",
    "            return \"Invalid amount\"\n",
    "\n",
    "        if amount > self.balance:\n",
    "            return f\"Insufficient funds. {self.display_balance()}\"\n",
    "\n",
    "        self.balance -= amount\n",
    "        return f\"Success. {self.display_balance()}\"\n",
    "\n",
    "    def deposit(self, amount):\n",
    "        self.balance += amount\n",
    "        return f\"Successfully deposited. {self.display_balance()}\"\n",
    "\n",
    "    # modify instance variable --> instance method\n",
    "    def apply_interest(self):\n",
    "        self.balance += self.balance * self.interest_rate\n",
    "        return\n",
    "\n",
    "    # modify class variable --> class method\n",
    "    @classmethod\n",
    "    def update_interest_rate(cls, rate):\n",
    "        if 0 < rate <= 100:\n",
    "            cls.interest_rate = rate / 100\n",
    "            return f\"Successfully Updated interest rate to {rate}%\"\n",
    "        else:\n",
    "            return f\"Failed.Interest rate of {rate}% is invalid\"\n",
    "\n",
    "    @classmethod\n",
    "    def get_total_no_acconut(cls):\n",
    "        return Bank.no_of_accounts\n"
   ]
  },
  {
   "cell_type": "code",
   "execution_count": null,
   "metadata": {},
   "outputs": [
    {
     "name": "stdout",
     "output_type": "stream",
     "text": [
      "This account belongs to Anita and has balance of R50,000.00\n",
      "CheckingAccount: (123, 'Anita', R50,000.00)\n",
      "110000\n"
     ]
    }
   ],
   "source": [
    "class SavingsAccount(Bank):\n",
    "    interest_rate = 0.05\n",
    "\n",
    "#Magic Methoods: __str__, __repr__\n",
    "class CheckingAcconut(Bank):\n",
    "    transaction_fee = 1\n",
    "\n",
    "    def withdraw(self, amount):\n",
    "        \"\"\"_calculate balance with adding transactionfee_\n",
    "\n",
    "        Args:\n",
    "            amount (_int_): _amount to add_\n",
    "\n",
    "        Returns:\n",
    "            _string_: _transaction failue/success_\n",
    "        \"\"\"\n",
    "        return super().withdraw(amount + self.transaction_fee)\n",
    "\n",
    "    #overwritten dunder method\n",
    "    def __str__(self):\n",
    "        \"\"\"_makes it human readable_\n",
    "\n",
    "        Returns:\n",
    "            _string_: _object information_\n",
    "        \"\"\"\n",
    "        return f\"This account belongs to {self.name} and has balance of R{self.balance:,.2f}\"\n",
    "\n",
    "    def __repr__(self):\n",
    "        \"\"\"_improves DX_\n",
    "\n",
    "        Returns:\n",
    "            _string_: _values_\n",
    "        \"\"\"\n",
    "        return f\"CheckingAccount: ({self.acc_no}, '{self.name}', R{self.balance:,.2f})\"\n",
    "\n",
    "    def __add__(self, other):\n",
    "        \"\"\"_add 2 bank accounts_\n",
    "\n",
    "        Args:\n",
    "            other (_type_): _sum of bank balances_\n",
    "        \"\"\"\n",
    "        return self.balance + other.balance\n",
    "\n",
    "anita = CheckingAcconut(123, \"Anita\", 50_000)\n",
    "diyali = CheckingAcconut(124, \"Diyali Devraj\", 60_000)\n",
    "print(anita.__str__())\n",
    "print(repr(anita)) #helps debugging and improves DX no need to write 3 print statements. gets all values in anita\n",
    "\n",
    "#error pythin doesnt know how to add checking acount objects. TypeError\n",
    "print(anita + diyali)"
   ]
  },
  {
   "cell_type": "code",
   "execution_count": null,
   "metadata": {},
   "outputs": [
    {
     "name": "stdout",
     "output_type": "stream",
     "text": [
      "<class 'list'>\n",
      "None\n"
     ]
    },
    {
     "data": {
      "text/plain": [
       "['a', 'b', 'c', 'd']"
      ]
     },
     "execution_count": 17,
     "metadata": {},
     "output_type": "execute_result"
    }
   ],
   "source": [
    "#all things classes so far. methods in list\n",
    "x = [\"a\", \"b\", \"c\"]\n",
    "\n",
    "print(type(x))\n",
    "print(x.append(\"d\"))\n",
    "\n",
    "x"
   ]
  },
  {
   "cell_type": "code",
   "execution_count": null,
   "metadata": {},
   "outputs": [
    {
     "data": {
      "text/plain": [
       "['__add__',\n",
       " '__class__',\n",
       " '__class_getitem__',\n",
       " '__contains__',\n",
       " '__delattr__',\n",
       " '__delitem__',\n",
       " '__dir__',\n",
       " '__doc__',\n",
       " '__eq__',\n",
       " '__format__',\n",
       " '__ge__',\n",
       " '__getattribute__',\n",
       " '__getitem__',\n",
       " '__getstate__',\n",
       " '__gt__',\n",
       " '__hash__',\n",
       " '__iadd__',\n",
       " '__imul__',\n",
       " '__init__',\n",
       " '__init_subclass__',\n",
       " '__iter__',\n",
       " '__le__',\n",
       " '__len__',\n",
       " '__lt__',\n",
       " '__mul__',\n",
       " '__ne__',\n",
       " '__new__',\n",
       " '__reduce__',\n",
       " '__reduce_ex__',\n",
       " '__repr__',\n",
       " '__reversed__',\n",
       " '__rmul__',\n",
       " '__setattr__',\n",
       " '__setitem__',\n",
       " '__sizeof__',\n",
       " '__str__',\n",
       " '__subclasshook__',\n",
       " 'append',\n",
       " 'clear',\n",
       " 'copy',\n",
       " 'count',\n",
       " 'extend',\n",
       " 'index',\n",
       " 'insert',\n",
       " 'pop',\n",
       " 'remove',\n",
       " 'reverse',\n",
       " 'sort']"
      ]
     },
     "execution_count": 19,
     "metadata": {},
     "output_type": "execute_result"
    }
   ],
   "source": [
    "#put in list automatically\n",
    "y = list(\"abcd\")\n",
    "\n",
    "y\n",
    "\n",
    "# dont use dunder methods inside list\n",
    "# they might change implementation\n",
    "# reason : implementation might change\n",
    "\n",
    "#dir(y) ----> print all dunder methods"
   ]
  },
  {
   "cell_type": "code",
   "execution_count": null,
   "metadata": {},
   "outputs": [],
   "source": []
  }
 ],
 "metadata": {
  "kernelspec": {
   "display_name": ".venv",
   "language": "python",
   "name": "python3"
  },
  "language_info": {
   "codemirror_mode": {
    "name": "ipython",
    "version": 3
   },
   "file_extension": ".py",
   "mimetype": "text/x-python",
   "name": "python",
   "nbconvert_exporter": "python",
   "pygments_lexer": "ipython3",
   "version": "3.13.2"
  }
 },
 "nbformat": 4,
 "nbformat_minor": 2
}
