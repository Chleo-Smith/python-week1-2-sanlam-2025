{
 "cells": [
  {
   "cell_type": "code",
   "execution_count": 9,
   "metadata": {},
   "outputs": [],
   "source": [
    "class Animal:\n",
    "\n",
    "\n",
    "    def __init__(self, name, colour, weight):\n",
    "        #protected variables are shared with chidl class.\n",
    "        self._name = name\n",
    "        self._colour = colour\n",
    "        #self.__venomous = venomous\n",
    "        self._weight = weight\n",
    "        #private variables are not #self.__name\n",
    "\n",
    "    #instance method take self as first variable. access using self.\n",
    "    #def poison(self):\n",
    "     #   if self.__venomous is True:\n",
    "     #       print(f\"I am venomous\")\n",
    "\n",
    "    def __str__(self):\n",
    "        print(f\"I am a {self._name} and I am {self._colour}\")\n",
    "\n",
    "    def __repr__(self):\n",
    "        print(f\"{self._name}:{self._colour}:{self._weight}kg\")\n",
    "\n",
    "    def __add__(self, other):\n",
    "        return f\"A {self._name} and a {other._name} has a combine wieght of {self._weight + other._weight}\"\n"
   ]
  },
  {
   "cell_type": "code",
   "execution_count": null,
   "metadata": {},
   "outputs": [],
   "source": [
    "cat = Animal(\"cat\", \"orange\", 5)\n",
    "snake = Animal(\"snake\", \"black\", 1)\n",
    "\n",
    "#cat.poison()\n",
    "#snake.poison()\n",
    "\n",
    "cat.__str__()\n",
    "snake.__str__()\n",
    "\n",
    "cat.__repr__()\n",
    "snake.__repr__()\n",
    "\n",
    "print(cat + snake)"
   ]
  },
  {
   "cell_type": "code",
   "execution_count": 10,
   "metadata": {},
   "outputs": [],
   "source": [
    "class Fish(Animal):\n",
    "    def __init__(self, name, colour, weight, water):\n",
    "        super().__init__(name, colour, weight)\n",
    "        self._water = water\n",
    "    def __repr__(self):\n",
    "        print(f\"{self._name}:{self._colour}:{self._weight}kg:{self._water}fish\")\n",
    "\n",
    "    def __str__(self):\n",
    "        print(f\"I am a {self._name}, I am {self._colour} and I am a {self._water} fish\")"
   ]
  },
  {
   "cell_type": "code",
   "execution_count": 11,
   "metadata": {},
   "outputs": [
    {
     "name": "stdout",
     "output_type": "stream",
     "text": [
      "I am a fish, I am blue and I am a fresh water fish\n",
      "fish:blue:1kg:fresh waterfish\n"
     ]
    }
   ],
   "source": [
    "fish = Fish(\"fish\", \"blue\", 1, \"fresh water\")\n",
    "fish.__str__()\n",
    "fish.__repr__()"
   ]
  }
 ],
 "metadata": {
  "kernelspec": {
   "display_name": ".venv",
   "language": "python",
   "name": "python3"
  },
  "language_info": {
   "codemirror_mode": {
    "name": "ipython",
    "version": 3
   },
   "file_extension": ".py",
   "mimetype": "text/x-python",
   "name": "python",
   "nbconvert_exporter": "python",
   "pygments_lexer": "ipython3",
   "version": "3.13.2"
  }
 },
 "nbformat": 4,
 "nbformat_minor": 2
}
