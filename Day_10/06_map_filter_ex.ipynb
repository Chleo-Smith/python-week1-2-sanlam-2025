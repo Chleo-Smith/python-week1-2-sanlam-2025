{
 "cells": [
  {
   "cell_type": "code",
   "execution_count": null,
   "metadata": {},
   "outputs": [
    {
     "name": "stdout",
     "output_type": "stream",
     "text": [
      "[4, 8, 11, 15, 10, 4]\n",
      "['Black widow', 'Captain america']\n"
     ]
    }
   ],
   "source": [
    "avengers = [\n",
    "    \"Hulk\",\n",
    "    \"Iron man\",\n",
    "    \"Black widow\",\n",
    "    \"Captain america\",\n",
    "    \"Spider man\",\n",
    "    \"Thor\",\n",
    "]\n",
    "\n",
    "# Task (map or filter)\n",
    "# Number letter in the name\n",
    "# [4, 8, 11, 15, 10, 4]\n",
    "\n",
    "#boosted_stats = map(lambda x: x * 2, player_stats)\n",
    "#print(boosted_stats, list(boosted_stats))\n",
    "\n",
    "letters = map(lambda x: len(x), avengers)\n",
    "print(list(letters))\n",
    "\n",
    "\n",
    "greater_letters = filter(lambda x: len(x) > 10, avengers)\n",
    "print(list(greater_letters))\n"
   ]
  },
  {
   "cell_type": "code",
   "execution_count": 52,
   "metadata": {},
   "outputs": [
    {
     "name": "stdout",
     "output_type": "stream",
     "text": [
      "['Lillian Ellis', 'Debra Beard', 'Nettie Hancock']\n",
      "Debra Beard\n"
     ]
    }
   ],
   "source": [
    "scores = [\n",
    "    {\n",
    "        \"marks\": 32,\n",
    "        \"name\": \"Yvette Merritt\",\n",
    "    },\n",
    "    {\n",
    "        \"marks\": 57,\n",
    "        \"name\": \"Lillian Ellis\",\n",
    "    },\n",
    "    {\n",
    "        \"marks\": 22,\n",
    "        \"name\": \"Mccall Carter\",\n",
    "    },\n",
    "    {\n",
    "        \"marks\": 21,\n",
    "        \"name\": \"Pate Collier\",\n",
    "    },\n",
    "    {\n",
    "        \"marks\": 91,\n",
    "        \"name\": \"Debra Beard\",\n",
    "    },\n",
    "    {\n",
    "        \"marks\": 75,\n",
    "        \"name\": \"Nettie Hancock\",\n",
    "    },\n",
    "    {\n",
    "        \"marks\": 20,\n",
    "        \"name\": \"Hatfield Hodge\",\n",
    "    },\n",
    "]\n",
    "\n",
    "\n",
    "passed = list(filter(lambda marks: marks[\"marks\"] >= 40, scores) )\n",
    "\n",
    "names = map(lambda student: student[\"name\"], passed)\n",
    "\n",
    "print(list(names))\n",
    "\n",
    "#Task 1.4\n",
    "#Find the topper\n",
    "\n",
    "#Clue: Use sorted() - HOF\n",
    "\n",
    "#Output Debra Beard\n",
    "#high = list(filter(lambda marks: marks[\"marks\"] , scores))\n",
    "#sorted = map(lambda student: student[\"name\"], high)\n",
    "\n",
    "sorted_students = list(sorted(scores, key = lambda student: student[\"marks\"]))\n",
    "print(sorted_students[-1][\"name\"])"
   ]
  }
 ],
 "metadata": {
  "kernelspec": {
   "display_name": ".venv",
   "language": "python",
   "name": "python3"
  },
  "language_info": {
   "codemirror_mode": {
    "name": "ipython",
    "version": 3
   },
   "file_extension": ".py",
   "mimetype": "text/x-python",
   "name": "python",
   "nbconvert_exporter": "python",
   "pygments_lexer": "ipython3",
   "version": "3.13.2"
  }
 },
 "nbformat": 4,
 "nbformat_minor": 2
}
