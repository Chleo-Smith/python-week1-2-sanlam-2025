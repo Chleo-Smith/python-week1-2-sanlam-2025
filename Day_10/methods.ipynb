{
 "cells": [
  {
   "cell_type": "markdown",
   "metadata": {},
   "source": [
    "| **Tuple**  |**diction**| **set**                 | **list**  |\n",
    "| ---------- | --------- | ----------------------- | --------- |\n",
    "| `count()`  | `get()`   | `difference()`          | `append()`|\n",
    "| `index()`  | `items()` | `intersect()`           | `index()` |\n",
    "| `+`        | `keys()`  | `symmetric_difference()`| `pop()`   |\n",
    "| `*`        | `values()`| `union()`               | `remove()`|\n",
    "|            | `pop()`   | `discard()`             | `sort()`  |\n",
    "|            |           | `remove()`              | `slice[])`|\n",
    "|            |           | `add()`                 | `*`       |\n",
    "|            |           | `update()`              | `+`       |\n",
    "|            |           |                         | `insert()`|\n",
    "|            |           |                         | `slice[])`|\n",
    " "
   ]
  }
 ],
 "metadata": {
  "language_info": {
   "name": "python"
  }
 },
 "nbformat": 4,
 "nbformat_minor": 2
}
