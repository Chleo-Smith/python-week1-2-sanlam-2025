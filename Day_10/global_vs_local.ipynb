{
 "cells": [
  {
   "cell_type": "markdown",
   "metadata": {},
   "source": [
    "# local variable \n",
    "- only accesible within function or block where it is defined. \n",
    "- No keyword neccessary. "
   ]
  },
  {
   "cell_type": "code",
   "execution_count": null,
   "metadata": {},
   "outputs": [
    {
     "name": "stdout",
     "output_type": "stream",
     "text": [
      "50\n"
     ]
    }
   ],
   "source": [
    "# local variable price\n",
    "def get_price():\n",
    "    price = 50\n",
    "    print(price)\n",
    "\n",
    "get_price()\n",
    "\n",
    "#cannot access price outside of function scope\n",
    "#           print(price) -----> ERROR"
   ]
  },
  {
   "cell_type": "markdown",
   "metadata": {},
   "source": [
    "# global variables\n",
    "- global variables are accessible throught the entire program and can be defined outside of function or block. \n",
    "- can be instatntiated using global keyword"
   ]
  },
  {
   "cell_type": "code",
   "execution_count": 6,
   "metadata": {},
   "outputs": [
    {
     "name": "stdout",
     "output_type": "stream",
     "text": [
      "50\n",
      "50\n"
     ]
    }
   ],
   "source": [
    "# global variable version 1\n",
    "# price instantiated without global keyword\n",
    "price = 50\n",
    "def get_price():\n",
    "     print(price)\n",
    "\n",
    "\n",
    "get_price()\n",
    "\n",
    "# can access price outside of throughtput the entire program\n",
    "\n",
    "print(price)\n"
   ]
  },
  {
   "cell_type": "code",
   "execution_count": 7,
   "metadata": {},
   "outputs": [
    {
     "name": "stdout",
     "output_type": "stream",
     "text": [
      "50\n",
      "50\n"
     ]
    }
   ],
   "source": [
    "# global variable version 2\n",
    "# price instantiated with global keyword\n",
    "\n",
    "def get_price():\n",
    "    global price\n",
    "    price = 50\n",
    "    print(price)\n",
    "\n",
    "\n",
    "get_price()\n",
    "\n",
    "# print(price) -----> does not cause an error\n",
    "# can access price outside of throughtput the entire program\n",
    "\n",
    "print(price)"
   ]
  }
 ],
 "metadata": {
  "kernelspec": {
   "display_name": ".venv",
   "language": "python",
   "name": "python3"
  },
  "language_info": {
   "codemirror_mode": {
    "name": "ipython",
    "version": 3
   },
   "file_extension": ".py",
   "mimetype": "text/x-python",
   "name": "python",
   "nbconvert_exporter": "python",
   "pygments_lexer": "ipython3",
   "version": "3.13.2"
  }
 },
 "nbformat": 4,
 "nbformat_minor": 2
}
