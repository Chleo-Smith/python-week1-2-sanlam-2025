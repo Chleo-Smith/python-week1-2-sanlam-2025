{
 "cells": [
  {
   "cell_type": "markdown",
   "metadata": {},
   "source": [
    "# non - local variable \n",
    "- non-local variables are defined in the nearest enclosing scope, but not in the global scope\n",
    "- used to work with variables inside nested functions \n",
    "- declares variable not local\n",
    "- can be instantiated using global keyword"
   ]
  },
  {
   "cell_type": "code",
   "execution_count": 1,
   "metadata": {},
   "outputs": [
    {
     "name": "stdout",
     "output_type": "stream",
     "text": [
      "100\n"
     ]
    }
   ],
   "source": [
    "def price():\n",
    "    x = 10\n",
    "\n",
    "    def price2():\n",
    "        #specify it's non-local\n",
    "        nonlocal x\n",
    "        x = 100\n",
    "\n",
    "    price2()\n",
    "    return x\n",
    "\n",
    "\n",
    "print(price()) # ----> output 100\n",
    "# print(x)  # -----> cant access variable outside of functions scope\n"
   ]
  },
  {
   "cell_type": "code",
   "execution_count": 4,
   "metadata": {},
   "outputs": [
    {
     "name": "stdout",
     "output_type": "stream",
     "text": [
      "10\n"
     ]
    }
   ],
   "source": [
    "def price():\n",
    "    x = 10\n",
    "\n",
    "    def price2():\n",
    "        #not specified as non-local\n",
    "        x = 100\n",
    "\n",
    "    price2()\n",
    "    return x\n",
    "\n",
    "\n",
    "print(price())  # ----> output 10\n",
    "#print(x)  # -----> cant access variable outside of functions scope\n"
   ]
  },
  {
   "cell_type": "markdown",
   "metadata": {},
   "source": [
    "# global variables\n",
    "- global variables are accessible throught the entire program and are defined in the global scope. Both inside and outside of functions\n",
    "- can be instatntiated using global keyword\n",
    "- used to create global variables inside a function"
   ]
  },
  {
   "cell_type": "code",
   "execution_count": 6,
   "metadata": {},
   "outputs": [
    {
     "name": "stdout",
     "output_type": "stream",
     "text": [
      "50\n",
      "50\n"
     ]
    }
   ],
   "source": [
    "# global variable version 1\n",
    "# price instantiated without global keyword\n",
    "price = 50\n",
    "def get_price():\n",
    "     print(price)\n",
    "\n",
    "\n",
    "get_price()\n",
    "\n",
    "# can access price outside of throughtput the entire program\n",
    "\n",
    "print(price)\n"
   ]
  },
  {
   "cell_type": "code",
   "execution_count": 7,
   "metadata": {},
   "outputs": [
    {
     "name": "stdout",
     "output_type": "stream",
     "text": [
      "50\n",
      "50\n"
     ]
    }
   ],
   "source": [
    "# global variable version 2\n",
    "# price instantiated with global keyword\n",
    "\n",
    "def get_price():\n",
    "    global price\n",
    "    price = 50\n",
    "    print(price)\n",
    "\n",
    "\n",
    "get_price()\n",
    "\n",
    "# print(price) -----> does not cause an error\n",
    "# can access price outside of throughtput the entire program\n",
    "\n",
    "print(price)"
   ]
  }
 ],
 "metadata": {
  "kernelspec": {
   "display_name": ".venv",
   "language": "python",
   "name": "python3"
  },
  "language_info": {
   "codemirror_mode": {
    "name": "ipython",
    "version": 3
   },
   "file_extension": ".py",
   "mimetype": "text/x-python",
   "name": "python",
   "nbconvert_exporter": "python",
   "pygments_lexer": "ipython3",
   "version": "3.13.2"
  }
 },
 "nbformat": 4,
 "nbformat_minor": 2
}
