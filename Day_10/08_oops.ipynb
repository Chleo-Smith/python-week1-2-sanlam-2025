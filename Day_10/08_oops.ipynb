{
 "cells": [
  {
   "cell_type": "markdown",
   "metadata": {},
   "source": [
    "## paradigms (style of coding)\n",
    "\n",
    "- function programming\n",
    "- OOP : Object Oriented Programming\n",
    "- Procedural programming\n",
    "- mathmatical programming"
   ]
  },
  {
   "cell_type": "markdown",
   "metadata": {},
   "source": [
    "## Object Oriented Programming\n",
    "\n",
    "- Inspiration nature to solve compex problem\n",
    "- Programming abstract\n",
    "- Programming constructs into objects"
   ]
  },
  {
   "cell_type": "markdown",
   "metadata": {},
   "source": [
    "## car (blue print)\n",
    "- wheels\n",
    "- engine\n",
    "- make\n",
    "- doors"
   ]
  },
  {
   "cell_type": "code",
   "execution_count": null,
   "metadata": {},
   "outputs": [],
   "source": []
  },
  {
   "cell_type": "code",
   "execution_count": 4,
   "metadata": {},
   "outputs": [
    {
     "name": "stdout",
     "output_type": "stream",
     "text": [
      "<__main__.Car object at 0x0000029DB61797F0>\n",
      "4\n",
      "5\n",
      "2\n",
      "2\n"
     ]
    }
   ],
   "source": [
    "#car is blueprint\n",
    "class Car:\n",
    "    # method called when creating object\n",
    "    def __init__(self, wheels, engine, model, doors):\n",
    "        self.wheels = wheels\n",
    "        self.engine = engine\n",
    "        self.model = model\n",
    "        self.doors = doors\n",
    "\n",
    "#self point sto object you create, so bmw\n",
    "bmw = Car(4, \"v8\", \"x5\", 4)\n",
    "jeep = Car(5, \"v6\", \"Wrangler\", 4)\n",
    "bentz = Car(2, \"v1\", \"Patent Motor Car\", 4)\n",
    "mclaren = Car(2, \"v8\", \"650s\", 2)\n",
    "print(bmw)\n",
    "#bmx[wheels] error\n",
    "print(bmw.wheels)\n",
    "print(jeep.wheels)\n",
    "print(bentz.wheels)\n",
    "print(mclaren.wheels)"
   ]
  }
 ],
 "metadata": {
  "kernelspec": {
   "display_name": ".venv",
   "language": "python",
   "name": "python3"
  },
  "language_info": {
   "codemirror_mode": {
    "name": "ipython",
    "version": 3
   },
   "file_extension": ".py",
   "mimetype": "text/x-python",
   "name": "python",
   "nbconvert_exporter": "python",
   "pygments_lexer": "ipython3",
   "version": "3.13.2"
  }
 },
 "nbformat": 4,
 "nbformat_minor": 2
}
