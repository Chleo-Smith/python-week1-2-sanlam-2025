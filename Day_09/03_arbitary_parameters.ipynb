{
 "cells": [
  {
   "cell_type": "markdown",
   "metadata": {},
   "source": [
    "# Style Guides"
   ]
  },
  {
   "cell_type": "code",
   "execution_count": 90,
   "metadata": {},
   "outputs": [
    {
     "data": {
      "text/plain": [
       "9"
      ]
     },
     "execution_count": 90,
     "metadata": {},
     "output_type": "execute_result"
    }
   ],
   "source": [
    "max(9, 6)"
   ]
  },
  {
   "cell_type": "code",
   "execution_count": 91,
   "metadata": {},
   "outputs": [
    {
     "data": {
      "text/plain": [
       "10"
      ]
     },
     "execution_count": 91,
     "metadata": {},
     "output_type": "execute_result"
    }
   ],
   "source": [
    "max (3, 4, 5, 6, 7, 3, 10, 1)"
   ]
  },
  {
   "cell_type": "markdown",
   "metadata": {},
   "source": [
    "# arbitary parameters \n",
    "- * --> collect all the paramters or arguments\n",
    "- unpacking operator. works only with position areguments\n",
    "- all position args collected * all keyword collected with **"
   ]
  },
  {
   "cell_type": "code",
   "execution_count": 92,
   "metadata": {},
   "outputs": [
    {
     "name": "stdout",
     "output_type": "stream",
     "text": [
      "9\n",
      "10\n"
     ]
    }
   ],
   "source": [
    "def own_max(*nums):  # * --> collect all the paramters or arguments\n",
    "    max = nums[0]\n",
    "\n",
    "    for num in nums:\n",
    "        max = num if num > max else max\n",
    "\n",
    "    #max = [() for num in nums]\n",
    "\n",
    "    return max\n",
    "\n",
    "\n",
    "print(own_max(9, 6))\n",
    "print(own_max(3, 4, 5, 6, 7, 3, 10, 1))"
   ]
  },
  {
   "cell_type": "code",
   "execution_count": 93,
   "metadata": {},
   "outputs": [
    {
     "name": "stdout",
     "output_type": "stream",
     "text": [
      "🫑 🍆 ('🔑', '🥒')\n"
     ]
    }
   ],
   "source": [
    "def fun (s1, s2, *emoji): #unpacking operator. works only with position areguments\n",
    "    print(s1, s2, emoji)\n",
    "\n",
    "fun(\"🫑\", \"🍆\", \"🔑\", \"🥒\")"
   ]
  },
  {
   "cell_type": "code",
   "execution_count": 94,
   "metadata": {},
   "outputs": [],
   "source": [
    "#position arguments - * --> collect all pos args\n",
    "#keyword args"
   ]
  },
  {
   "cell_type": "code",
   "execution_count": 95,
   "metadata": {},
   "outputs": [
    {
     "name": "stdout",
     "output_type": "stream",
     "text": [
      "{'name': 'cool', 'age': '20', 'car': 'BMW'}\n",
      "name cool\n",
      "age 20\n",
      "car BMW\n"
     ]
    }
   ],
   "source": [
    "def fun(**details): # CAN COLECT ALL KEYWORD ARGUMENTS AS A DICTIONARY\n",
    "    print(details)\n",
    "    for key, value in details.items():\n",
    "        print(key, value)\n",
    "\n",
    "\n",
    "fun(name = \"cool\", age = \"20\", car = \"BMW\")"
   ]
  },
  {
   "cell_type": "code",
   "execution_count": 96,
   "metadata": {},
   "outputs": [
    {
     "name": "stdout",
     "output_type": "stream",
     "text": [
      "{'age': '20', 'car': 'BMW'}\n",
      "('cool', 'apple', 'fish') {'age': '20', 'car': 'BMW'}\n"
     ]
    }
   ],
   "source": [
    "def fun(*emoji, **details):  # CAN COLECT ALL KEYWORD ARGUMENTS AS A DICTIONARY\n",
    "    print(details)\n",
    "    print(emoji, details)\n",
    "\n",
    "#all position args collected * all keyword collected with **\n",
    "fun(\"cool\", \"apple\", \"fish\", age=\"20\", car=\"BMW\")\n"
   ]
  },
  {
   "cell_type": "code",
   "execution_count": null,
   "metadata": {},
   "outputs": [
    {
     "name": "stdout",
     "output_type": "stream",
     "text": [
      "Feeling 🙂 this morning 🌅.\n",
      "Feeling 😎 this afternoon ☀️.\n"
     ]
    }
   ],
   "source": [
    "def mood_report(mood = \"🙂\", time_of_day = \"morning 🌅\"):\n",
    "    return f\"Feeling {mood} this {time_of_day}.\"\n",
    "\n",
    "\n",
    "\n",
    "# Example outputs:\n",
    "print(mood_report())  # \"Feeling 🙂 this morning 🌅.\"\n",
    "print(\n",
    "    mood_report(mood=\"😎\", time_of_day=\"afternoon ☀️\")\n",
    ")  # \"Feeling 😎 this afternoon ☀️.\"\n"
   ]
  },
  {
   "cell_type": "markdown",
   "metadata": {},
   "source": [
    "# Version 1: Safe access in dictionary\n",
    "\n",
    "- here book is expected to be dictionary"
   ]
  },
  {
   "cell_type": "code",
   "execution_count": null,
   "metadata": {},
   "outputs": [
    {
     "name": "stdout",
     "output_type": "stream",
     "text": [
      "'1984' by George Orwell(1949) \n",
      "'Untitled' by J.K. Rowling(N/A) \n",
      "'The Great Gatsby' by F. Scott Fitzgerald(1925) \n",
      "'To Kill a Mockingbird' by Unknown(1960) \n",
      "'Untitled' by Ernest Hemingway(1952) \n"
     ]
    }
   ],
   "source": [
    "\n",
    "books = [\n",
    "    {\"title\": \"1984\", \"author\": \"George Orwell\", \"year\": 1949},\n",
    "    {\"author\": \"J.K. Rowling\"},  # Missing title and year\n",
    "    {\"title\": \"The Great Gatsby\", \"author\": \"F. Scott Fitzgerald\", \"year\": 1925},\n",
    "    {\"title\": \"To Kill a Mockingbird\", \"year\": 1960},  # Missing author\n",
    "    {\"author\": \"Ernest Hemingway\", \"year\": 1952},  # Missing title\n",
    "]\n",
    "\n",
    "def format_book_info(book):\n",
    "    title = book.get('title', 'Untitled')\n",
    "    author = book.get('author', 'Unknown')\n",
    "    year = book.get('year', 'N/A')\n",
    "\n",
    "    print(f\"'{title}' by {author}({year}) \")\n",
    "\n",
    "    return\n",
    "\n",
    "def main():\n",
    "    for book in books:\n",
    "        format_book_info(book)\n",
    "\n",
    "main()\n"
   ]
  },
  {
   "cell_type": "markdown",
   "metadata": {},
   "source": [
    "# Version 3: ???"
   ]
  },
  {
   "cell_type": "code",
   "execution_count": 105,
   "metadata": {},
   "outputs": [
    {
     "name": "stdout",
     "output_type": "stream",
     "text": [
      "'1984' by George Orwell(1949) \n",
      "'Untitled' by J.K. Rowling(N/A) \n",
      "'The Great Gatsby' by F. Scott Fitzgerald(1925) \n",
      "'To Kill a Mockingbird' by Unknown(1960) \n",
      "'Untitled' by Ernest Hemingway(1952) \n"
     ]
    }
   ],
   "source": [
    "books = [\n",
    "    {\"title\": \"1984\", \"author\": \"George Orwell\", \"year\": 1949},\n",
    "    {\"author\": \"J.K. Rowling\"},  # Missing title and year\n",
    "    {\"title\": \"The Great Gatsby\", \"author\": \"F. Scott Fitzgerald\", \"year\": 1925},\n",
    "    {\"title\": \"To Kill a Mockingbird\", \"year\": 1960},  # Missing author\n",
    "    {\"author\": \"Ernest Hemingway\", \"year\": 1952},  # Missing title\n",
    "]\n",
    "\n",
    "\n",
    "def format_book_info(title, author, year): # title --> None take dafault value\n",
    "    print(f\"'{title}' by {author}({year}) \")\n",
    "\n",
    "    return\n",
    "\n",
    "\n",
    "# starting point\n",
    "def main():\n",
    "    for book in books:\n",
    "        format_book_info(book.get(\"title\", \"Untitled\"), book.get(\"author\", \"Unknown\"), book.get(\"year\", \"N/A\")) # type: ignore\n",
    "\n",
    "\n",
    "main()\n"
   ]
  },
  {
   "cell_type": "markdown",
   "metadata": {},
   "source": [
    "# version 2: Unpacking. Better version"
   ]
  },
  {
   "cell_type": "code",
   "execution_count": null,
   "metadata": {},
   "outputs": [
    {
     "name": "stdout",
     "output_type": "stream",
     "text": [
      "'1984' by George Orwell(1949) \n",
      "'Untitled' by J.K. Rowling(N/A) \n",
      "'The Great Gatsby' by F. Scott Fitzgerald(1925) \n",
      "'To Kill a Mockingbird' by Unknown(1960) \n",
      "'Untitled' by Ernest Hemingway(1952) \n"
     ]
    }
   ],
   "source": [
    "books = [\n",
    "    {\"title\": \"1984\", \"author\": \"George Orwell\", \"year\": 1949},\n",
    "    {\"author\": \"J.K. Rowling\"},  # Missing title and year\n",
    "    {\"title\": \"The Great Gatsby\", \"author\": \"F. Scott Fitzgerald\", \"year\": 1925},\n",
    "    {\"title\": \"To Kill a Mockingbird\", \"year\": 1960},  # Missing author\n",
    "    {\"author\": \"Ernest Hemingway\", \"year\": 1952},  # Missing title\n",
    "]\n",
    "\n",
    "#acess to passing individually and as a dictionary\n",
    "#keeps code flexible\n",
    "def format_book_info(title=\"Untitled\", author=\"Unknown\", year=\"N/A\"):\n",
    "\n",
    "    print(f\"'{title}' by {author}({year}) \")\n",
    "\n",
    "    return\n",
    "\n",
    "#starting point\n",
    "def main():\n",
    "\n",
    "    for book in books:\n",
    "\n",
    "        format_book_info(**book)\n",
    "\n",
    "#unpacking dictionary lead to keyword arguments\n",
    "\n",
    "main()\n"
   ]
  }
 ],
 "metadata": {
  "kernelspec": {
   "display_name": ".venv",
   "language": "python",
   "name": "python3"
  },
  "language_info": {
   "codemirror_mode": {
    "name": "ipython",
    "version": 3
   },
   "file_extension": ".py",
   "mimetype": "text/x-python",
   "name": "python",
   "nbconvert_exporter": "python",
   "pygments_lexer": "ipython3",
   "version": "3.13.2"
  }
 },
 "nbformat": 4,
 "nbformat_minor": 2
}
