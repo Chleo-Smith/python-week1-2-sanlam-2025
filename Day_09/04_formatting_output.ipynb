{
 "cells": [
  {
   "cell_type": "code",
   "execution_count": null,
   "metadata": {},
   "outputs": [],
   "source": [
    "salary = 1_500_000#improved DX\n",
    "\n",
    "print(f\"Inganathi's salary is {salary: ,}\") #want to improve UX as well\n",
    "print(f\"Inganathi's salary is {salary: _}\")"
   ]
  },
  {
   "cell_type": "code",
   "execution_count": null,
   "metadata": {},
   "outputs": [],
   "source": [
    "from math import pi, cos # importing from inbuilt package\n",
    "\n",
    "#from <package_name> import <values>, <function>\n",
    "\n",
    "print(pi)\n",
    "\n",
    "print(f\"The PI value is: {round(pi)}\")\n",
    "print(f\"The PI value is: {round(pi, 2)}\")\n",
    "print(f\"The PI value is: {pi:.2f}\")\n",
    "print(f\"The PI value is: {pi:.3f}\")\n"
   ]
  },
  {
   "cell_type": "code",
   "execution_count": null,
   "metadata": {},
   "outputs": [],
   "source": [
    "print(f\"Ethan's salary is R{1000000000:,.3f}\")\n"
   ]
  },
  {
   "cell_type": "markdown",
   "metadata": {},
   "source": [
    "# Text - <space>\n",
    "- arrow points to text. so if `> --> word` and if `word <-- <` and `^` for center padding"
   ]
  },
  {
   "cell_type": "code",
   "execution_count": null,
   "metadata": {},
   "outputs": [],
   "source": [
    "name = \"Divyali\"\n",
    "\n",
    "print(f\"{name:🥕>20}:\") #arrow point to text\n",
    "print(f\"{name:<20}:\")\n",
    "print(f\"{name:^20}:\")"
   ]
  },
  {
   "cell_type": "markdown",
   "metadata": {},
   "source": [
    "# \n",
    "- use docs to see what different things do\n",
    "- https://docs.python.org/3/library/datetime.html\n",
    "- "
   ]
  },
  {
   "cell_type": "code",
   "execution_count": null,
   "metadata": {},
   "outputs": [],
   "source": [
    "from math import pi, cos\n",
    "from datetime import datetime\n",
    "\n",
    "print(pi)\n",
    "print(cos(pi/2))\n",
    "\n",
    "now = datetime.now()\n",
    "print(now)\n",
    "\n",
    "print(f\"The current date is: {now:%d-%m-%Y}\")\n",
    "#prints out march\n",
    "print(f\"The current date is: {now:%d-%B-%Y}\")\n",
    "#prints out shortened March\n",
    "print(f\"The current date is: {now:%d-%b-%Y}\")\n",
    "\n",
    "# 2025-12-28"
   ]
  },
  {
   "cell_type": "code",
   "execution_count": null,
   "metadata": {},
   "outputs": [
    {
     "name": "stdout",
     "output_type": "stream",
     "text": [
      "=======Spaghetti Carbonara=======\n",
      "- 200g spaghetti\n",
      "- 100g pancetta\n",
      "- 2 eggs\n",
      "- 1/2 cup grated Parmesan\n",
      "- 1 clove garlic\n",
      "Serves: 4 people\n"
     ]
    }
   ],
   "source": [
    "recipe = {\n",
    "    \"name\": \"Spaghetti Carbonara\",\n",
    "    \"servings\": 4,\n",
    "    \"ingredients\": [\n",
    "        \"200g spaghetti\",\n",
    "        \"100g pancetta\",\n",
    "        \"2 eggs\",\n",
    "        \"1/2 cup grated Parmesan\",\n",
    "        \"1 clove garlic\",\n",
    "    ],\n",
    "}\n",
    "\n",
    "# Task 1\n",
    "# ======= Spaghetti Carbonara =======\n",
    "# - 200g spaghetti\n",
    "# - 100g pancetta\n",
    "# - 2 eggs\n",
    "# - 1/2 cup grated Parmesan\n",
    "# - 1 clove garlic\n",
    "# Serves: 4 people\n",
    "\n",
    "def format(name = \"No Name Given\", servings = \"No Sevings Listed\", ingredients = \"No Ingredients Provided\"):\n",
    "    print(f\"{name:=^33}\")\n",
    "\n",
    "    for ingredient in ingredients:\n",
    "        print(f\"- {ingredient}\")\n",
    "\n",
    "    print(f\"Serves: {servings} people\")\n",
    "    return\n",
    "\n",
    "def main():\n",
    "    format(**recipe)\n",
    "    return\n",
    "\n",
    "\n",
    "main()"
   ]
  },
  {
   "cell_type": "markdown",
   "metadata": {},
   "source": [
    "Assignment\n",
    "Invoice Date: 03 March 2025\n",
    "\n",
    "Product               Qty     Unit Price          Total\n",
    "-------------------------------------------------------\n",
    "Widget A               10           2.50          25.00\n",
    "Widget B                5          15.75          78.75\n",
    "Gadget                  2          99.99         199.98\n",
    "-------------------------------------------------------\n",
    "Grand Total                                      303.73"
   ]
  },
  {
   "cell_type": "code",
   "execution_count": 1,
   "metadata": {},
   "outputs": [
    {
     "name": "stdout",
     "output_type": "stream",
     "text": [
      "Invoice Date: 03-March-2025\n",
      "Product             Qty      Unit Price           Total\n",
      "-------------------------------------------------------\n",
      "Widget A             10             2.5           25.00\n",
      "Widget B              5           15.75           78.75\n",
      "Gadget                2           99.99          199.98\n",
      "-------------------------------------------------------\n",
      "Grand Total                                      303.73\n"
     ]
    }
   ],
   "source": [
    "from datetime import datetime\n",
    "\n",
    "items = [\n",
    "    {\"name\": \"Widget A\", \"quantity\": 10, \"price\": 2.5},\n",
    "    {\"name\": \"Widget B\", \"quantity\": 5, \"price\": 15.75},\n",
    "    {\"name\": \"Gadget\", \"quantity\": 2, \"price\": 99.99},\n",
    "]\n",
    "\n",
    "\n",
    "def print_invoice(invoice_date, items):\n",
    "    print(f\"Invoice Date: {invoice_date}\")\n",
    "\n",
    "    print(f\"{'Product':<12} {'Qty':>10} {'Unit Price':>15} {'Total':>15}\")\n",
    "\n",
    "    print(\"-------------------------------------------------------\")\n",
    "\n",
    "    grand_total = 0\n",
    "\n",
    "    for item in items:\n",
    "        name = item[\"name\"]\n",
    "        quantity = item[\"quantity\"]\n",
    "        price = item[\"price\"]\n",
    "\n",
    "        total = item[\"quantity\"] * item[\"price\"]\n",
    "        grand_total += total\n",
    "\n",
    "        print(f\"{name:<12} {quantity:>10} {price:>15} {str(f'{total:.2f}'):>15}\")\n",
    "\n",
    "    print(\"-------------------------------------------------------\")\n",
    "\n",
    "    print(f\"Grand Total {grand_total:>43}\")\n",
    "\n",
    "    return\n",
    "\n",
    "def main():\n",
    "    date = f\"{datetime.now():%d-%B-%Y}\"\n",
    "    print_invoice(date, items)\n",
    "\n",
    "main()\n"
   ]
  },
  {
   "cell_type": "markdown",
   "metadata": {},
   "source": [
    "Invoice Date: 03 March 2025\n",
    "\n",
    "Product               Qty     Unit Price          Total\n",
    "-------------------------------------------------------\n",
    "Widget A               10           2.50          25.00\n",
    "Widget B                5          15.75          78.75\n",
    "Gadget                  2          99.99         199.98\n",
    "-------------------------------------------------------\n",
    "Grand Total                                      303.73"
   ]
  }
 ],
 "metadata": {
  "kernelspec": {
   "display_name": ".venv",
   "language": "python",
   "name": "python3"
  },
  "language_info": {
   "codemirror_mode": {
    "name": "ipython",
    "version": 3
   },
   "file_extension": ".py",
   "mimetype": "text/x-python",
   "name": "python",
   "nbconvert_exporter": "python",
   "pygments_lexer": "ipython3",
   "version": "3.13.2"
  }
 },
 "nbformat": 4,
 "nbformat_minor": 2
}
