{
 "cells": [
  {
   "cell_type": "code",
   "execution_count": null,
   "metadata": {},
   "outputs": [],
   "source": [
    "salary = 1_500_000#improved DX\n",
    "\n",
    "print(f\"Inganathi's salary is {salary: ,}\") #want to improve UX as well\n",
    "print(f\"Inganathi's salary is {salary: _}\")"
   ]
  },
  {
   "cell_type": "code",
   "execution_count": null,
   "metadata": {},
   "outputs": [],
   "source": [
    "from math import pi, cos # importing from inbuilt package\n",
    "\n",
    "#from <package_name> import <values>, <function>\n",
    "\n",
    "print(pi)\n",
    "\n",
    "print(f\"The PI value is: {round(pi)}\")\n",
    "print(f\"The PI value is: {round(pi, 2)}\")\n",
    "print(f\"The PI value is: {pi:.2f}\")\n",
    "print(f\"The PI value is: {pi:.3f}\")\n"
   ]
  },
  {
   "cell_type": "code",
   "execution_count": null,
   "metadata": {},
   "outputs": [],
   "source": [
    "print(f\"Ethan's salary is R{1000000000:,.3f}\")\n"
   ]
  },
  {
   "cell_type": "markdown",
   "metadata": {},
   "source": [
    "# Text - <space>\n",
    "- arrow points to text. so if `> --> word` and if `word <-- <` and `^` for center padding"
   ]
  },
  {
   "cell_type": "code",
   "execution_count": null,
   "metadata": {},
   "outputs": [],
   "source": [
    "name = \"Divyali\"\n",
    "\n",
    "print(f\"{name:🥕>20}:\") #arrow point to text\n",
    "print(f\"{name:<20}:\")\n",
    "print(f\"{name:^20}:\")"
   ]
  },
  {
   "cell_type": "markdown",
   "metadata": {},
   "source": [
    "# \n",
    "- use docs to see what different things do\n",
    "- https://docs.python.org/3/library/datetime.html\n",
    "- "
   ]
  },
  {
   "cell_type": "code",
   "execution_count": null,
   "metadata": {},
   "outputs": [],
   "source": [
    "from math import pi, cos\n",
    "from datetime import datetime\n",
    "\n",
    "print(pi)\n",
    "print(cos(pi/2))\n",
    "\n",
    "now = datetime.now()\n",
    "print(now)\n",
    "\n",
    "print(f\"The current date is: {now:%d-%m-%Y}\")\n",
    "#prints out march\n",
    "print(f\"The current date is: {now:%d-%B-%Y}\")\n",
    "#prints out shortened March\n",
    "print(f\"The current date is: {now:%d-%b-%Y}\")\n",
    "\n",
    "# 2025-12-28"
   ]
  },
  {
   "cell_type": "code",
   "execution_count": null,
   "metadata": {},
   "outputs": [
    {
     "name": "stdout",
     "output_type": "stream",
     "text": [
      "=======Spaghetti Carbonara=======\n",
      "- 200g spaghetti\n",
      "- 100g pancetta\n",
      "- 2 eggs\n",
      "- 1/2 cup grated Parmesan\n",
      "- 1 clove garlic\n",
      "Serves: 4 people\n"
     ]
    }
   ],
   "source": [
    "recipe = {\n",
    "    \"name\": \"Spaghetti Carbonara\",\n",
    "    \"servings\": 4,\n",
    "    \"ingredients\": [\n",
    "        \"200g spaghetti\",\n",
    "        \"100g pancetta\",\n",
    "        \"2 eggs\",\n",
    "        \"1/2 cup grated Parmesan\",\n",
    "        \"1 clove garlic\",\n",
    "    ],\n",
    "}\n",
    "\n",
    "# Task 1\n",
    "# ======= Spaghetti Carbonara =======\n",
    "# - 200g spaghetti\n",
    "# - 100g pancetta\n",
    "# - 2 eggs\n",
    "# - 1/2 cup grated Parmesan\n",
    "# - 1 clove garlic\n",
    "# Serves: 4 people\n",
    "\n",
    "def format(name = \"No Name Given\", servings = \"No Sevings Listed\", ingredients = \"No Ingredients Provided\"):\n",
    "    print(f\"{name:=^33}\")\n",
    "\n",
    "    for ingredient in ingredients:\n",
    "        print(f\"- {ingredient}\")\n",
    "\n",
    "    print(f\"Serves: {servings} people\")\n",
    "    return\n",
    "\n",
    "def main():\n",
    "    format(**recipe)\n",
    "    return\n",
    "\n",
    "\n",
    "main()"
   ]
  },
  {
   "cell_type": "markdown",
   "metadata": {},
   "source": [
    "Assignment\n",
    "Invoice Date: 03 March 2025\n",
    "\n",
    "Product               Qty     Unit Price          Total\n",
    "-------------------------------------------------------\n",
    "Widget A               10           2.50          25.00\n",
    "Widget B                5          15.75          78.75\n",
    "Gadget                  2          99.99         199.98\n",
    "-------------------------------------------------------\n",
    "Grand Total                                      303.73"
   ]
  },
  {
   "cell_type": "code",
   "execution_count": null,
   "metadata": {},
   "outputs": [
    {
     "name": "stdout",
     "output_type": "stream",
     "text": [
      "Invoice Date: 03-March-2025\n",
      "Product             Qty      Unit Price           Total\n",
      "-------------------------------------------------------\n"
     ]
    },
    {
     "ename": "ValueError",
     "evalue": "Invalid format specifier '.2f:>15' for object of type 'float'",
     "output_type": "error",
     "traceback": [
      "\u001b[1;31m---------------------------------------------------------------------------\u001b[0m",
      "\u001b[1;31mValueError\u001b[0m                                Traceback (most recent call last)",
      "Cell \u001b[1;32mIn[48], line 39\u001b[0m\n\u001b[0;32m     36\u001b[0m     date \u001b[38;5;241m=\u001b[39m \u001b[38;5;124mf\u001b[39m\u001b[38;5;124m\"\u001b[39m\u001b[38;5;132;01m{\u001b[39;00mdatetime\u001b[38;5;241m.\u001b[39mnow()\u001b[38;5;132;01m:\u001b[39;00m\u001b[38;5;124m%d-%B-%Y\u001b[39m\u001b[38;5;132;01m}\u001b[39;00m\u001b[38;5;124m\"\u001b[39m\n\u001b[0;32m     37\u001b[0m     print_invoice(date, items)\n\u001b[1;32m---> 39\u001b[0m \u001b[43mmain\u001b[49m\u001b[43m(\u001b[49m\u001b[43m)\u001b[49m\n",
      "Cell \u001b[1;32mIn[48], line 37\u001b[0m, in \u001b[0;36mmain\u001b[1;34m()\u001b[0m\n\u001b[0;32m     35\u001b[0m \u001b[38;5;28;01mdef\u001b[39;00m\u001b[38;5;250m \u001b[39m\u001b[38;5;21mmain\u001b[39m():\n\u001b[0;32m     36\u001b[0m     date \u001b[38;5;241m=\u001b[39m \u001b[38;5;124mf\u001b[39m\u001b[38;5;124m\"\u001b[39m\u001b[38;5;132;01m{\u001b[39;00mdatetime\u001b[38;5;241m.\u001b[39mnow()\u001b[38;5;132;01m:\u001b[39;00m\u001b[38;5;124m%d-%B-%Y\u001b[39m\u001b[38;5;132;01m}\u001b[39;00m\u001b[38;5;124m\"\u001b[39m\n\u001b[1;32m---> 37\u001b[0m     \u001b[43mprint_invoice\u001b[49m\u001b[43m(\u001b[49m\u001b[43mdate\u001b[49m\u001b[43m,\u001b[49m\u001b[43m \u001b[49m\u001b[43mitems\u001b[49m\u001b[43m)\u001b[49m\n",
      "Cell \u001b[1;32mIn[48], line 27\u001b[0m, in \u001b[0;36mprint_invoice\u001b[1;34m(invoice_date, items)\u001b[0m\n\u001b[0;32m     24\u001b[0m     total \u001b[38;5;241m=\u001b[39m item[\u001b[38;5;124m\"\u001b[39m\u001b[38;5;124mquantity\u001b[39m\u001b[38;5;124m\"\u001b[39m] \u001b[38;5;241m*\u001b[39m item[\u001b[38;5;124m\"\u001b[39m\u001b[38;5;124mprice\u001b[39m\u001b[38;5;124m\"\u001b[39m]\n\u001b[0;32m     25\u001b[0m     grand_total \u001b[38;5;241m+\u001b[39m\u001b[38;5;241m=\u001b[39m total\n\u001b[1;32m---> 27\u001b[0m     \u001b[38;5;28mprint\u001b[39m(\u001b[38;5;124mf\u001b[39m\u001b[38;5;124m\"\u001b[39m\u001b[38;5;132;01m{\u001b[39;00mname\u001b[38;5;132;01m:\u001b[39;00m\u001b[38;5;124m<12\u001b[39m\u001b[38;5;132;01m}\u001b[39;00m\u001b[38;5;124m \u001b[39m\u001b[38;5;132;01m{\u001b[39;00mquantity\u001b[38;5;132;01m:\u001b[39;00m\u001b[38;5;124m>10\u001b[39m\u001b[38;5;132;01m}\u001b[39;00m\u001b[38;5;124m \u001b[39m\u001b[38;5;132;01m{\u001b[39;00mprice\u001b[38;5;132;01m:\u001b[39;00m\u001b[38;5;124m>15\u001b[39m\u001b[38;5;132;01m}\u001b[39;00m\u001b[38;5;124m \u001b[39m\u001b[38;5;132;01m{\u001b[39;00m(total)\u001b[38;5;132;01m:\u001b[39;00m\u001b[38;5;124m.2f:>15\u001b[39m\u001b[38;5;132;01m}\u001b[39;00m\u001b[38;5;124m\"\u001b[39m)\n\u001b[0;32m     29\u001b[0m \u001b[38;5;28mprint\u001b[39m(\u001b[38;5;124m\"\u001b[39m\u001b[38;5;124m-------------------------------------------------------\u001b[39m\u001b[38;5;124m\"\u001b[39m)\n\u001b[0;32m     31\u001b[0m \u001b[38;5;28mprint\u001b[39m(\u001b[38;5;124mf\u001b[39m\u001b[38;5;124m\"\u001b[39m\u001b[38;5;124mGrand Total \u001b[39m\u001b[38;5;132;01m{\u001b[39;00mgrand_total\u001b[38;5;132;01m:\u001b[39;00m\u001b[38;5;124m>10\u001b[39m\u001b[38;5;132;01m}\u001b[39;00m\u001b[38;5;124m\"\u001b[39m)\n",
      "\u001b[1;31mValueError\u001b[0m: Invalid format specifier '.2f:>15' for object of type 'float'"
     ]
    }
   ],
   "source": [
    "from datetime import datetime\n",
    "\n",
    "items = [\n",
    "    {\"name\": \"Widget A\", \"quantity\": 10, \"price\": 2.5},\n",
    "    {\"name\": \"Widget B\", \"quantity\": 5, \"price\": 15.75},\n",
    "    {\"name\": \"Gadget\", \"quantity\": 2, \"price\": 99.99},\n",
    "]\n",
    "\n",
    "\n",
    "def print_invoice(invoice_date, items):\n",
    "    print(f\"Invoice Date: {invoice_date}\")\n",
    "\n",
    "    print(f\"{'Product':<12} {'Qty':>10} {'Unit Price':>15} {'Total':>15}\")\n",
    "\n",
    "    print(\"-------------------------------------------------------\")\n",
    "\n",
    "    grand_total = 0\n",
    "\n",
    "    for item in items:\n",
    "        name = item[\"name\"]\n",
    "        quantity = item[\"quantity\"]\n",
    "        price = item[\"price\"]\n",
    "\n",
    "        total = item[\"quantity\"] * item[\"price\"]\n",
    "        grand_total += total\n",
    "\n",
    "        print(f\"{name:<12} {quantity:>10} {price:>15} {(total):.2f:>15}\")\n",
    "\n",
    "    print(\"-------------------------------------------------------\")\n",
    "\n",
    "    print(f\"Grand Total {grand_total:>10}\")\n",
    "\n",
    "    return\n",
    "\n",
    "def main():\n",
    "    date = f\"{datetime.now():%d-%B-%Y}\"\n",
    "    print_invoice(date, items)\n",
    "\n",
    "main()\n"
   ]
  },
  {
   "cell_type": "markdown",
   "metadata": {},
   "source": [
    "Invoice Date: 03 March 2025\n",
    "\n",
    "Product               Qty     Unit Price          Total\n",
    "-------------------------------------------------------\n",
    "Widget A               10           2.50          25.00\n",
    "Widget B                5          15.75          78.75\n",
    "Gadget                  2          99.99         199.98\n",
    "-------------------------------------------------------\n",
    "Grand Total                                      303.73"
   ]
  }
 ],
 "metadata": {
  "kernelspec": {
   "display_name": ".venv",
   "language": "python",
   "name": "python3"
  },
  "language_info": {
   "codemirror_mode": {
    "name": "ipython",
    "version": 3
   },
   "file_extension": ".py",
   "mimetype": "text/x-python",
   "name": "python",
   "nbconvert_exporter": "python",
   "pygments_lexer": "ipython3",
   "version": "3.13.2"
  }
 },
 "nbformat": 4,
 "nbformat_minor": 2
}
