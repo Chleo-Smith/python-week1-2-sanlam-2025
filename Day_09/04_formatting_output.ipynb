{
 "cells": [
  {
   "cell_type": "code",
   "execution_count": null,
   "metadata": {},
   "outputs": [
    {
     "name": "stdout",
     "output_type": "stream",
     "text": [
      "Inganathi's salary is  1,500,000.35\n",
      "Inganathi's salary is  1_500_000.35\n"
     ]
    }
   ],
   "source": [
    "salary = 1_500_000#improved DX\n",
    "\n",
    "print(f\"Inganathi's salary is {salary: ,}\") #want to improve UX as well\n",
    "print(f\"Inganathi's salary is {salary: _}\")"
   ]
  },
  {
   "cell_type": "code",
   "execution_count": null,
   "metadata": {},
   "outputs": [
    {
     "name": "stdout",
     "output_type": "stream",
     "text": [
      "3.141592653589793\n",
      "The PI value is: 3\n",
      "The PI value is: 3.14\n",
      "The PI value is: 3.14\n",
      "The PI value is: 3.142\n"
     ]
    }
   ],
   "source": [
    "from math import pi, cos # importing from inbuilt package\n",
    "\n",
    "#from <package_name> import <values>, <function>\n",
    "\n",
    "print(pi)\n",
    "\n",
    "print(f\"The PI value is: {round(pi)}\")\n",
    "print(f\"The PI value is: {round(pi, 2)}\")\n",
    "print(f\"The PI value is: {pi:.2f}\")\n",
    "print(f\"The PI value is: {pi:.3f}\")\n"
   ]
  },
  {
   "cell_type": "code",
   "execution_count": 10,
   "metadata": {},
   "outputs": [
    {
     "name": "stdout",
     "output_type": "stream",
     "text": [
      "Ethan's salary is R1,000,000,000.000\n"
     ]
    }
   ],
   "source": [
    "print(f\"Ethan's salary is R{1000000000:,.3f}\")\n"
   ]
  },
  {
   "cell_type": "markdown",
   "metadata": {},
   "source": [
    "# Text - <space>\n",
    "- arrow points to text. so if `> --> word` and if `word <-- <` and `^` for center padding"
   ]
  },
  {
   "cell_type": "code",
   "execution_count": 18,
   "metadata": {},
   "outputs": [
    {
     "name": "stdout",
     "output_type": "stream",
     "text": [
      "🥕🥕🥕🥕🥕🥕🥕🥕🥕🥕🥕🥕🥕Divyali:\n",
      "Divyali             :\n",
      "      Divyali       :\n"
     ]
    }
   ],
   "source": [
    "name = \"Divyali\"\n",
    "\n",
    "print(f\"{name:🥕>20}:\") #arrow point to text\n",
    "print(f\"{name:<20}:\")\n",
    "print(f\"{name:^20}:\")"
   ]
  }
 ],
 "metadata": {
  "kernelspec": {
   "display_name": ".venv",
   "language": "python",
   "name": "python3"
  },
  "language_info": {
   "codemirror_mode": {
    "name": "ipython",
    "version": 3
   },
   "file_extension": ".py",
   "mimetype": "text/x-python",
   "name": "python",
   "nbconvert_exporter": "python",
   "pygments_lexer": "ipython3",
   "version": "3.13.2"
  }
 },
 "nbformat": 4,
 "nbformat_minor": 2
}
