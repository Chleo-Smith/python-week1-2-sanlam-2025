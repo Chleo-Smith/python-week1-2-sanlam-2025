{
 "cells": [
  {
   "cell_type": "markdown",
   "metadata": {},
   "source": [
    "# Default values\n",
    "\n",
    "- default values should appear last"
   ]
  },
  {
   "cell_type": "code",
   "execution_count": 1,
   "metadata": {},
   "outputs": [],
   "source": [
    "def driving_test(name, age, car):  # parameter (matching based on pposition)\n",
    "    return (\n",
    "        f\"{name} is eligible for driving. You will be tested with {car}\"\n",
    "        if age >= 18\n",
    "        else \"Try again after few years 👶\"\n",
    "    )\n"
   ]
  },
  {
   "cell_type": "code",
   "execution_count": 2,
   "metadata": {},
   "outputs": [],
   "source": [
    "# driving_test(\"Diyali\", 19) # Parameters > Arguments # Error\n"
   ]
  },
  {
   "cell_type": "code",
   "execution_count": 3,
   "metadata": {},
   "outputs": [],
   "source": [
    "# driving_test(car=\"Toyota Yaris\", age=19)  # Parameters > Arguments # Error\n"
   ]
  },
  {
   "cell_type": "code",
   "execution_count": null,
   "metadata": {},
   "outputs": [],
   "source": [
    "def driving_test(name, age, car = \"Polo Vivo\"):  # parameter (matching based on pposition) #\n",
    "    return (\n",
    "        f\"{name} is eligible for driving. You will be tested with {car}\"\n",
    "        if age >= 18\n",
    "        else \"Try again after few years 👶\"\n",
    "    )\n"
   ]
  },
  {
   "cell_type": "code",
   "execution_count": 5,
   "metadata": {},
   "outputs": [
    {
     "data": {
      "text/plain": [
       "'Ethan is eligible for driving. You will be tested with Polo Vivo'"
      ]
     },
     "execution_count": 5,
     "metadata": {},
     "output_type": "execute_result"
    }
   ],
   "source": [
    "driving_test(\"Ethan\", 19)"
   ]
  },
  {
   "cell_type": "code",
   "execution_count": null,
   "metadata": {},
   "outputs": [],
   "source": [
    "driving_test(\"Inganathi\", 19, \"Ferrari\")  # Pos Args\n"
   ]
  },
  {
   "cell_type": "code",
   "execution_count": null,
   "metadata": {},
   "outputs": [
    {
     "data": {
      "text/plain": [
       "'Jevan is eligible for driving. You will be tested with Polo Vivo'"
      ]
     },
     "execution_count": 10,
     "metadata": {},
     "output_type": "execute_result"
    }
   ],
   "source": [
    "driving_test(age=18, name=\"Jevan\")  # KW Args\n"
   ]
  },
  {
   "cell_type": "code",
   "execution_count": 6,
   "metadata": {},
   "outputs": [],
   "source": [
    "def driving_test1(\n",
    "    age, name=\"Mr./Mrs. cool\", car=\"Polo Vivo\"\n",
    "):  # Default value - Order matters ✅\n",
    "    if age >= 18:\n",
    "        return f\"{name} is eligible for driving test. You will be tested with {car}\"\n",
    "    else:\n",
    "        return \"Try again after few years 👶🍼\"\n"
   ]
  },
  {
   "cell_type": "code",
   "execution_count": 7,
   "metadata": {},
   "outputs": [],
   "source": [
    "def driving_test2(\n",
    "    name=\"Mr./Mrs. cool\", age=0, car=\"Polo Vivo\"\n",
    "):  # Default value - Order matters ✅\n",
    "    if age >= 18:\n",
    "        return f\"{name} is eligible for driving test. You will be tested with {car}\"\n",
    "    else:\n",
    "        return \"Try again after few years 👶🍼\"\n"
   ]
  },
  {
   "cell_type": "code",
   "execution_count": 8,
   "metadata": {},
   "outputs": [
    {
     "data": {
      "text/plain": [
       "'Try again after few years 👶🍼'"
      ]
     },
     "execution_count": 8,
     "metadata": {},
     "output_type": "execute_result"
    }
   ],
   "source": [
    "driving_test2()\n"
   ]
  },
  {
   "cell_type": "code",
   "execution_count": 9,
   "metadata": {},
   "outputs": [
    {
     "data": {
      "text/plain": [
       "'Mr./Mrs. cool is eligible for driving test. You will be tested with Polo Vivo'"
      ]
     },
     "execution_count": 9,
     "metadata": {},
     "output_type": "execute_result"
    }
   ],
   "source": [
    "driving_test2(age=18)\n"
   ]
  }
 ],
 "metadata": {
  "kernelspec": {
   "display_name": ".venv",
   "language": "python",
   "name": "python3"
  },
  "language_info": {
   "codemirror_mode": {
    "name": "ipython",
    "version": 3
   },
   "file_extension": ".py",
   "mimetype": "text/x-python",
   "name": "python",
   "nbconvert_exporter": "python",
   "pygments_lexer": "ipython3",
   "version": "3.13.2"
  }
 },
 "nbformat": 4,
 "nbformat_minor": 2
}
