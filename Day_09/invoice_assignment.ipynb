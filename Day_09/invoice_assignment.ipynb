{
 "cells": [
  {
   "cell_type": "code",
   "execution_count": 8,
   "metadata": {},
   "outputs": [
    {
     "name": "stdout",
     "output_type": "stream",
     "text": [
      "Invoice Date:  14 May 1999\n",
      "\n",
      "Product             Qty      Unit Price           Total\n",
      "-------------------------------------------------------\n",
      "Widget A             10            2.50           25.00\n",
      "Widget B              5           15.75           78.75\n",
      "Gadget                2           99.99          199.98\n",
      "-------------------------------------------------------\n",
      "Grand Total                                      303.73\n"
     ]
    }
   ],
   "source": [
    "from datetime import datetime\n",
    "\n",
    "items = [\n",
    "    {\"name\": \"Widget A\", \"quantity\": 10, \"price\": 2.5},\n",
    "    {\"name\": \"Widget B\", \"quantity\": 5, \"price\": 15.75},\n",
    "    {\"name\": \"Gadget\", \"quantity\": 2, \"price\": 99.99},\n",
    "]\n",
    "\n",
    "\n",
    "def print_invoice(invoice_date, items):\n",
    "    print(f\"Invoice Date: {invoice_date: %d %B %Y}\")\n",
    "    print()\n",
    "    print(f\"{'Product':<12} {'Qty':>10} {'Unit Price':>15} {'Total':>15}\")\n",
    "\n",
    "    print(\"-------------------------------------------------------\")\n",
    "\n",
    "    grand_total = 0\n",
    "\n",
    "    for item in items:\n",
    "        name = item[\"name\"]\n",
    "        quantity = item[\"quantity\"]\n",
    "        price = item[\"price\"]\n",
    "\n",
    "        total = item[\"quantity\"] * item[\"price\"]\n",
    "        grand_total += total\n",
    "\n",
    "        print(\n",
    "            f\"{name:<12} {quantity:>10} {str(f'{price:.2f}'):>15} {str(f'{total:.2f}'):>15}\"\n",
    "        )\n",
    "\n",
    "    print(\"-------------------------------------------------------\")\n",
    "\n",
    "    print(f\"Grand Total {grand_total:>43}\")\n",
    "\n",
    "    return\n",
    "\n",
    "\n",
    "def main():\n",
    "    input_date = input(\"Enter date for the invoice (dd/mm/yyyy): \")\n",
    "    date = datetime.strptime(input_date, \"%d/%m/%Y\")\n",
    "    print_invoice(date, items)\n",
    "\n",
    "\n",
    "main()\n"
   ]
  }
 ],
 "metadata": {
  "kernelspec": {
   "display_name": ".venv",
   "language": "python",
   "name": "python3"
  },
  "language_info": {
   "codemirror_mode": {
    "name": "ipython",
    "version": 3
   },
   "file_extension": ".py",
   "mimetype": "text/x-python",
   "name": "python",
   "nbconvert_exporter": "python",
   "pygments_lexer": "ipython3",
   "version": "3.13.2"
  }
 },
 "nbformat": 4,
 "nbformat_minor": 2
}
