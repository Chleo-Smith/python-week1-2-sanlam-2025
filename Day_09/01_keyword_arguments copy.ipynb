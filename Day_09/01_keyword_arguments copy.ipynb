{
 "cells": [
  {
   "cell_type": "markdown",
   "metadata": {},
   "source": [
    "# Keyword arguments\n",
    "- positional parameter (matching based on pposition)\n",
    "- keyword arguments match based on name assigned\n",
    "- Positional arguments need to stay in order and be in front. Keyword arguments trail and can be in any order\n",
    "- parameters > Arguments we error out"
   ]
  },
  {
   "cell_type": "code",
   "execution_count": null,
   "metadata": {},
   "outputs": [],
   "source": [
    "def driving_test(name, age, car): # parameter (matching based on pposition)\n",
    "    return (\n",
    "        f\"{name} is eligible for driving. You will be tested with {car}\"\n",
    "        if age >= 18\n",
    "        else \"Try again after few years 👶\"\n",
    "    )\n"
   ]
  },
  {
   "cell_type": "code",
   "execution_count": null,
   "metadata": {},
   "outputs": [
    {
     "data": {
      "text/plain": [
       "'Hyundai 110 is eligible for driving. You will be tested with Diyali'"
      ]
     },
     "execution_count": 3,
     "metadata": {},
     "output_type": "execute_result"
    }
   ],
   "source": [
    "driving_test(\"Hyundai 110\", 19, \"Diyali\") #position argument"
   ]
  },
  {
   "cell_type": "code",
   "execution_count": null,
   "metadata": {},
   "outputs": [],
   "source": [
    "driving_test(car = \"Hyundai 110\", age = 19, name = \"Diyali\")  # keywords argument\n"
   ]
  },
  {
   "cell_type": "code",
   "execution_count": null,
   "metadata": {},
   "outputs": [
    {
     "data": {
      "text/plain": [
       "'Diyali is eligible for driving. You will be tested with Hyundai 110'"
      ]
     },
     "execution_count": 5,
     "metadata": {},
     "output_type": "execute_result"
    }
   ],
   "source": [
    "driving_test(\"Diyali\", 19, car=\"Hyundai 110\")  # can't do this\n"
   ]
  },
  {
   "cell_type": "code",
   "execution_count": null,
   "metadata": {},
   "outputs": [],
   "source": [
    "driving_test(\"Diyali\",car=\"Hyundai 110\", age = 19)  # Positional arguments need to stay in order and be in front. Keyword arguments trail and can be in any order\n"
   ]
  },
  {
   "cell_type": "code",
   "execution_count": 7,
   "metadata": {},
   "outputs": [],
   "source": [
    "#driving_test(car = \"Hyundai 110\", age = 19) # parameters > Arguments we error out\n"
   ]
  },
  {
   "cell_type": "code",
   "execution_count": 10,
   "metadata": {},
   "outputs": [],
   "source": [
    "def driving_test(name, age, car = \"Polo Vivo\"):  # parameter (matching based on pposition)\n",
    "    return (\n",
    "        f\"{name} is eligible for driving. You will be tested with {car}\"\n",
    "        if age >= 18\n",
    "        else \"Try again after few years 👶\"\n",
    "    )\n"
   ]
  },
  {
   "cell_type": "code",
   "execution_count": 11,
   "metadata": {},
   "outputs": [
    {
     "data": {
      "text/plain": [
       "'Ethan is eligible for driving. You will be tested with Polo Vivo'"
      ]
     },
     "execution_count": 11,
     "metadata": {},
     "output_type": "execute_result"
    }
   ],
   "source": [
    "driving_test(\"Ethan\", 19)"
   ]
  },
  {
   "cell_type": "code",
   "execution_count": null,
   "metadata": {},
   "outputs": [],
   "source": [
    "def driving_test1(\n",
    "    age, name=\"Mr./Mrs. cool\", car=\"Polo Vivo\"\n",
    "):  # Default value - Order matters ✅\n",
    "    if age >= 18:\n",
    "        return f\"{name} is eligible for driving test. You will be tested with {car}\"\n",
    "    else:\n",
    "        return \"Try again after few years 👶🍼\"\n"
   ]
  },
  {
   "cell_type": "code",
   "execution_count": null,
   "metadata": {},
   "outputs": [],
   "source": [
    "def driving_test2(\n",
    "    name=\"Mr./Mrs. cool\", age=0, car=\"Polo Vivo\"\n",
    "):  # Default value - Order matters ✅\n",
    "    if age >= 18:\n",
    "        return f\"{name} is eligible for driving test. You will be tested with {car}\"\n",
    "    else:\n",
    "        return \"Try again after few years 👶🍼\"\n"
   ]
  },
  {
   "cell_type": "code",
   "execution_count": null,
   "metadata": {},
   "outputs": [],
   "source": [
    "driving_test2()\n"
   ]
  },
  {
   "cell_type": "code",
   "execution_count": null,
   "metadata": {},
   "outputs": [],
   "source": [
    "driving_test2(age=18)\n"
   ]
  }
 ],
 "metadata": {
  "kernelspec": {
   "display_name": ".venv",
   "language": "python",
   "name": "python3"
  },
  "language_info": {
   "codemirror_mode": {
    "name": "ipython",
    "version": 3
   },
   "file_extension": ".py",
   "mimetype": "text/x-python",
   "name": "python",
   "nbconvert_exporter": "python",
   "pygments_lexer": "ipython3",
   "version": "3.13.2"
  }
 },
 "nbformat": 4,
 "nbformat_minor": 2
}
